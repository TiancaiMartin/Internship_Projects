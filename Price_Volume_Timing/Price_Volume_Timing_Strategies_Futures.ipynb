{
 "cells": [
  {
   "cell_type": "code",
   "execution_count": 1,
   "metadata": {},
   "outputs": [],
   "source": [
    "import numpy as np\n",
    "import pandas as pd\n",
    "from sklearn.preprocessing import StandardScaler\n",
    "from scipy.stats import pearsonr\n",
    "import empyrical as ep\n",
    "import matplotlib.pyplot as plt\n",
    "from tqdm import tqdm"
   ]
  },
  {
   "cell_type": "code",
   "execution_count": 2,
   "metadata": {},
   "outputs": [],
   "source": [
    "def brownian_correlation(prices1, volumes1, prices2, volumes2):\n",
    "    # 计算价格序列的Pearson相关系数\n",
    "    price_correlation, _ = pearsonr(prices1, prices2)\n",
    "    # 计算成交量序列的Pearson相关系数\n",
    "    volume_correlation, _ = pearsonr(volumes1, volumes2)\n",
    "    # 计算Brownian相关系数\n",
    "    brownian_corr = np.sqrt(price_correlation ** 2 + volume_correlation ** 2)\n",
    "\n",
    "    return brownian_corr"
   ]
  },
  {
   "cell_type": "code",
   "execution_count": 3,
   "metadata": {},
   "outputs": [],
   "source": [
    "# 遍历二维序列，选择每一个窗口序列，计算其与其他所有同长度序列的Brownian相关系数\n",
    "# 选择典型序列\n",
    "def gnerate_signal_for_pairs(pairs,typical_price, typical_volume, typical_signal):\n",
    "    # 计算Brownian相关系数\n",
    "    brownian_corr = []\n",
    "    for price, volume, signal in pairs:\n",
    "        brownian_corr.append(brownian_correlation(typical_price, typical_volume, price, volume))\n",
    "    # 选择相关系数最高的7个窗口，不含典型序列自身\n",
    "    # 相关系数最高的7个窗口\n",
    "    top7 = np.argsort(brownian_corr)[-8:-1]\n",
    "    # 计算相关系数最高的7个窗口的平均价格序列和平均成交量序列\n",
    "    # 平均价格序列\n",
    "    mean_price = np.mean([pairs[i][0] for i in top7], axis=0)\n",
    "    # 平均成交量序列\n",
    "    mean_volume = np.mean([pairs[i][1] for i in top7], axis=0)\n",
    "    # 计算平均价格序列和平均成交量序列的涨跌幅\n",
    "    # 平均价格序列的涨跌幅\n",
    "    mean_price_changes = np.diff(mean_price)\n",
    "    # 平均成交量序列的涨跌幅\n",
    "    mean_volume_changes = np.diff(mean_volume)\n",
    "    # 将得到的平均价格序列涨跌幅和平均成交量序列涨跌幅作为典型序列的预测价格涨跌幅和预测成交量涨跌幅\n",
    "    # 根据所得预测价格涨跌幅和预测成交量涨跌幅，设定交易信号\n",
    "    # 交易信号\n",
    "    # 遍历预测价格涨跌幅和预测成交量涨跌幅\n",
    "    for price_change, volume_change in zip(mean_price_changes, mean_volume_changes):\n",
    "        # 如果预测价格涨跌幅和预测成交量涨跌幅均大于0，买入\n",
    "        if price_change > 0 and volume_change > 0:\n",
    "            typical_signal.append(1)\n",
    "        # 如果预测价格涨跌幅和预测成交量涨跌幅均小于0，卖出\n",
    "        elif price_change < 0 and volume_change < 0:\n",
    "            typical_signal.append(-1)\n",
    "        # 其他情况不操作\n",
    "        else:\n",
    "            typical_signal.append(0)\n",
    "    typical_signal.append(0)\n",
    "    return typical_signal"
   ]
  },
  {
   "cell_type": "code",
   "execution_count": 4,
   "metadata": {},
   "outputs": [],
   "source": [
    "#成交量+收盘价\n",
    "def generate_signal_for_df1(df):\n",
    "    # 成交量取对数后标准化\n",
    "\n",
    "    # 使用 StandardScaler 进行标准化\n",
    "    scaler = StandardScaler()\n",
    "    df['std_Vol'] = scaler.fit_transform(df['volume'].values.reshape(-1, 1))\n",
    "\n",
    "    # 使用 StandardScaler 进行标准化\n",
    "    scaler = StandardScaler()\n",
    "    df['std_Close'] = scaler.fit_transform(df['close'].values.reshape(-1, 1))\n",
    "    # 轮动取时间窗口为30的二维序列（取两个series出来）\n",
    "    # 价格序列\n",
    "    prices = df['std_Close'].values\n",
    "    # 成交量序列\n",
    "    volumes = df['std_Vol'].values\n",
    "    # 交易信号序列\n",
    "    signals = []\n",
    "\n",
    "    # 遍历两个序列，取时间窗口为30的二维序列\n",
    "    # 时间窗口大小\n",
    "    window = 30\n",
    "    # 价格涨跌幅阈值\n",
    "    price_change_threshold = 0.01\n",
    "    # 成交量涨跌幅阈值\n",
    "    volume_change_threshold = 0.01\n",
    "    # 三维序列，添加signal列\n",
    "    price_volume_pairs = []\n",
    "    # 遍历序列\n",
    "    for i in range(0, len(prices), window):\n",
    "        # 取时间窗口为30的二维序列\n",
    "        price_volume_pairs.append((prices[i:i + window], volumes[i:i + window], signals[i:i + window]))\n",
    "    \n",
    "    for index, item in enumerate(tqdm(price_volume_pairs)):\n",
    "        typical_price, typical_volume, typical_signal = item\n",
    "        price_volume_pairs[index] = (\n",
    "        (typical_price, typical_volume, gnerate_signal_for_pairs(price_volume_pairs,typical_price, typical_volume, typical_signal)))\n",
    "    \n",
    "    df['Signal'] = np.concatenate([item[2] for item in price_volume_pairs])\n",
    "    return df['Signal']"
   ]
  },
  {
   "cell_type": "code",
   "execution_count": 5,
   "metadata": {},
   "outputs": [],
   "source": [
    "#持仓量+收盘价\n",
    "def generate_signal_for_df2(df):\n",
    "    # 成交量取对数后标准化\n",
    "\n",
    "    # 使用 StandardScaler 进行标准化\n",
    "    scaler = StandardScaler()\n",
    "    df['std_Oi'] = scaler.fit_transform(df['oi'].values.reshape(-1, 1))\n",
    "\n",
    "    # 使用 StandardScaler 进行标准化\n",
    "    scaler = StandardScaler()\n",
    "    df['std_Close'] = scaler.fit_transform(df['close'].values.reshape(-1, 1))\n",
    "    # 轮动取时间窗口为30的二维序列（取两个series出来）\n",
    "    # 价格序列\n",
    "    prices = df['std_Close'].values\n",
    "    # 持仓量序列\n",
    "    ois = df['std_Oi'].values\n",
    "    # 交易信号序列\n",
    "    signals = []\n",
    "\n",
    "    # 遍历两个序列，取时间窗口为30的二维序列\n",
    "    # 时间窗口大小\n",
    "    window = 30\n",
    "    # 价格涨跌幅阈值\n",
    "    price_change_threshold = 0.01\n",
    "    # 持仓量涨跌幅阈值\n",
    "    oi_change_threshold = 0.01\n",
    "    # 三维序列，添加signal列\n",
    "    price_oi_pairs = []\n",
    "    # 遍历序列\n",
    "    for i in range(0, len(prices), window):\n",
    "        # 取时间窗口为30的二维序列\n",
    "        price_oi_pairs.append((prices[i:i + window], ois[i:i + window], signals[i:i + window]))\n",
    "    \n",
    "    for index, item in enumerate(tqdm(price_oi_pairs)):\n",
    "        typical_price, typical_oi, typical_signal = item\n",
    "        price_oi_pairs[index] = (\n",
    "    (typical_price, typical_oi, gnerate_signal_for_pairs(price_oi_pairs,typical_price, typical_oi, typical_signal)))\n",
    "        \n",
    "    df['Signal'] = np.concatenate([item[2] for item in price_oi_pairs])\n",
    "    return df['Signal']"
   ]
  },
  {
   "cell_type": "code",
   "execution_count": 6,
   "metadata": {},
   "outputs": [],
   "source": [
    "st_sel_univ = ['AG', 'AL', 'NI', 'ZN', 'PB', 'CU', 'SN',\n",
    "               'RB', 'HC', 'I', 'J', 'JM', 'FG', 'SA', 'SF', 'SM',\n",
    "               'BU', 'L', 'MA', 'PP', 'RU', 'V', 'TA', 'FU', 'EG', 'SP',\n",
    "               'A', 'M', 'P', 'OI', 'Y', 'SR', 'CF', 'C', 'RM']"
   ]
  },
  {
   "cell_type": "code",
   "execution_count": 7,
   "metadata": {},
   "outputs": [
    {
     "data": {
      "text/html": [
       "<div>\n",
       "<style scoped>\n",
       "    .dataframe tbody tr th:only-of-type {\n",
       "        vertical-align: middle;\n",
       "    }\n",
       "\n",
       "    .dataframe tbody tr th {\n",
       "        vertical-align: top;\n",
       "    }\n",
       "\n",
       "    .dataframe thead th {\n",
       "        text-align: right;\n",
       "    }\n",
       "</style>\n",
       "<table border=\"1\" class=\"dataframe\">\n",
       "  <thead>\n",
       "    <tr style=\"text-align: right;\">\n",
       "      <th></th>\n",
       "      <th>date</th>\n",
       "      <th>2010-01-04</th>\n",
       "      <th>2010-01-05</th>\n",
       "      <th>2010-01-06</th>\n",
       "      <th>2010-01-07</th>\n",
       "      <th>2010-01-08</th>\n",
       "      <th>2010-01-11</th>\n",
       "      <th>2010-01-12</th>\n",
       "      <th>2010-01-13</th>\n",
       "      <th>2010-01-14</th>\n",
       "      <th>2010-01-15</th>\n",
       "      <th>...</th>\n",
       "      <th>2024-01-12</th>\n",
       "      <th>2024-01-15</th>\n",
       "      <th>2024-01-16</th>\n",
       "      <th>2024-01-17</th>\n",
       "      <th>2024-01-18</th>\n",
       "      <th>2024-01-19</th>\n",
       "      <th>2024-01-22</th>\n",
       "      <th>2024-01-23</th>\n",
       "      <th>2024-01-24</th>\n",
       "      <th>2024-01-25</th>\n",
       "    </tr>\n",
       "  </thead>\n",
       "  <tbody>\n",
       "    <tr>\n",
       "      <th rowspan=\"5\" valign=\"top\">A</th>\n",
       "      <th>open</th>\n",
       "      <td>1.005669</td>\n",
       "      <td>1.002465</td>\n",
       "      <td>1.002218</td>\n",
       "      <td>1.026621</td>\n",
       "      <td>0.995810</td>\n",
       "      <td>0.988908</td>\n",
       "      <td>0.985950</td>\n",
       "      <td>0.962534</td>\n",
       "      <td>0.971900</td>\n",
       "      <td>0.962534</td>\n",
       "      <td>...</td>\n",
       "      <td>1.119819</td>\n",
       "      <td>1.115857</td>\n",
       "      <td>1.117489</td>\n",
       "      <td>1.122616</td>\n",
       "      <td>1.117722</td>\n",
       "      <td>1.114459</td>\n",
       "      <td>1.115158</td>\n",
       "      <td>1.111429</td>\n",
       "      <td>1.118654</td>\n",
       "      <td>1.121684</td>\n",
       "    </tr>\n",
       "    <tr>\n",
       "      <th>high</th>\n",
       "      <td>1.008134</td>\n",
       "      <td>1.006162</td>\n",
       "      <td>1.033769</td>\n",
       "      <td>1.032290</td>\n",
       "      <td>0.998275</td>\n",
       "      <td>0.998275</td>\n",
       "      <td>0.993098</td>\n",
       "      <td>0.970668</td>\n",
       "      <td>0.971900</td>\n",
       "      <td>0.973379</td>\n",
       "      <td>...</td>\n",
       "      <td>1.120052</td>\n",
       "      <td>1.117722</td>\n",
       "      <td>1.126811</td>\n",
       "      <td>1.128675</td>\n",
       "      <td>1.119353</td>\n",
       "      <td>1.118188</td>\n",
       "      <td>1.115857</td>\n",
       "      <td>1.118887</td>\n",
       "      <td>1.124947</td>\n",
       "      <td>1.123315</td>\n",
       "    </tr>\n",
       "    <tr>\n",
       "      <th>low</th>\n",
       "      <td>0.998028</td>\n",
       "      <td>1.000739</td>\n",
       "      <td>1.000000</td>\n",
       "      <td>0.979788</td>\n",
       "      <td>0.972886</td>\n",
       "      <td>0.988908</td>\n",
       "      <td>0.981267</td>\n",
       "      <td>0.960316</td>\n",
       "      <td>0.965738</td>\n",
       "      <td>0.961794</td>\n",
       "      <td>...</td>\n",
       "      <td>1.111196</td>\n",
       "      <td>1.106535</td>\n",
       "      <td>1.112129</td>\n",
       "      <td>1.117023</td>\n",
       "      <td>1.108633</td>\n",
       "      <td>1.110264</td>\n",
       "      <td>1.109565</td>\n",
       "      <td>1.107468</td>\n",
       "      <td>1.114692</td>\n",
       "      <td>1.112362</td>\n",
       "    </tr>\n",
       "    <tr>\n",
       "      <th>close</th>\n",
       "      <td>1.000000</td>\n",
       "      <td>1.002218</td>\n",
       "      <td>1.023909</td>\n",
       "      <td>0.996796</td>\n",
       "      <td>0.981267</td>\n",
       "      <td>0.993591</td>\n",
       "      <td>0.986936</td>\n",
       "      <td>0.963520</td>\n",
       "      <td>0.965985</td>\n",
       "      <td>0.964999</td>\n",
       "      <td>...</td>\n",
       "      <td>1.113061</td>\n",
       "      <td>1.115158</td>\n",
       "      <td>1.122616</td>\n",
       "      <td>1.118887</td>\n",
       "      <td>1.112595</td>\n",
       "      <td>1.113993</td>\n",
       "      <td>1.111429</td>\n",
       "      <td>1.116557</td>\n",
       "      <td>1.121684</td>\n",
       "      <td>1.112595</td>\n",
       "    </tr>\n",
       "    <tr>\n",
       "      <th>pct_change</th>\n",
       "      <td>0.000000</td>\n",
       "      <td>0.002218</td>\n",
       "      <td>0.021643</td>\n",
       "      <td>-0.026481</td>\n",
       "      <td>-0.015579</td>\n",
       "      <td>0.012560</td>\n",
       "      <td>-0.006698</td>\n",
       "      <td>-0.023726</td>\n",
       "      <td>0.002558</td>\n",
       "      <td>-0.001021</td>\n",
       "      <td>...</td>\n",
       "      <td>-0.006242</td>\n",
       "      <td>0.001884</td>\n",
       "      <td>0.006688</td>\n",
       "      <td>-0.003322</td>\n",
       "      <td>-0.005624</td>\n",
       "      <td>0.001257</td>\n",
       "      <td>-0.002301</td>\n",
       "      <td>0.004613</td>\n",
       "      <td>0.004592</td>\n",
       "      <td>-0.008103</td>\n",
       "    </tr>\n",
       "    <tr>\n",
       "      <th>...</th>\n",
       "      <th>...</th>\n",
       "      <td>...</td>\n",
       "      <td>...</td>\n",
       "      <td>...</td>\n",
       "      <td>...</td>\n",
       "      <td>...</td>\n",
       "      <td>...</td>\n",
       "      <td>...</td>\n",
       "      <td>...</td>\n",
       "      <td>...</td>\n",
       "      <td>...</td>\n",
       "      <td>...</td>\n",
       "      <td>...</td>\n",
       "      <td>...</td>\n",
       "      <td>...</td>\n",
       "      <td>...</td>\n",
       "      <td>...</td>\n",
       "      <td>...</td>\n",
       "      <td>...</td>\n",
       "      <td>...</td>\n",
       "      <td>...</td>\n",
       "      <td>...</td>\n",
       "    </tr>\n",
       "    <tr>\n",
       "      <th rowspan=\"5\" valign=\"top\">ZN</th>\n",
       "      <th>close</th>\n",
       "      <td>1.000000</td>\n",
       "      <td>1.010030</td>\n",
       "      <td>1.014229</td>\n",
       "      <td>1.013529</td>\n",
       "      <td>0.989503</td>\n",
       "      <td>1.013996</td>\n",
       "      <td>1.002566</td>\n",
       "      <td>0.954047</td>\n",
       "      <td>0.961512</td>\n",
       "      <td>0.954980</td>\n",
       "      <td>...</td>\n",
       "      <td>1.149238</td>\n",
       "      <td>1.154132</td>\n",
       "      <td>1.151685</td>\n",
       "      <td>1.147605</td>\n",
       "      <td>1.129657</td>\n",
       "      <td>1.124490</td>\n",
       "      <td>1.125034</td>\n",
       "      <td>1.135912</td>\n",
       "      <td>1.155764</td>\n",
       "      <td>1.162290</td>\n",
       "    </tr>\n",
       "    <tr>\n",
       "      <th>pct_change</th>\n",
       "      <td>0.000000</td>\n",
       "      <td>0.010030</td>\n",
       "      <td>0.004157</td>\n",
       "      <td>-0.000690</td>\n",
       "      <td>-0.023705</td>\n",
       "      <td>0.024752</td>\n",
       "      <td>-0.011272</td>\n",
       "      <td>-0.048395</td>\n",
       "      <td>0.007824</td>\n",
       "      <td>-0.006793</td>\n",
       "      <td>...</td>\n",
       "      <td>-0.003771</td>\n",
       "      <td>0.004258</td>\n",
       "      <td>-0.002120</td>\n",
       "      <td>-0.003542</td>\n",
       "      <td>-0.015640</td>\n",
       "      <td>-0.004574</td>\n",
       "      <td>0.000484</td>\n",
       "      <td>0.009669</td>\n",
       "      <td>0.017477</td>\n",
       "      <td>0.005647</td>\n",
       "    </tr>\n",
       "    <tr>\n",
       "      <th>volume</th>\n",
       "      <td>37.920800</td>\n",
       "      <td>47.084800</td>\n",
       "      <td>41.559400</td>\n",
       "      <td>52.049800</td>\n",
       "      <td>61.431800</td>\n",
       "      <td>37.344600</td>\n",
       "      <td>44.854800</td>\n",
       "      <td>36.039000</td>\n",
       "      <td>36.066600</td>\n",
       "      <td>41.209200</td>\n",
       "      <td>...</td>\n",
       "      <td>6.810800</td>\n",
       "      <td>9.279400</td>\n",
       "      <td>6.821800</td>\n",
       "      <td>8.139200</td>\n",
       "      <td>13.373300</td>\n",
       "      <td>9.271600</td>\n",
       "      <td>8.455000</td>\n",
       "      <td>9.264500</td>\n",
       "      <td>12.441900</td>\n",
       "      <td>10.244300</td>\n",
       "    </tr>\n",
       "    <tr>\n",
       "      <th>amount</th>\n",
       "      <td>407.794507</td>\n",
       "      <td>506.244472</td>\n",
       "      <td>452.561184</td>\n",
       "      <td>572.035483</td>\n",
       "      <td>653.285836</td>\n",
       "      <td>403.436882</td>\n",
       "      <td>479.215884</td>\n",
       "      <td>371.271720</td>\n",
       "      <td>373.466084</td>\n",
       "      <td>423.367735</td>\n",
       "      <td>...</td>\n",
       "      <td>71.975769</td>\n",
       "      <td>97.981510</td>\n",
       "      <td>72.638088</td>\n",
       "      <td>86.283250</td>\n",
       "      <td>139.483184</td>\n",
       "      <td>96.035770</td>\n",
       "      <td>87.723255</td>\n",
       "      <td>96.273565</td>\n",
       "      <td>131.348779</td>\n",
       "      <td>109.345189</td>\n",
       "    </tr>\n",
       "    <tr>\n",
       "      <th>oi</th>\n",
       "      <td>15.971200</td>\n",
       "      <td>16.802000</td>\n",
       "      <td>16.154400</td>\n",
       "      <td>14.698600</td>\n",
       "      <td>14.068000</td>\n",
       "      <td>13.573800</td>\n",
       "      <td>14.719000</td>\n",
       "      <td>13.454000</td>\n",
       "      <td>14.202400</td>\n",
       "      <td>13.316600</td>\n",
       "      <td>...</td>\n",
       "      <td>5.942900</td>\n",
       "      <td>5.315600</td>\n",
       "      <td>4.716700</td>\n",
       "      <td>8.297100</td>\n",
       "      <td>8.969500</td>\n",
       "      <td>9.068100</td>\n",
       "      <td>8.966600</td>\n",
       "      <td>8.976100</td>\n",
       "      <td>8.534000</td>\n",
       "      <td>8.951800</td>\n",
       "    </tr>\n",
       "  </tbody>\n",
       "</table>\n",
       "<p>496 rows × 3419 columns</p>\n",
       "</div>"
      ],
      "text/plain": [
       "date           2010-01-04  2010-01-05  2010-01-06  2010-01-07  2010-01-08  \\\n",
       "A  open          1.005669    1.002465    1.002218    1.026621    0.995810   \n",
       "   high          1.008134    1.006162    1.033769    1.032290    0.998275   \n",
       "   low           0.998028    1.000739    1.000000    0.979788    0.972886   \n",
       "   close         1.000000    1.002218    1.023909    0.996796    0.981267   \n",
       "   pct_change    0.000000    0.002218    0.021643   -0.026481   -0.015579   \n",
       "...                   ...         ...         ...         ...         ...   \n",
       "ZN close         1.000000    1.010030    1.014229    1.013529    0.989503   \n",
       "   pct_change    0.000000    0.010030    0.004157   -0.000690   -0.023705   \n",
       "   volume       37.920800   47.084800   41.559400   52.049800   61.431800   \n",
       "   amount      407.794507  506.244472  452.561184  572.035483  653.285836   \n",
       "   oi           15.971200   16.802000   16.154400   14.698600   14.068000   \n",
       "\n",
       "date           2010-01-11  2010-01-12  2010-01-13  2010-01-14  2010-01-15  \\\n",
       "A  open          0.988908    0.985950    0.962534    0.971900    0.962534   \n",
       "   high          0.998275    0.993098    0.970668    0.971900    0.973379   \n",
       "   low           0.988908    0.981267    0.960316    0.965738    0.961794   \n",
       "   close         0.993591    0.986936    0.963520    0.965985    0.964999   \n",
       "   pct_change    0.012560   -0.006698   -0.023726    0.002558   -0.001021   \n",
       "...                   ...         ...         ...         ...         ...   \n",
       "ZN close         1.013996    1.002566    0.954047    0.961512    0.954980   \n",
       "   pct_change    0.024752   -0.011272   -0.048395    0.007824   -0.006793   \n",
       "   volume       37.344600   44.854800   36.039000   36.066600   41.209200   \n",
       "   amount      403.436882  479.215884  371.271720  373.466084  423.367735   \n",
       "   oi           13.573800   14.719000   13.454000   14.202400   13.316600   \n",
       "\n",
       "date           ...  2024-01-12  2024-01-15  2024-01-16  2024-01-17  \\\n",
       "A  open        ...    1.119819    1.115857    1.117489    1.122616   \n",
       "   high        ...    1.120052    1.117722    1.126811    1.128675   \n",
       "   low         ...    1.111196    1.106535    1.112129    1.117023   \n",
       "   close       ...    1.113061    1.115158    1.122616    1.118887   \n",
       "   pct_change  ...   -0.006242    0.001884    0.006688   -0.003322   \n",
       "...            ...         ...         ...         ...         ...   \n",
       "ZN close       ...    1.149238    1.154132    1.151685    1.147605   \n",
       "   pct_change  ...   -0.003771    0.004258   -0.002120   -0.003542   \n",
       "   volume      ...    6.810800    9.279400    6.821800    8.139200   \n",
       "   amount      ...   71.975769   97.981510   72.638088   86.283250   \n",
       "   oi          ...    5.942900    5.315600    4.716700    8.297100   \n",
       "\n",
       "date           2024-01-18  2024-01-19  2024-01-22  2024-01-23  2024-01-24  \\\n",
       "A  open          1.117722    1.114459    1.115158    1.111429    1.118654   \n",
       "   high          1.119353    1.118188    1.115857    1.118887    1.124947   \n",
       "   low           1.108633    1.110264    1.109565    1.107468    1.114692   \n",
       "   close         1.112595    1.113993    1.111429    1.116557    1.121684   \n",
       "   pct_change   -0.005624    0.001257   -0.002301    0.004613    0.004592   \n",
       "...                   ...         ...         ...         ...         ...   \n",
       "ZN close         1.129657    1.124490    1.125034    1.135912    1.155764   \n",
       "   pct_change   -0.015640   -0.004574    0.000484    0.009669    0.017477   \n",
       "   volume       13.373300    9.271600    8.455000    9.264500   12.441900   \n",
       "   amount      139.483184   96.035770   87.723255   96.273565  131.348779   \n",
       "   oi            8.969500    9.068100    8.966600    8.976100    8.534000   \n",
       "\n",
       "date           2024-01-25  \n",
       "A  open          1.121684  \n",
       "   high          1.123315  \n",
       "   low           1.112362  \n",
       "   close         1.112595  \n",
       "   pct_change   -0.008103  \n",
       "...                   ...  \n",
       "ZN close         1.162290  \n",
       "   pct_change    0.005647  \n",
       "   volume       10.244300  \n",
       "   amount      109.345189  \n",
       "   oi            8.951800  \n",
       "\n",
       "[496 rows x 3419 columns]"
      ]
     },
     "execution_count": 7,
     "metadata": {},
     "output_type": "execute_result"
    }
   ],
   "source": [
    "#行情数据\n",
    "sec_post_1d_df = pd.read_pickle(r'/Users/tiancaixiaohuoban/Desktop/实习/买方实习/中信建投期货（金融工程）/策略设计/dom_cont_post_1d')\n",
    "sec_post_1d_df"
   ]
  },
  {
   "cell_type": "code",
   "execution_count": 8,
   "metadata": {
    "scrolled": true
   },
   "outputs": [],
   "source": [
    "# df = sec_post_1d_df.loc['AG'].T\n",
    "# df = df.fillna(df.mean())"
   ]
  },
  {
   "cell_type": "code",
   "execution_count": 9,
   "metadata": {},
   "outputs": [],
   "source": [
    "# #test\n",
    "# test_signal_df1 = generate_signal_for_df1(df.head(3390))"
   ]
  },
  {
   "cell_type": "code",
   "execution_count": 10,
   "metadata": {},
   "outputs": [
    {
     "name": "stderr",
     "output_type": "stream",
     "text": [
      "<ipython-input-4-c3b15e353e63>:7: SettingWithCopyWarning: \n",
      "A value is trying to be set on a copy of a slice from a DataFrame.\n",
      "Try using .loc[row_indexer,col_indexer] = value instead\n",
      "\n",
      "See the caveats in the documentation: https://pandas.pydata.org/pandas-docs/stable/user_guide/indexing.html#returning-a-view-versus-a-copy\n",
      "  df['std_Vol'] = scaler.fit_transform(df['volume'].values.reshape(-1, 1))\n",
      "<ipython-input-4-c3b15e353e63>:11: SettingWithCopyWarning: \n",
      "A value is trying to be set on a copy of a slice from a DataFrame.\n",
      "Try using .loc[row_indexer,col_indexer] = value instead\n",
      "\n",
      "See the caveats in the documentation: https://pandas.pydata.org/pandas-docs/stable/user_guide/indexing.html#returning-a-view-versus-a-copy\n",
      "  df['std_Close'] = scaler.fit_transform(df['close'].values.reshape(-1, 1))\n",
      "  0%|          | 0/113 [00:00<?, ?it/s]"
     ]
    },
    {
     "name": "stdout",
     "output_type": "stream",
     "text": [
      "AG\n"
     ]
    },
    {
     "name": "stderr",
     "output_type": "stream",
     "text": [
      "/Users/tiancaixiaohuoban/opt/anaconda3/lib/python3.8/site-packages/scipy/stats/stats.py:3845: PearsonRConstantInputWarning: An input array is constant; the correlation coefficent is not defined.\n",
      "  warnings.warn(PearsonRConstantInputWarning())\n",
      "100%|██████████| 113/113 [00:02<00:00, 49.34it/s]\n",
      "<ipython-input-4-c3b15e353e63>:39: SettingWithCopyWarning: \n",
      "A value is trying to be set on a copy of a slice from a DataFrame.\n",
      "Try using .loc[row_indexer,col_indexer] = value instead\n",
      "\n",
      "See the caveats in the documentation: https://pandas.pydata.org/pandas-docs/stable/user_guide/indexing.html#returning-a-view-versus-a-copy\n",
      "  df['Signal'] = np.concatenate([item[2] for item in price_volume_pairs])\n",
      "<ipython-input-4-c3b15e353e63>:7: SettingWithCopyWarning: \n",
      "A value is trying to be set on a copy of a slice from a DataFrame.\n",
      "Try using .loc[row_indexer,col_indexer] = value instead\n",
      "\n",
      "See the caveats in the documentation: https://pandas.pydata.org/pandas-docs/stable/user_guide/indexing.html#returning-a-view-versus-a-copy\n",
      "  df['std_Vol'] = scaler.fit_transform(df['volume'].values.reshape(-1, 1))\n",
      "<ipython-input-4-c3b15e353e63>:11: SettingWithCopyWarning: \n",
      "A value is trying to be set on a copy of a slice from a DataFrame.\n",
      "Try using .loc[row_indexer,col_indexer] = value instead\n",
      "\n",
      "See the caveats in the documentation: https://pandas.pydata.org/pandas-docs/stable/user_guide/indexing.html#returning-a-view-versus-a-copy\n",
      "  df['std_Close'] = scaler.fit_transform(df['close'].values.reshape(-1, 1))\n",
      "  0%|          | 0/113 [00:00<?, ?it/s]/Users/tiancaixiaohuoban/opt/anaconda3/lib/python3.8/site-packages/scipy/stats/stats.py:3845: PearsonRConstantInputWarning: An input array is constant; the correlation coefficent is not defined.\n",
      "  warnings.warn(PearsonRConstantInputWarning())\n",
      " 34%|███▎      | 38/113 [00:00<00:00, 367.14it/s]"
     ]
    },
    {
     "name": "stdout",
     "output_type": "stream",
     "text": [
      "AL\n"
     ]
    },
    {
     "name": "stderr",
     "output_type": "stream",
     "text": [
      "100%|██████████| 113/113 [00:00<00:00, 173.82it/s]\n",
      "<ipython-input-4-c3b15e353e63>:39: SettingWithCopyWarning: \n",
      "A value is trying to be set on a copy of a slice from a DataFrame.\n",
      "Try using .loc[row_indexer,col_indexer] = value instead\n",
      "\n",
      "See the caveats in the documentation: https://pandas.pydata.org/pandas-docs/stable/user_guide/indexing.html#returning-a-view-versus-a-copy\n",
      "  df['Signal'] = np.concatenate([item[2] for item in price_volume_pairs])\n",
      "<ipython-input-4-c3b15e353e63>:7: SettingWithCopyWarning: \n",
      "A value is trying to be set on a copy of a slice from a DataFrame.\n",
      "Try using .loc[row_indexer,col_indexer] = value instead\n",
      "\n",
      "See the caveats in the documentation: https://pandas.pydata.org/pandas-docs/stable/user_guide/indexing.html#returning-a-view-versus-a-copy\n",
      "  df['std_Vol'] = scaler.fit_transform(df['volume'].values.reshape(-1, 1))\n",
      "<ipython-input-4-c3b15e353e63>:11: SettingWithCopyWarning: \n",
      "A value is trying to be set on a copy of a slice from a DataFrame.\n",
      "Try using .loc[row_indexer,col_indexer] = value instead\n",
      "\n",
      "See the caveats in the documentation: https://pandas.pydata.org/pandas-docs/stable/user_guide/indexing.html#returning-a-view-versus-a-copy\n",
      "  df['std_Close'] = scaler.fit_transform(df['close'].values.reshape(-1, 1))\n",
      "  0%|          | 0/113 [00:00<?, ?it/s]/Users/tiancaixiaohuoban/opt/anaconda3/lib/python3.8/site-packages/scipy/stats/stats.py:3845: PearsonRConstantInputWarning: An input array is constant; the correlation coefficent is not defined.\n",
      "  warnings.warn(PearsonRConstantInputWarning())\n",
      " 42%|████▏     | 48/113 [00:00<00:00, 448.88it/s]"
     ]
    },
    {
     "name": "stdout",
     "output_type": "stream",
     "text": [
      "NI\n"
     ]
    },
    {
     "name": "stderr",
     "output_type": "stream",
     "text": [
      "100%|██████████| 113/113 [00:00<00:00, 190.50it/s]\n",
      "<ipython-input-4-c3b15e353e63>:39: SettingWithCopyWarning: \n",
      "A value is trying to be set on a copy of a slice from a DataFrame.\n",
      "Try using .loc[row_indexer,col_indexer] = value instead\n",
      "\n",
      "See the caveats in the documentation: https://pandas.pydata.org/pandas-docs/stable/user_guide/indexing.html#returning-a-view-versus-a-copy\n",
      "  df['Signal'] = np.concatenate([item[2] for item in price_volume_pairs])\n",
      "<ipython-input-4-c3b15e353e63>:7: SettingWithCopyWarning: \n",
      "A value is trying to be set on a copy of a slice from a DataFrame.\n",
      "Try using .loc[row_indexer,col_indexer] = value instead\n",
      "\n",
      "See the caveats in the documentation: https://pandas.pydata.org/pandas-docs/stable/user_guide/indexing.html#returning-a-view-versus-a-copy\n",
      "  df['std_Vol'] = scaler.fit_transform(df['volume'].values.reshape(-1, 1))\n",
      "<ipython-input-4-c3b15e353e63>:11: SettingWithCopyWarning: \n",
      "A value is trying to be set on a copy of a slice from a DataFrame.\n",
      "Try using .loc[row_indexer,col_indexer] = value instead\n",
      "\n",
      "See the caveats in the documentation: https://pandas.pydata.org/pandas-docs/stable/user_guide/indexing.html#returning-a-view-versus-a-copy\n",
      "  df['std_Close'] = scaler.fit_transform(df['close'].values.reshape(-1, 1))\n",
      " 11%|█         | 12/113 [00:00<00:00, 117.09it/s]"
     ]
    },
    {
     "name": "stdout",
     "output_type": "stream",
     "text": [
      "ZN\n"
     ]
    },
    {
     "name": "stderr",
     "output_type": "stream",
     "text": [
      "100%|██████████| 113/113 [00:00<00:00, 114.24it/s]\n",
      "<ipython-input-4-c3b15e353e63>:39: SettingWithCopyWarning: \n",
      "A value is trying to be set on a copy of a slice from a DataFrame.\n",
      "Try using .loc[row_indexer,col_indexer] = value instead\n",
      "\n",
      "See the caveats in the documentation: https://pandas.pydata.org/pandas-docs/stable/user_guide/indexing.html#returning-a-view-versus-a-copy\n",
      "  df['Signal'] = np.concatenate([item[2] for item in price_volume_pairs])\n",
      "<ipython-input-4-c3b15e353e63>:7: SettingWithCopyWarning: \n",
      "A value is trying to be set on a copy of a slice from a DataFrame.\n",
      "Try using .loc[row_indexer,col_indexer] = value instead\n",
      "\n",
      "See the caveats in the documentation: https://pandas.pydata.org/pandas-docs/stable/user_guide/indexing.html#returning-a-view-versus-a-copy\n",
      "  df['std_Vol'] = scaler.fit_transform(df['volume'].values.reshape(-1, 1))\n",
      "<ipython-input-4-c3b15e353e63>:11: SettingWithCopyWarning: \n",
      "A value is trying to be set on a copy of a slice from a DataFrame.\n",
      "Try using .loc[row_indexer,col_indexer] = value instead\n",
      "\n",
      "See the caveats in the documentation: https://pandas.pydata.org/pandas-docs/stable/user_guide/indexing.html#returning-a-view-versus-a-copy\n",
      "  df['std_Close'] = scaler.fit_transform(df['close'].values.reshape(-1, 1))\n",
      "  0%|          | 0/113 [00:00<?, ?it/s]/Users/tiancaixiaohuoban/opt/anaconda3/lib/python3.8/site-packages/scipy/stats/stats.py:3845: PearsonRConstantInputWarning: An input array is constant; the correlation coefficent is not defined.\n",
      "  warnings.warn(PearsonRConstantInputWarning())\n",
      " 53%|█████▎    | 60/113 [00:00<00:00, 588.91it/s]"
     ]
    },
    {
     "name": "stdout",
     "output_type": "stream",
     "text": [
      "PB\n"
     ]
    },
    {
     "name": "stderr",
     "output_type": "stream",
     "text": [
      "100%|██████████| 113/113 [00:00<00:00, 250.26it/s]\n",
      "<ipython-input-4-c3b15e353e63>:39: SettingWithCopyWarning: \n",
      "A value is trying to be set on a copy of a slice from a DataFrame.\n",
      "Try using .loc[row_indexer,col_indexer] = value instead\n",
      "\n",
      "See the caveats in the documentation: https://pandas.pydata.org/pandas-docs/stable/user_guide/indexing.html#returning-a-view-versus-a-copy\n",
      "  df['Signal'] = np.concatenate([item[2] for item in price_volume_pairs])\n",
      "<ipython-input-4-c3b15e353e63>:7: SettingWithCopyWarning: \n",
      "A value is trying to be set on a copy of a slice from a DataFrame.\n",
      "Try using .loc[row_indexer,col_indexer] = value instead\n",
      "\n",
      "See the caveats in the documentation: https://pandas.pydata.org/pandas-docs/stable/user_guide/indexing.html#returning-a-view-versus-a-copy\n",
      "  df['std_Vol'] = scaler.fit_transform(df['volume'].values.reshape(-1, 1))\n",
      "<ipython-input-4-c3b15e353e63>:11: SettingWithCopyWarning: \n",
      "A value is trying to be set on a copy of a slice from a DataFrame.\n",
      "Try using .loc[row_indexer,col_indexer] = value instead\n",
      "\n",
      "See the caveats in the documentation: https://pandas.pydata.org/pandas-docs/stable/user_guide/indexing.html#returning-a-view-versus-a-copy\n",
      "  df['std_Close'] = scaler.fit_transform(df['close'].values.reshape(-1, 1))\n",
      "  8%|▊         | 9/113 [00:00<00:01, 89.83it/s]"
     ]
    },
    {
     "name": "stdout",
     "output_type": "stream",
     "text": [
      "CU\n"
     ]
    },
    {
     "name": "stderr",
     "output_type": "stream",
     "text": [
      "100%|██████████| 113/113 [00:01<00:00, 108.41it/s]\n",
      "<ipython-input-4-c3b15e353e63>:39: SettingWithCopyWarning: \n",
      "A value is trying to be set on a copy of a slice from a DataFrame.\n",
      "Try using .loc[row_indexer,col_indexer] = value instead\n",
      "\n",
      "See the caveats in the documentation: https://pandas.pydata.org/pandas-docs/stable/user_guide/indexing.html#returning-a-view-versus-a-copy\n",
      "  df['Signal'] = np.concatenate([item[2] for item in price_volume_pairs])\n",
      "<ipython-input-4-c3b15e353e63>:7: SettingWithCopyWarning: \n",
      "A value is trying to be set on a copy of a slice from a DataFrame.\n",
      "Try using .loc[row_indexer,col_indexer] = value instead\n",
      "\n",
      "See the caveats in the documentation: https://pandas.pydata.org/pandas-docs/stable/user_guide/indexing.html#returning-a-view-versus-a-copy\n",
      "  df['std_Vol'] = scaler.fit_transform(df['volume'].values.reshape(-1, 1))\n",
      "<ipython-input-4-c3b15e353e63>:11: SettingWithCopyWarning: \n",
      "A value is trying to be set on a copy of a slice from a DataFrame.\n",
      "Try using .loc[row_indexer,col_indexer] = value instead\n",
      "\n",
      "See the caveats in the documentation: https://pandas.pydata.org/pandas-docs/stable/user_guide/indexing.html#returning-a-view-versus-a-copy\n",
      "  df['std_Close'] = scaler.fit_transform(df['close'].values.reshape(-1, 1))\n",
      "  0%|          | 0/113 [00:00<?, ?it/s]/Users/tiancaixiaohuoban/opt/anaconda3/lib/python3.8/site-packages/scipy/stats/stats.py:3845: PearsonRConstantInputWarning: An input array is constant; the correlation coefficent is not defined.\n",
      "  warnings.warn(PearsonRConstantInputWarning())\n",
      " 47%|████▋     | 53/113 [00:00<00:00, 498.19it/s]"
     ]
    },
    {
     "name": "stdout",
     "output_type": "stream",
     "text": [
      "SN\n"
     ]
    },
    {
     "name": "stderr",
     "output_type": "stream",
     "text": [
      "100%|██████████| 113/113 [00:00<00:00, 229.01it/s]\n",
      "<ipython-input-4-c3b15e353e63>:39: SettingWithCopyWarning: \n",
      "A value is trying to be set on a copy of a slice from a DataFrame.\n",
      "Try using .loc[row_indexer,col_indexer] = value instead\n",
      "\n",
      "See the caveats in the documentation: https://pandas.pydata.org/pandas-docs/stable/user_guide/indexing.html#returning-a-view-versus-a-copy\n",
      "  df['Signal'] = np.concatenate([item[2] for item in price_volume_pairs])\n",
      "<ipython-input-4-c3b15e353e63>:7: SettingWithCopyWarning: \n",
      "A value is trying to be set on a copy of a slice from a DataFrame.\n",
      "Try using .loc[row_indexer,col_indexer] = value instead\n",
      "\n",
      "See the caveats in the documentation: https://pandas.pydata.org/pandas-docs/stable/user_guide/indexing.html#returning-a-view-versus-a-copy\n",
      "  df['std_Vol'] = scaler.fit_transform(df['volume'].values.reshape(-1, 1))\n",
      "<ipython-input-4-c3b15e353e63>:11: SettingWithCopyWarning: \n",
      "A value is trying to be set on a copy of a slice from a DataFrame.\n",
      "Try using .loc[row_indexer,col_indexer] = value instead\n",
      "\n",
      "See the caveats in the documentation: https://pandas.pydata.org/pandas-docs/stable/user_guide/indexing.html#returning-a-view-versus-a-copy\n",
      "  df['std_Close'] = scaler.fit_transform(df['close'].values.reshape(-1, 1))\n",
      " 11%|█         | 12/113 [00:00<00:00, 115.20it/s]"
     ]
    },
    {
     "name": "stdout",
     "output_type": "stream",
     "text": [
      "RB\n"
     ]
    },
    {
     "name": "stderr",
     "output_type": "stream",
     "text": [
      "100%|██████████| 113/113 [00:01<00:00, 111.25it/s]\n",
      "<ipython-input-4-c3b15e353e63>:39: SettingWithCopyWarning: \n",
      "A value is trying to be set on a copy of a slice from a DataFrame.\n",
      "Try using .loc[row_indexer,col_indexer] = value instead\n",
      "\n",
      "See the caveats in the documentation: https://pandas.pydata.org/pandas-docs/stable/user_guide/indexing.html#returning-a-view-versus-a-copy\n",
      "  df['Signal'] = np.concatenate([item[2] for item in price_volume_pairs])\n",
      "<ipython-input-4-c3b15e353e63>:7: SettingWithCopyWarning: \n",
      "A value is trying to be set on a copy of a slice from a DataFrame.\n",
      "Try using .loc[row_indexer,col_indexer] = value instead\n",
      "\n",
      "See the caveats in the documentation: https://pandas.pydata.org/pandas-docs/stable/user_guide/indexing.html#returning-a-view-versus-a-copy\n",
      "  df['std_Vol'] = scaler.fit_transform(df['volume'].values.reshape(-1, 1))\n",
      "<ipython-input-4-c3b15e353e63>:11: SettingWithCopyWarning: \n",
      "A value is trying to be set on a copy of a slice from a DataFrame.\n",
      "Try using .loc[row_indexer,col_indexer] = value instead\n",
      "\n",
      "See the caveats in the documentation: https://pandas.pydata.org/pandas-docs/stable/user_guide/indexing.html#returning-a-view-versus-a-copy\n",
      "  df['std_Close'] = scaler.fit_transform(df['close'].values.reshape(-1, 1))\n",
      "  0%|          | 0/113 [00:00<?, ?it/s]/Users/tiancaixiaohuoban/opt/anaconda3/lib/python3.8/site-packages/scipy/stats/stats.py:3845: PearsonRConstantInputWarning: An input array is constant; the correlation coefficent is not defined.\n",
      "  warnings.warn(PearsonRConstantInputWarning())\n",
      " 48%|████▊     | 54/113 [00:00<00:00, 516.85it/s]"
     ]
    },
    {
     "name": "stdout",
     "output_type": "stream",
     "text": [
      "HC\n"
     ]
    },
    {
     "name": "stderr",
     "output_type": "stream",
     "text": [
      "100%|██████████| 113/113 [00:00<00:00, 240.15it/s]\n",
      "<ipython-input-4-c3b15e353e63>:39: SettingWithCopyWarning: \n",
      "A value is trying to be set on a copy of a slice from a DataFrame.\n",
      "Try using .loc[row_indexer,col_indexer] = value instead\n",
      "\n",
      "See the caveats in the documentation: https://pandas.pydata.org/pandas-docs/stable/user_guide/indexing.html#returning-a-view-versus-a-copy\n",
      "  df['Signal'] = np.concatenate([item[2] for item in price_volume_pairs])\n",
      "<ipython-input-4-c3b15e353e63>:7: SettingWithCopyWarning: \n",
      "A value is trying to be set on a copy of a slice from a DataFrame.\n",
      "Try using .loc[row_indexer,col_indexer] = value instead\n",
      "\n",
      "See the caveats in the documentation: https://pandas.pydata.org/pandas-docs/stable/user_guide/indexing.html#returning-a-view-versus-a-copy\n",
      "  df['std_Vol'] = scaler.fit_transform(df['volume'].values.reshape(-1, 1))\n",
      "<ipython-input-4-c3b15e353e63>:11: SettingWithCopyWarning: \n",
      "A value is trying to be set on a copy of a slice from a DataFrame.\n",
      "Try using .loc[row_indexer,col_indexer] = value instead\n",
      "\n",
      "See the caveats in the documentation: https://pandas.pydata.org/pandas-docs/stable/user_guide/indexing.html#returning-a-view-versus-a-copy\n",
      "  df['std_Close'] = scaler.fit_transform(df['close'].values.reshape(-1, 1))\n",
      "  0%|          | 0/113 [00:00<?, ?it/s]/Users/tiancaixiaohuoban/opt/anaconda3/lib/python3.8/site-packages/scipy/stats/stats.py:3845: PearsonRConstantInputWarning: An input array is constant; the correlation coefficent is not defined.\n",
      "  warnings.warn(PearsonRConstantInputWarning())\n",
      " 35%|███▌      | 40/113 [00:00<00:00, 380.56it/s]"
     ]
    },
    {
     "name": "stdout",
     "output_type": "stream",
     "text": [
      "I\n"
     ]
    },
    {
     "name": "stderr",
     "output_type": "stream",
     "text": [
      "100%|██████████| 113/113 [00:00<00:00, 175.18it/s]\n",
      "<ipython-input-4-c3b15e353e63>:39: SettingWithCopyWarning: \n",
      "A value is trying to be set on a copy of a slice from a DataFrame.\n",
      "Try using .loc[row_indexer,col_indexer] = value instead\n",
      "\n",
      "See the caveats in the documentation: https://pandas.pydata.org/pandas-docs/stable/user_guide/indexing.html#returning-a-view-versus-a-copy\n",
      "  df['Signal'] = np.concatenate([item[2] for item in price_volume_pairs])\n",
      "<ipython-input-4-c3b15e353e63>:7: SettingWithCopyWarning: \n",
      "A value is trying to be set on a copy of a slice from a DataFrame.\n",
      "Try using .loc[row_indexer,col_indexer] = value instead\n",
      "\n",
      "See the caveats in the documentation: https://pandas.pydata.org/pandas-docs/stable/user_guide/indexing.html#returning-a-view-versus-a-copy\n",
      "  df['std_Vol'] = scaler.fit_transform(df['volume'].values.reshape(-1, 1))\n",
      "<ipython-input-4-c3b15e353e63>:11: SettingWithCopyWarning: \n",
      "A value is trying to be set on a copy of a slice from a DataFrame.\n",
      "Try using .loc[row_indexer,col_indexer] = value instead\n",
      "\n",
      "See the caveats in the documentation: https://pandas.pydata.org/pandas-docs/stable/user_guide/indexing.html#returning-a-view-versus-a-copy\n",
      "  df['std_Close'] = scaler.fit_transform(df['close'].values.reshape(-1, 1))\n",
      "  0%|          | 0/113 [00:00<?, ?it/s]/Users/tiancaixiaohuoban/opt/anaconda3/lib/python3.8/site-packages/scipy/stats/stats.py:3845: PearsonRConstantInputWarning: An input array is constant; the correlation coefficent is not defined.\n",
      "  warnings.warn(PearsonRConstantInputWarning())\n",
      " 27%|██▋       | 30/113 [00:00<00:00, 287.41it/s]"
     ]
    },
    {
     "name": "stdout",
     "output_type": "stream",
     "text": [
      "J\n"
     ]
    },
    {
     "name": "stderr",
     "output_type": "stream",
     "text": [
      "100%|██████████| 113/113 [00:00<00:00, 147.17it/s]\n",
      "<ipython-input-4-c3b15e353e63>:39: SettingWithCopyWarning: \n",
      "A value is trying to be set on a copy of a slice from a DataFrame.\n",
      "Try using .loc[row_indexer,col_indexer] = value instead\n",
      "\n",
      "See the caveats in the documentation: https://pandas.pydata.org/pandas-docs/stable/user_guide/indexing.html#returning-a-view-versus-a-copy\n",
      "  df['Signal'] = np.concatenate([item[2] for item in price_volume_pairs])\n",
      "<ipython-input-4-c3b15e353e63>:7: SettingWithCopyWarning: \n",
      "A value is trying to be set on a copy of a slice from a DataFrame.\n",
      "Try using .loc[row_indexer,col_indexer] = value instead\n",
      "\n",
      "See the caveats in the documentation: https://pandas.pydata.org/pandas-docs/stable/user_guide/indexing.html#returning-a-view-versus-a-copy\n",
      "  df['std_Vol'] = scaler.fit_transform(df['volume'].values.reshape(-1, 1))\n",
      "<ipython-input-4-c3b15e353e63>:11: SettingWithCopyWarning: \n",
      "A value is trying to be set on a copy of a slice from a DataFrame.\n",
      "Try using .loc[row_indexer,col_indexer] = value instead\n",
      "\n",
      "See the caveats in the documentation: https://pandas.pydata.org/pandas-docs/stable/user_guide/indexing.html#returning-a-view-versus-a-copy\n",
      "  df['std_Close'] = scaler.fit_transform(df['close'].values.reshape(-1, 1))\n",
      "  0%|          | 0/113 [00:00<?, ?it/s]/Users/tiancaixiaohuoban/opt/anaconda3/lib/python3.8/site-packages/scipy/stats/stats.py:3845: PearsonRConstantInputWarning: An input array is constant; the correlation coefficent is not defined.\n",
      "  warnings.warn(PearsonRConstantInputWarning())\n",
      " 29%|██▉       | 33/113 [00:00<00:00, 322.13it/s]"
     ]
    },
    {
     "name": "stdout",
     "output_type": "stream",
     "text": [
      "JM\n"
     ]
    },
    {
     "name": "stderr",
     "output_type": "stream",
     "text": [
      "100%|██████████| 113/113 [00:00<00:00, 157.19it/s]\n",
      "<ipython-input-4-c3b15e353e63>:39: SettingWithCopyWarning: \n",
      "A value is trying to be set on a copy of a slice from a DataFrame.\n",
      "Try using .loc[row_indexer,col_indexer] = value instead\n",
      "\n",
      "See the caveats in the documentation: https://pandas.pydata.org/pandas-docs/stable/user_guide/indexing.html#returning-a-view-versus-a-copy\n",
      "  df['Signal'] = np.concatenate([item[2] for item in price_volume_pairs])\n",
      "<ipython-input-4-c3b15e353e63>:7: SettingWithCopyWarning: \n",
      "A value is trying to be set on a copy of a slice from a DataFrame.\n",
      "Try using .loc[row_indexer,col_indexer] = value instead\n",
      "\n",
      "See the caveats in the documentation: https://pandas.pydata.org/pandas-docs/stable/user_guide/indexing.html#returning-a-view-versus-a-copy\n",
      "  df['std_Vol'] = scaler.fit_transform(df['volume'].values.reshape(-1, 1))\n",
      "<ipython-input-4-c3b15e353e63>:11: SettingWithCopyWarning: \n",
      "A value is trying to be set on a copy of a slice from a DataFrame.\n",
      "Try using .loc[row_indexer,col_indexer] = value instead\n",
      "\n",
      "See the caveats in the documentation: https://pandas.pydata.org/pandas-docs/stable/user_guide/indexing.html#returning-a-view-versus-a-copy\n",
      "  df['std_Close'] = scaler.fit_transform(df['close'].values.reshape(-1, 1))\n",
      "  0%|          | 0/113 [00:00<?, ?it/s]/Users/tiancaixiaohuoban/opt/anaconda3/lib/python3.8/site-packages/scipy/stats/stats.py:3845: PearsonRConstantInputWarning: An input array is constant; the correlation coefficent is not defined.\n",
      "  warnings.warn(PearsonRConstantInputWarning())\n",
      " 27%|██▋       | 31/113 [00:00<00:00, 284.46it/s]"
     ]
    },
    {
     "name": "stdout",
     "output_type": "stream",
     "text": [
      "FG\n"
     ]
    },
    {
     "name": "stderr",
     "output_type": "stream",
     "text": [
      "100%|██████████| 113/113 [00:00<00:00, 141.22it/s]\n",
      "<ipython-input-4-c3b15e353e63>:39: SettingWithCopyWarning: \n",
      "A value is trying to be set on a copy of a slice from a DataFrame.\n",
      "Try using .loc[row_indexer,col_indexer] = value instead\n",
      "\n",
      "See the caveats in the documentation: https://pandas.pydata.org/pandas-docs/stable/user_guide/indexing.html#returning-a-view-versus-a-copy\n",
      "  df['Signal'] = np.concatenate([item[2] for item in price_volume_pairs])\n",
      "<ipython-input-4-c3b15e353e63>:7: SettingWithCopyWarning: \n",
      "A value is trying to be set on a copy of a slice from a DataFrame.\n",
      "Try using .loc[row_indexer,col_indexer] = value instead\n",
      "\n",
      "See the caveats in the documentation: https://pandas.pydata.org/pandas-docs/stable/user_guide/indexing.html#returning-a-view-versus-a-copy\n",
      "  df['std_Vol'] = scaler.fit_transform(df['volume'].values.reshape(-1, 1))\n",
      "<ipython-input-4-c3b15e353e63>:11: SettingWithCopyWarning: \n",
      "A value is trying to be set on a copy of a slice from a DataFrame.\n",
      "Try using .loc[row_indexer,col_indexer] = value instead\n",
      "\n",
      "See the caveats in the documentation: https://pandas.pydata.org/pandas-docs/stable/user_guide/indexing.html#returning-a-view-versus-a-copy\n",
      "  df['std_Close'] = scaler.fit_transform(df['close'].values.reshape(-1, 1))\n",
      "  0%|          | 0/113 [00:00<?, ?it/s]/Users/tiancaixiaohuoban/opt/anaconda3/lib/python3.8/site-packages/scipy/stats/stats.py:3845: PearsonRConstantInputWarning: An input array is constant; the correlation coefficent is not defined.\n",
      "  warnings.warn(PearsonRConstantInputWarning())\n",
      " 73%|███████▎  | 83/113 [00:00<00:00, 821.41it/s]"
     ]
    },
    {
     "name": "stdout",
     "output_type": "stream",
     "text": [
      "SA\n"
     ]
    },
    {
     "name": "stderr",
     "output_type": "stream",
     "text": [
      "100%|██████████| 113/113 [00:00<00:00, 469.28it/s]\n",
      "<ipython-input-4-c3b15e353e63>:39: SettingWithCopyWarning: \n",
      "A value is trying to be set on a copy of a slice from a DataFrame.\n",
      "Try using .loc[row_indexer,col_indexer] = value instead\n",
      "\n",
      "See the caveats in the documentation: https://pandas.pydata.org/pandas-docs/stable/user_guide/indexing.html#returning-a-view-versus-a-copy\n",
      "  df['Signal'] = np.concatenate([item[2] for item in price_volume_pairs])\n",
      "<ipython-input-4-c3b15e353e63>:7: SettingWithCopyWarning: \n",
      "A value is trying to be set on a copy of a slice from a DataFrame.\n",
      "Try using .loc[row_indexer,col_indexer] = value instead\n",
      "\n",
      "See the caveats in the documentation: https://pandas.pydata.org/pandas-docs/stable/user_guide/indexing.html#returning-a-view-versus-a-copy\n",
      "  df['std_Vol'] = scaler.fit_transform(df['volume'].values.reshape(-1, 1))\n",
      "<ipython-input-4-c3b15e353e63>:11: SettingWithCopyWarning: \n",
      "A value is trying to be set on a copy of a slice from a DataFrame.\n",
      "Try using .loc[row_indexer,col_indexer] = value instead\n",
      "\n",
      "See the caveats in the documentation: https://pandas.pydata.org/pandas-docs/stable/user_guide/indexing.html#returning-a-view-versus-a-copy\n",
      "  df['std_Close'] = scaler.fit_transform(df['close'].values.reshape(-1, 1))\n",
      "  0%|          | 0/113 [00:00<?, ?it/s]/Users/tiancaixiaohuoban/opt/anaconda3/lib/python3.8/site-packages/scipy/stats/stats.py:3845: PearsonRConstantInputWarning: An input array is constant; the correlation coefficent is not defined.\n",
      "  warnings.warn(PearsonRConstantInputWarning())\n",
      " 56%|█████▌    | 63/113 [00:00<00:00, 626.25it/s]"
     ]
    },
    {
     "name": "stdout",
     "output_type": "stream",
     "text": [
      "SF\n"
     ]
    },
    {
     "name": "stderr",
     "output_type": "stream",
     "text": [
      "100%|██████████| 113/113 [00:00<00:00, 276.72it/s]\n",
      "<ipython-input-4-c3b15e353e63>:39: SettingWithCopyWarning: \n",
      "A value is trying to be set on a copy of a slice from a DataFrame.\n",
      "Try using .loc[row_indexer,col_indexer] = value instead\n",
      "\n",
      "See the caveats in the documentation: https://pandas.pydata.org/pandas-docs/stable/user_guide/indexing.html#returning-a-view-versus-a-copy\n",
      "  df['Signal'] = np.concatenate([item[2] for item in price_volume_pairs])\n",
      "<ipython-input-4-c3b15e353e63>:7: SettingWithCopyWarning: \n",
      "A value is trying to be set on a copy of a slice from a DataFrame.\n",
      "Try using .loc[row_indexer,col_indexer] = value instead\n",
      "\n",
      "See the caveats in the documentation: https://pandas.pydata.org/pandas-docs/stable/user_guide/indexing.html#returning-a-view-versus-a-copy\n",
      "  df['std_Vol'] = scaler.fit_transform(df['volume'].values.reshape(-1, 1))\n",
      "<ipython-input-4-c3b15e353e63>:11: SettingWithCopyWarning: \n",
      "A value is trying to be set on a copy of a slice from a DataFrame.\n",
      "Try using .loc[row_indexer,col_indexer] = value instead\n",
      "\n",
      "See the caveats in the documentation: https://pandas.pydata.org/pandas-docs/stable/user_guide/indexing.html#returning-a-view-versus-a-copy\n",
      "  df['std_Close'] = scaler.fit_transform(df['close'].values.reshape(-1, 1))\n",
      "  0%|          | 0/113 [00:00<?, ?it/s]/Users/tiancaixiaohuoban/opt/anaconda3/lib/python3.8/site-packages/scipy/stats/stats.py:3845: PearsonRConstantInputWarning: An input array is constant; the correlation coefficent is not defined.\n",
      "  warnings.warn(PearsonRConstantInputWarning())\n",
      " 54%|█████▍    | 61/113 [00:00<00:00, 596.06it/s]"
     ]
    },
    {
     "name": "stdout",
     "output_type": "stream",
     "text": [
      "SM\n"
     ]
    },
    {
     "name": "stderr",
     "output_type": "stream",
     "text": [
      "100%|██████████| 113/113 [00:00<00:00, 272.68it/s]\n",
      "<ipython-input-4-c3b15e353e63>:39: SettingWithCopyWarning: \n",
      "A value is trying to be set on a copy of a slice from a DataFrame.\n",
      "Try using .loc[row_indexer,col_indexer] = value instead\n",
      "\n",
      "See the caveats in the documentation: https://pandas.pydata.org/pandas-docs/stable/user_guide/indexing.html#returning-a-view-versus-a-copy\n",
      "  df['Signal'] = np.concatenate([item[2] for item in price_volume_pairs])\n",
      "<ipython-input-4-c3b15e353e63>:7: SettingWithCopyWarning: \n",
      "A value is trying to be set on a copy of a slice from a DataFrame.\n",
      "Try using .loc[row_indexer,col_indexer] = value instead\n",
      "\n",
      "See the caveats in the documentation: https://pandas.pydata.org/pandas-docs/stable/user_guide/indexing.html#returning-a-view-versus-a-copy\n",
      "  df['std_Vol'] = scaler.fit_transform(df['volume'].values.reshape(-1, 1))\n",
      "<ipython-input-4-c3b15e353e63>:11: SettingWithCopyWarning: \n",
      "A value is trying to be set on a copy of a slice from a DataFrame.\n",
      "Try using .loc[row_indexer,col_indexer] = value instead\n",
      "\n",
      "See the caveats in the documentation: https://pandas.pydata.org/pandas-docs/stable/user_guide/indexing.html#returning-a-view-versus-a-copy\n",
      "  df['std_Close'] = scaler.fit_transform(df['close'].values.reshape(-1, 1))\n",
      "  0%|          | 0/113 [00:00<?, ?it/s]/Users/tiancaixiaohuoban/opt/anaconda3/lib/python3.8/site-packages/scipy/stats/stats.py:3845: PearsonRConstantInputWarning: An input array is constant; the correlation coefficent is not defined.\n",
      "  warnings.warn(PearsonRConstantInputWarning())\n",
      " 43%|████▎     | 49/113 [00:00<00:00, 484.52it/s]"
     ]
    },
    {
     "name": "stdout",
     "output_type": "stream",
     "text": [
      "BU\n"
     ]
    },
    {
     "name": "stderr",
     "output_type": "stream",
     "text": [
      "100%|██████████| 113/113 [00:00<00:00, 204.35it/s]\n",
      "<ipython-input-4-c3b15e353e63>:39: SettingWithCopyWarning: \n",
      "A value is trying to be set on a copy of a slice from a DataFrame.\n",
      "Try using .loc[row_indexer,col_indexer] = value instead\n",
      "\n",
      "See the caveats in the documentation: https://pandas.pydata.org/pandas-docs/stable/user_guide/indexing.html#returning-a-view-versus-a-copy\n",
      "  df['Signal'] = np.concatenate([item[2] for item in price_volume_pairs])\n",
      "<ipython-input-4-c3b15e353e63>:7: SettingWithCopyWarning: \n",
      "A value is trying to be set on a copy of a slice from a DataFrame.\n",
      "Try using .loc[row_indexer,col_indexer] = value instead\n",
      "\n",
      "See the caveats in the documentation: https://pandas.pydata.org/pandas-docs/stable/user_guide/indexing.html#returning-a-view-versus-a-copy\n",
      "  df['std_Vol'] = scaler.fit_transform(df['volume'].values.reshape(-1, 1))\n",
      "<ipython-input-4-c3b15e353e63>:11: SettingWithCopyWarning: \n",
      "A value is trying to be set on a copy of a slice from a DataFrame.\n",
      "Try using .loc[row_indexer,col_indexer] = value instead\n",
      "\n",
      "See the caveats in the documentation: https://pandas.pydata.org/pandas-docs/stable/user_guide/indexing.html#returning-a-view-versus-a-copy\n",
      "  df['std_Close'] = scaler.fit_transform(df['close'].values.reshape(-1, 1))\n",
      " 11%|█         | 12/113 [00:00<00:00, 114.49it/s]"
     ]
    },
    {
     "name": "stdout",
     "output_type": "stream",
     "text": [
      "L\n"
     ]
    },
    {
     "name": "stderr",
     "output_type": "stream",
     "text": [
      "100%|██████████| 113/113 [00:01<00:00, 104.41it/s]\n",
      "<ipython-input-4-c3b15e353e63>:39: SettingWithCopyWarning: \n",
      "A value is trying to be set on a copy of a slice from a DataFrame.\n",
      "Try using .loc[row_indexer,col_indexer] = value instead\n",
      "\n",
      "See the caveats in the documentation: https://pandas.pydata.org/pandas-docs/stable/user_guide/indexing.html#returning-a-view-versus-a-copy\n",
      "  df['Signal'] = np.concatenate([item[2] for item in price_volume_pairs])\n",
      "<ipython-input-4-c3b15e353e63>:7: SettingWithCopyWarning: \n",
      "A value is trying to be set on a copy of a slice from a DataFrame.\n",
      "Try using .loc[row_indexer,col_indexer] = value instead\n",
      "\n",
      "See the caveats in the documentation: https://pandas.pydata.org/pandas-docs/stable/user_guide/indexing.html#returning-a-view-versus-a-copy\n",
      "  df['std_Vol'] = scaler.fit_transform(df['volume'].values.reshape(-1, 1))\n",
      "<ipython-input-4-c3b15e353e63>:11: SettingWithCopyWarning: \n",
      "A value is trying to be set on a copy of a slice from a DataFrame.\n",
      "Try using .loc[row_indexer,col_indexer] = value instead\n",
      "\n",
      "See the caveats in the documentation: https://pandas.pydata.org/pandas-docs/stable/user_guide/indexing.html#returning-a-view-versus-a-copy\n",
      "  df['std_Close'] = scaler.fit_transform(df['close'].values.reshape(-1, 1))\n",
      "  0%|          | 0/113 [00:00<?, ?it/s]/Users/tiancaixiaohuoban/opt/anaconda3/lib/python3.8/site-packages/scipy/stats/stats.py:3845: PearsonRConstantInputWarning: An input array is constant; the correlation coefficent is not defined.\n",
      "  warnings.warn(PearsonRConstantInputWarning())\n",
      " 43%|████▎     | 49/113 [00:00<00:00, 463.96it/s]"
     ]
    },
    {
     "name": "stdout",
     "output_type": "stream",
     "text": [
      "MA\n"
     ]
    },
    {
     "name": "stderr",
     "output_type": "stream",
     "text": [
      "100%|██████████| 113/113 [00:00<00:00, 211.11it/s]\n",
      "<ipython-input-4-c3b15e353e63>:39: SettingWithCopyWarning: \n",
      "A value is trying to be set on a copy of a slice from a DataFrame.\n",
      "Try using .loc[row_indexer,col_indexer] = value instead\n",
      "\n",
      "See the caveats in the documentation: https://pandas.pydata.org/pandas-docs/stable/user_guide/indexing.html#returning-a-view-versus-a-copy\n",
      "  df['Signal'] = np.concatenate([item[2] for item in price_volume_pairs])\n",
      "<ipython-input-4-c3b15e353e63>:7: SettingWithCopyWarning: \n",
      "A value is trying to be set on a copy of a slice from a DataFrame.\n",
      "Try using .loc[row_indexer,col_indexer] = value instead\n",
      "\n",
      "See the caveats in the documentation: https://pandas.pydata.org/pandas-docs/stable/user_guide/indexing.html#returning-a-view-versus-a-copy\n",
      "  df['std_Vol'] = scaler.fit_transform(df['volume'].values.reshape(-1, 1))\n",
      "<ipython-input-4-c3b15e353e63>:11: SettingWithCopyWarning: \n",
      "A value is trying to be set on a copy of a slice from a DataFrame.\n",
      "Try using .loc[row_indexer,col_indexer] = value instead\n",
      "\n",
      "See the caveats in the documentation: https://pandas.pydata.org/pandas-docs/stable/user_guide/indexing.html#returning-a-view-versus-a-copy\n",
      "  df['std_Close'] = scaler.fit_transform(df['close'].values.reshape(-1, 1))\n",
      "  0%|          | 0/113 [00:00<?, ?it/s]/Users/tiancaixiaohuoban/opt/anaconda3/lib/python3.8/site-packages/scipy/stats/stats.py:3845: PearsonRConstantInputWarning: An input array is constant; the correlation coefficent is not defined.\n",
      "  warnings.warn(PearsonRConstantInputWarning())\n",
      " 35%|███▍      | 39/113 [00:00<00:00, 365.66it/s]"
     ]
    },
    {
     "name": "stdout",
     "output_type": "stream",
     "text": [
      "PP\n"
     ]
    },
    {
     "name": "stderr",
     "output_type": "stream",
     "text": [
      "100%|██████████| 113/113 [00:00<00:00, 153.16it/s]\n",
      "<ipython-input-4-c3b15e353e63>:39: SettingWithCopyWarning: \n",
      "A value is trying to be set on a copy of a slice from a DataFrame.\n",
      "Try using .loc[row_indexer,col_indexer] = value instead\n",
      "\n",
      "See the caveats in the documentation: https://pandas.pydata.org/pandas-docs/stable/user_guide/indexing.html#returning-a-view-versus-a-copy\n",
      "  df['Signal'] = np.concatenate([item[2] for item in price_volume_pairs])\n",
      "<ipython-input-4-c3b15e353e63>:7: SettingWithCopyWarning: \n",
      "A value is trying to be set on a copy of a slice from a DataFrame.\n",
      "Try using .loc[row_indexer,col_indexer] = value instead\n",
      "\n",
      "See the caveats in the documentation: https://pandas.pydata.org/pandas-docs/stable/user_guide/indexing.html#returning-a-view-versus-a-copy\n",
      "  df['std_Vol'] = scaler.fit_transform(df['volume'].values.reshape(-1, 1))\n",
      "<ipython-input-4-c3b15e353e63>:11: SettingWithCopyWarning: \n",
      "A value is trying to be set on a copy of a slice from a DataFrame.\n",
      "Try using .loc[row_indexer,col_indexer] = value instead\n",
      "\n",
      "See the caveats in the documentation: https://pandas.pydata.org/pandas-docs/stable/user_guide/indexing.html#returning-a-view-versus-a-copy\n",
      "  df['std_Close'] = scaler.fit_transform(df['close'].values.reshape(-1, 1))\n",
      " 11%|█         | 12/113 [00:00<00:00, 116.82it/s]"
     ]
    },
    {
     "name": "stdout",
     "output_type": "stream",
     "text": [
      "RU\n"
     ]
    },
    {
     "name": "stderr",
     "output_type": "stream",
     "text": [
      "100%|██████████| 113/113 [00:01<00:00, 112.77it/s]\n",
      "<ipython-input-4-c3b15e353e63>:39: SettingWithCopyWarning: \n",
      "A value is trying to be set on a copy of a slice from a DataFrame.\n",
      "Try using .loc[row_indexer,col_indexer] = value instead\n",
      "\n",
      "See the caveats in the documentation: https://pandas.pydata.org/pandas-docs/stable/user_guide/indexing.html#returning-a-view-versus-a-copy\n",
      "  df['Signal'] = np.concatenate([item[2] for item in price_volume_pairs])\n",
      "<ipython-input-4-c3b15e353e63>:7: SettingWithCopyWarning: \n",
      "A value is trying to be set on a copy of a slice from a DataFrame.\n",
      "Try using .loc[row_indexer,col_indexer] = value instead\n",
      "\n",
      "See the caveats in the documentation: https://pandas.pydata.org/pandas-docs/stable/user_guide/indexing.html#returning-a-view-versus-a-copy\n",
      "  df['std_Vol'] = scaler.fit_transform(df['volume'].values.reshape(-1, 1))\n",
      "<ipython-input-4-c3b15e353e63>:11: SettingWithCopyWarning: \n",
      "A value is trying to be set on a copy of a slice from a DataFrame.\n",
      "Try using .loc[row_indexer,col_indexer] = value instead\n",
      "\n",
      "See the caveats in the documentation: https://pandas.pydata.org/pandas-docs/stable/user_guide/indexing.html#returning-a-view-versus-a-copy\n",
      "  df['std_Close'] = scaler.fit_transform(df['close'].values.reshape(-1, 1))\n",
      "  0%|          | 0/113 [00:00<?, ?it/s]/Users/tiancaixiaohuoban/opt/anaconda3/lib/python3.8/site-packages/scipy/stats/stats.py:3845: PearsonRConstantInputWarning: An input array is constant; the correlation coefficent is not defined.\n",
      "  warnings.warn(PearsonRConstantInputWarning())\n",
      " 49%|████▊     | 55/113 [00:00<00:00, 521.66it/s]"
     ]
    },
    {
     "name": "stdout",
     "output_type": "stream",
     "text": [
      "V\n"
     ]
    },
    {
     "name": "stderr",
     "output_type": "stream",
     "text": [
      "100%|██████████| 113/113 [00:00<00:00, 235.85it/s]\n",
      "<ipython-input-4-c3b15e353e63>:39: SettingWithCopyWarning: \n",
      "A value is trying to be set on a copy of a slice from a DataFrame.\n",
      "Try using .loc[row_indexer,col_indexer] = value instead\n",
      "\n",
      "See the caveats in the documentation: https://pandas.pydata.org/pandas-docs/stable/user_guide/indexing.html#returning-a-view-versus-a-copy\n",
      "  df['Signal'] = np.concatenate([item[2] for item in price_volume_pairs])\n",
      "<ipython-input-4-c3b15e353e63>:7: SettingWithCopyWarning: \n",
      "A value is trying to be set on a copy of a slice from a DataFrame.\n",
      "Try using .loc[row_indexer,col_indexer] = value instead\n",
      "\n",
      "See the caveats in the documentation: https://pandas.pydata.org/pandas-docs/stable/user_guide/indexing.html#returning-a-view-versus-a-copy\n",
      "  df['std_Vol'] = scaler.fit_transform(df['volume'].values.reshape(-1, 1))\n",
      "<ipython-input-4-c3b15e353e63>:11: SettingWithCopyWarning: \n",
      "A value is trying to be set on a copy of a slice from a DataFrame.\n",
      "Try using .loc[row_indexer,col_indexer] = value instead\n",
      "\n",
      "See the caveats in the documentation: https://pandas.pydata.org/pandas-docs/stable/user_guide/indexing.html#returning-a-view-versus-a-copy\n",
      "  df['std_Close'] = scaler.fit_transform(df['close'].values.reshape(-1, 1))\n",
      "  9%|▉         | 10/113 [00:00<00:01, 95.54it/s]"
     ]
    },
    {
     "name": "stdout",
     "output_type": "stream",
     "text": [
      "TA\n"
     ]
    },
    {
     "name": "stderr",
     "output_type": "stream",
     "text": [
      "100%|██████████| 113/113 [00:01<00:00, 104.64it/s]\n",
      "<ipython-input-4-c3b15e353e63>:39: SettingWithCopyWarning: \n",
      "A value is trying to be set on a copy of a slice from a DataFrame.\n",
      "Try using .loc[row_indexer,col_indexer] = value instead\n",
      "\n",
      "See the caveats in the documentation: https://pandas.pydata.org/pandas-docs/stable/user_guide/indexing.html#returning-a-view-versus-a-copy\n",
      "  df['Signal'] = np.concatenate([item[2] for item in price_volume_pairs])\n",
      "<ipython-input-4-c3b15e353e63>:7: SettingWithCopyWarning: \n",
      "A value is trying to be set on a copy of a slice from a DataFrame.\n",
      "Try using .loc[row_indexer,col_indexer] = value instead\n",
      "\n",
      "See the caveats in the documentation: https://pandas.pydata.org/pandas-docs/stable/user_guide/indexing.html#returning-a-view-versus-a-copy\n",
      "  df['std_Vol'] = scaler.fit_transform(df['volume'].values.reshape(-1, 1))\n",
      "<ipython-input-4-c3b15e353e63>:11: SettingWithCopyWarning: \n",
      "A value is trying to be set on a copy of a slice from a DataFrame.\n",
      "Try using .loc[row_indexer,col_indexer] = value instead\n",
      "\n",
      "See the caveats in the documentation: https://pandas.pydata.org/pandas-docs/stable/user_guide/indexing.html#returning-a-view-versus-a-copy\n",
      "  df['std_Close'] = scaler.fit_transform(df['close'].values.reshape(-1, 1))\n",
      "  0%|          | 0/113 [00:00<?, ?it/s]/Users/tiancaixiaohuoban/opt/anaconda3/lib/python3.8/site-packages/scipy/stats/stats.py:3845: PearsonRConstantInputWarning: An input array is constant; the correlation coefficent is not defined.\n",
      "  warnings.warn(PearsonRConstantInputWarning())\n",
      " 64%|██████▎   | 72/113 [00:00<00:00, 682.43it/s]"
     ]
    },
    {
     "name": "stdout",
     "output_type": "stream",
     "text": [
      "FU\n"
     ]
    },
    {
     "name": "stderr",
     "output_type": "stream",
     "text": [
      "100%|██████████| 113/113 [00:00<00:00, 349.42it/s]\n",
      "<ipython-input-4-c3b15e353e63>:39: SettingWithCopyWarning: \n",
      "A value is trying to be set on a copy of a slice from a DataFrame.\n",
      "Try using .loc[row_indexer,col_indexer] = value instead\n",
      "\n",
      "See the caveats in the documentation: https://pandas.pydata.org/pandas-docs/stable/user_guide/indexing.html#returning-a-view-versus-a-copy\n",
      "  df['Signal'] = np.concatenate([item[2] for item in price_volume_pairs])\n",
      "<ipython-input-4-c3b15e353e63>:7: SettingWithCopyWarning: \n",
      "A value is trying to be set on a copy of a slice from a DataFrame.\n",
      "Try using .loc[row_indexer,col_indexer] = value instead\n",
      "\n",
      "See the caveats in the documentation: https://pandas.pydata.org/pandas-docs/stable/user_guide/indexing.html#returning-a-view-versus-a-copy\n",
      "  df['std_Vol'] = scaler.fit_transform(df['volume'].values.reshape(-1, 1))\n",
      "<ipython-input-4-c3b15e353e63>:11: SettingWithCopyWarning: \n",
      "A value is trying to be set on a copy of a slice from a DataFrame.\n",
      "Try using .loc[row_indexer,col_indexer] = value instead\n",
      "\n",
      "See the caveats in the documentation: https://pandas.pydata.org/pandas-docs/stable/user_guide/indexing.html#returning-a-view-versus-a-copy\n",
      "  df['std_Close'] = scaler.fit_transform(df['close'].values.reshape(-1, 1))\n",
      "  0%|          | 0/113 [00:00<?, ?it/s]/Users/tiancaixiaohuoban/opt/anaconda3/lib/python3.8/site-packages/scipy/stats/stats.py:3845: PearsonRConstantInputWarning: An input array is constant; the correlation coefficent is not defined.\n",
      "  warnings.warn(PearsonRConstantInputWarning())\n",
      " 65%|██████▍   | 73/113 [00:00<00:00, 707.37it/s]"
     ]
    },
    {
     "name": "stdout",
     "output_type": "stream",
     "text": [
      "EG\n"
     ]
    },
    {
     "name": "stderr",
     "output_type": "stream",
     "text": [
      "100%|██████████| 113/113 [00:00<00:00, 392.24it/s]\n",
      "<ipython-input-4-c3b15e353e63>:39: SettingWithCopyWarning: \n",
      "A value is trying to be set on a copy of a slice from a DataFrame.\n",
      "Try using .loc[row_indexer,col_indexer] = value instead\n",
      "\n",
      "See the caveats in the documentation: https://pandas.pydata.org/pandas-docs/stable/user_guide/indexing.html#returning-a-view-versus-a-copy\n",
      "  df['Signal'] = np.concatenate([item[2] for item in price_volume_pairs])\n",
      "<ipython-input-4-c3b15e353e63>:7: SettingWithCopyWarning: \n",
      "A value is trying to be set on a copy of a slice from a DataFrame.\n",
      "Try using .loc[row_indexer,col_indexer] = value instead\n",
      "\n",
      "See the caveats in the documentation: https://pandas.pydata.org/pandas-docs/stable/user_guide/indexing.html#returning-a-view-versus-a-copy\n",
      "  df['std_Vol'] = scaler.fit_transform(df['volume'].values.reshape(-1, 1))\n",
      "<ipython-input-4-c3b15e353e63>:11: SettingWithCopyWarning: \n",
      "A value is trying to be set on a copy of a slice from a DataFrame.\n",
      "Try using .loc[row_indexer,col_indexer] = value instead\n",
      "\n",
      "See the caveats in the documentation: https://pandas.pydata.org/pandas-docs/stable/user_guide/indexing.html#returning-a-view-versus-a-copy\n",
      "  df['std_Close'] = scaler.fit_transform(df['close'].values.reshape(-1, 1))\n",
      "  0%|          | 0/113 [00:00<?, ?it/s]/Users/tiancaixiaohuoban/opt/anaconda3/lib/python3.8/site-packages/scipy/stats/stats.py:3845: PearsonRConstantInputWarning: An input array is constant; the correlation coefficent is not defined.\n",
      "  warnings.warn(PearsonRConstantInputWarning())\n",
      " 63%|██████▎   | 71/113 [00:00<00:00, 704.32it/s]"
     ]
    },
    {
     "name": "stdout",
     "output_type": "stream",
     "text": [
      "SP\n"
     ]
    },
    {
     "name": "stderr",
     "output_type": "stream",
     "text": [
      "100%|██████████| 113/113 [00:00<00:00, 364.08it/s]\n",
      "<ipython-input-4-c3b15e353e63>:39: SettingWithCopyWarning: \n",
      "A value is trying to be set on a copy of a slice from a DataFrame.\n",
      "Try using .loc[row_indexer,col_indexer] = value instead\n",
      "\n",
      "See the caveats in the documentation: https://pandas.pydata.org/pandas-docs/stable/user_guide/indexing.html#returning-a-view-versus-a-copy\n",
      "  df['Signal'] = np.concatenate([item[2] for item in price_volume_pairs])\n",
      "<ipython-input-4-c3b15e353e63>:7: SettingWithCopyWarning: \n",
      "A value is trying to be set on a copy of a slice from a DataFrame.\n",
      "Try using .loc[row_indexer,col_indexer] = value instead\n",
      "\n",
      "See the caveats in the documentation: https://pandas.pydata.org/pandas-docs/stable/user_guide/indexing.html#returning-a-view-versus-a-copy\n",
      "  df['std_Vol'] = scaler.fit_transform(df['volume'].values.reshape(-1, 1))\n",
      "<ipython-input-4-c3b15e353e63>:11: SettingWithCopyWarning: \n",
      "A value is trying to be set on a copy of a slice from a DataFrame.\n",
      "Try using .loc[row_indexer,col_indexer] = value instead\n",
      "\n",
      "See the caveats in the documentation: https://pandas.pydata.org/pandas-docs/stable/user_guide/indexing.html#returning-a-view-versus-a-copy\n",
      "  df['std_Close'] = scaler.fit_transform(df['close'].values.reshape(-1, 1))\n",
      " 10%|▉         | 11/113 [00:00<00:00, 103.39it/s]"
     ]
    },
    {
     "name": "stdout",
     "output_type": "stream",
     "text": [
      "A\n"
     ]
    },
    {
     "name": "stderr",
     "output_type": "stream",
     "text": [
      "100%|██████████| 113/113 [00:01<00:00, 103.26it/s]\n",
      "<ipython-input-4-c3b15e353e63>:39: SettingWithCopyWarning: \n",
      "A value is trying to be set on a copy of a slice from a DataFrame.\n",
      "Try using .loc[row_indexer,col_indexer] = value instead\n",
      "\n",
      "See the caveats in the documentation: https://pandas.pydata.org/pandas-docs/stable/user_guide/indexing.html#returning-a-view-versus-a-copy\n",
      "  df['Signal'] = np.concatenate([item[2] for item in price_volume_pairs])\n",
      "<ipython-input-4-c3b15e353e63>:7: SettingWithCopyWarning: \n",
      "A value is trying to be set on a copy of a slice from a DataFrame.\n",
      "Try using .loc[row_indexer,col_indexer] = value instead\n",
      "\n",
      "See the caveats in the documentation: https://pandas.pydata.org/pandas-docs/stable/user_guide/indexing.html#returning-a-view-versus-a-copy\n",
      "  df['std_Vol'] = scaler.fit_transform(df['volume'].values.reshape(-1, 1))\n",
      "<ipython-input-4-c3b15e353e63>:11: SettingWithCopyWarning: \n",
      "A value is trying to be set on a copy of a slice from a DataFrame.\n",
      "Try using .loc[row_indexer,col_indexer] = value instead\n",
      "\n",
      "See the caveats in the documentation: https://pandas.pydata.org/pandas-docs/stable/user_guide/indexing.html#returning-a-view-versus-a-copy\n",
      "  df['std_Close'] = scaler.fit_transform(df['close'].values.reshape(-1, 1))\n",
      " 10%|▉         | 11/113 [00:00<00:00, 106.90it/s]"
     ]
    },
    {
     "name": "stdout",
     "output_type": "stream",
     "text": [
      "M\n"
     ]
    },
    {
     "name": "stderr",
     "output_type": "stream",
     "text": [
      "100%|██████████| 113/113 [00:01<00:00, 99.49it/s]\n",
      "<ipython-input-4-c3b15e353e63>:39: SettingWithCopyWarning: \n",
      "A value is trying to be set on a copy of a slice from a DataFrame.\n",
      "Try using .loc[row_indexer,col_indexer] = value instead\n",
      "\n",
      "See the caveats in the documentation: https://pandas.pydata.org/pandas-docs/stable/user_guide/indexing.html#returning-a-view-versus-a-copy\n",
      "  df['Signal'] = np.concatenate([item[2] for item in price_volume_pairs])\n",
      "<ipython-input-4-c3b15e353e63>:7: SettingWithCopyWarning: \n",
      "A value is trying to be set on a copy of a slice from a DataFrame.\n",
      "Try using .loc[row_indexer,col_indexer] = value instead\n",
      "\n",
      "See the caveats in the documentation: https://pandas.pydata.org/pandas-docs/stable/user_guide/indexing.html#returning-a-view-versus-a-copy\n",
      "  df['std_Vol'] = scaler.fit_transform(df['volume'].values.reshape(-1, 1))\n",
      "<ipython-input-4-c3b15e353e63>:11: SettingWithCopyWarning: \n",
      "A value is trying to be set on a copy of a slice from a DataFrame.\n",
      "Try using .loc[row_indexer,col_indexer] = value instead\n",
      "\n",
      "See the caveats in the documentation: https://pandas.pydata.org/pandas-docs/stable/user_guide/indexing.html#returning-a-view-versus-a-copy\n",
      "  df['std_Close'] = scaler.fit_transform(df['close'].values.reshape(-1, 1))\n",
      " 11%|█         | 12/113 [00:00<00:00, 112.15it/s]"
     ]
    },
    {
     "name": "stdout",
     "output_type": "stream",
     "text": [
      "P\n"
     ]
    },
    {
     "name": "stderr",
     "output_type": "stream",
     "text": [
      "100%|██████████| 113/113 [00:01<00:00, 102.88it/s]\n",
      "<ipython-input-4-c3b15e353e63>:39: SettingWithCopyWarning: \n",
      "A value is trying to be set on a copy of a slice from a DataFrame.\n",
      "Try using .loc[row_indexer,col_indexer] = value instead\n",
      "\n",
      "See the caveats in the documentation: https://pandas.pydata.org/pandas-docs/stable/user_guide/indexing.html#returning-a-view-versus-a-copy\n",
      "  df['Signal'] = np.concatenate([item[2] for item in price_volume_pairs])\n",
      "<ipython-input-4-c3b15e353e63>:7: SettingWithCopyWarning: \n",
      "A value is trying to be set on a copy of a slice from a DataFrame.\n",
      "Try using .loc[row_indexer,col_indexer] = value instead\n",
      "\n",
      "See the caveats in the documentation: https://pandas.pydata.org/pandas-docs/stable/user_guide/indexing.html#returning-a-view-versus-a-copy\n",
      "  df['std_Vol'] = scaler.fit_transform(df['volume'].values.reshape(-1, 1))\n",
      "<ipython-input-4-c3b15e353e63>:11: SettingWithCopyWarning: \n",
      "A value is trying to be set on a copy of a slice from a DataFrame.\n",
      "Try using .loc[row_indexer,col_indexer] = value instead\n",
      "\n",
      "See the caveats in the documentation: https://pandas.pydata.org/pandas-docs/stable/user_guide/indexing.html#returning-a-view-versus-a-copy\n",
      "  df['std_Close'] = scaler.fit_transform(df['close'].values.reshape(-1, 1))\n",
      "  0%|          | 0/113 [00:00<?, ?it/s]/Users/tiancaixiaohuoban/opt/anaconda3/lib/python3.8/site-packages/scipy/stats/stats.py:3845: PearsonRConstantInputWarning: An input array is constant; the correlation coefficent is not defined.\n",
      "  warnings.warn(PearsonRConstantInputWarning())\n",
      " 30%|███       | 34/113 [00:00<00:00, 322.22it/s]"
     ]
    },
    {
     "name": "stdout",
     "output_type": "stream",
     "text": [
      "OI\n"
     ]
    },
    {
     "name": "stderr",
     "output_type": "stream",
     "text": [
      "100%|██████████| 113/113 [00:00<00:00, 150.85it/s]\n",
      "<ipython-input-4-c3b15e353e63>:39: SettingWithCopyWarning: \n",
      "A value is trying to be set on a copy of a slice from a DataFrame.\n",
      "Try using .loc[row_indexer,col_indexer] = value instead\n",
      "\n",
      "See the caveats in the documentation: https://pandas.pydata.org/pandas-docs/stable/user_guide/indexing.html#returning-a-view-versus-a-copy\n",
      "  df['Signal'] = np.concatenate([item[2] for item in price_volume_pairs])\n",
      "<ipython-input-4-c3b15e353e63>:7: SettingWithCopyWarning: \n",
      "A value is trying to be set on a copy of a slice from a DataFrame.\n",
      "Try using .loc[row_indexer,col_indexer] = value instead\n",
      "\n",
      "See the caveats in the documentation: https://pandas.pydata.org/pandas-docs/stable/user_guide/indexing.html#returning-a-view-versus-a-copy\n",
      "  df['std_Vol'] = scaler.fit_transform(df['volume'].values.reshape(-1, 1))\n",
      "<ipython-input-4-c3b15e353e63>:11: SettingWithCopyWarning: \n",
      "A value is trying to be set on a copy of a slice from a DataFrame.\n",
      "Try using .loc[row_indexer,col_indexer] = value instead\n",
      "\n",
      "See the caveats in the documentation: https://pandas.pydata.org/pandas-docs/stable/user_guide/indexing.html#returning-a-view-versus-a-copy\n",
      "  df['std_Close'] = scaler.fit_transform(df['close'].values.reshape(-1, 1))\n",
      " 10%|▉         | 11/113 [00:00<00:00, 106.33it/s]"
     ]
    },
    {
     "name": "stdout",
     "output_type": "stream",
     "text": [
      "Y\n"
     ]
    },
    {
     "name": "stderr",
     "output_type": "stream",
     "text": [
      "100%|██████████| 113/113 [00:01<00:00, 103.47it/s]\n",
      "<ipython-input-4-c3b15e353e63>:39: SettingWithCopyWarning: \n",
      "A value is trying to be set on a copy of a slice from a DataFrame.\n",
      "Try using .loc[row_indexer,col_indexer] = value instead\n",
      "\n",
      "See the caveats in the documentation: https://pandas.pydata.org/pandas-docs/stable/user_guide/indexing.html#returning-a-view-versus-a-copy\n",
      "  df['Signal'] = np.concatenate([item[2] for item in price_volume_pairs])\n",
      "<ipython-input-4-c3b15e353e63>:7: SettingWithCopyWarning: \n",
      "A value is trying to be set on a copy of a slice from a DataFrame.\n",
      "Try using .loc[row_indexer,col_indexer] = value instead\n",
      "\n",
      "See the caveats in the documentation: https://pandas.pydata.org/pandas-docs/stable/user_guide/indexing.html#returning-a-view-versus-a-copy\n",
      "  df['std_Vol'] = scaler.fit_transform(df['volume'].values.reshape(-1, 1))\n",
      "<ipython-input-4-c3b15e353e63>:11: SettingWithCopyWarning: \n",
      "A value is trying to be set on a copy of a slice from a DataFrame.\n",
      "Try using .loc[row_indexer,col_indexer] = value instead\n",
      "\n",
      "See the caveats in the documentation: https://pandas.pydata.org/pandas-docs/stable/user_guide/indexing.html#returning-a-view-versus-a-copy\n",
      "  df['std_Close'] = scaler.fit_transform(df['close'].values.reshape(-1, 1))\n",
      "  9%|▉         | 10/113 [00:00<00:01, 93.01it/s]"
     ]
    },
    {
     "name": "stdout",
     "output_type": "stream",
     "text": [
      "SR\n"
     ]
    },
    {
     "name": "stderr",
     "output_type": "stream",
     "text": [
      "100%|██████████| 113/113 [00:01<00:00, 100.71it/s]\n",
      "<ipython-input-4-c3b15e353e63>:39: SettingWithCopyWarning: \n",
      "A value is trying to be set on a copy of a slice from a DataFrame.\n",
      "Try using .loc[row_indexer,col_indexer] = value instead\n",
      "\n",
      "See the caveats in the documentation: https://pandas.pydata.org/pandas-docs/stable/user_guide/indexing.html#returning-a-view-versus-a-copy\n",
      "  df['Signal'] = np.concatenate([item[2] for item in price_volume_pairs])\n",
      "<ipython-input-4-c3b15e353e63>:7: SettingWithCopyWarning: \n",
      "A value is trying to be set on a copy of a slice from a DataFrame.\n",
      "Try using .loc[row_indexer,col_indexer] = value instead\n",
      "\n",
      "See the caveats in the documentation: https://pandas.pydata.org/pandas-docs/stable/user_guide/indexing.html#returning-a-view-versus-a-copy\n",
      "  df['std_Vol'] = scaler.fit_transform(df['volume'].values.reshape(-1, 1))\n",
      "<ipython-input-4-c3b15e353e63>:11: SettingWithCopyWarning: \n",
      "A value is trying to be set on a copy of a slice from a DataFrame.\n",
      "Try using .loc[row_indexer,col_indexer] = value instead\n",
      "\n",
      "See the caveats in the documentation: https://pandas.pydata.org/pandas-docs/stable/user_guide/indexing.html#returning-a-view-versus-a-copy\n",
      "  df['std_Close'] = scaler.fit_transform(df['close'].values.reshape(-1, 1))\n",
      "  0%|          | 0/113 [00:00<?, ?it/s]/Users/tiancaixiaohuoban/opt/anaconda3/lib/python3.8/site-packages/scipy/stats/stats.py:3845: PearsonRConstantInputWarning: An input array is constant; the correlation coefficent is not defined.\n",
      "  warnings.warn(PearsonRConstantInputWarning())\n",
      " 36%|███▋      | 41/113 [00:00<00:00, 391.44it/s]"
     ]
    },
    {
     "name": "stdout",
     "output_type": "stream",
     "text": [
      "CF\n"
     ]
    },
    {
     "name": "stderr",
     "output_type": "stream",
     "text": [
      "100%|██████████| 113/113 [00:00<00:00, 170.33it/s]\n",
      "<ipython-input-4-c3b15e353e63>:39: SettingWithCopyWarning: \n",
      "A value is trying to be set on a copy of a slice from a DataFrame.\n",
      "Try using .loc[row_indexer,col_indexer] = value instead\n",
      "\n",
      "See the caveats in the documentation: https://pandas.pydata.org/pandas-docs/stable/user_guide/indexing.html#returning-a-view-versus-a-copy\n",
      "  df['Signal'] = np.concatenate([item[2] for item in price_volume_pairs])\n",
      "<ipython-input-4-c3b15e353e63>:7: SettingWithCopyWarning: \n",
      "A value is trying to be set on a copy of a slice from a DataFrame.\n",
      "Try using .loc[row_indexer,col_indexer] = value instead\n",
      "\n",
      "See the caveats in the documentation: https://pandas.pydata.org/pandas-docs/stable/user_guide/indexing.html#returning-a-view-versus-a-copy\n",
      "  df['std_Vol'] = scaler.fit_transform(df['volume'].values.reshape(-1, 1))\n",
      "<ipython-input-4-c3b15e353e63>:11: SettingWithCopyWarning: \n",
      "A value is trying to be set on a copy of a slice from a DataFrame.\n",
      "Try using .loc[row_indexer,col_indexer] = value instead\n",
      "\n",
      "See the caveats in the documentation: https://pandas.pydata.org/pandas-docs/stable/user_guide/indexing.html#returning-a-view-versus-a-copy\n",
      "  df['std_Close'] = scaler.fit_transform(df['close'].values.reshape(-1, 1))\n",
      "  0%|          | 0/113 [00:00<?, ?it/s]/Users/tiancaixiaohuoban/opt/anaconda3/lib/python3.8/site-packages/scipy/stats/stats.py:3845: PearsonRConstantInputWarning: An input array is constant; the correlation coefficent is not defined.\n",
      "  warnings.warn(PearsonRConstantInputWarning())\n",
      " 38%|███▊      | 43/113 [00:00<00:00, 419.49it/s]"
     ]
    },
    {
     "name": "stdout",
     "output_type": "stream",
     "text": [
      "C\n"
     ]
    },
    {
     "name": "stderr",
     "output_type": "stream",
     "text": [
      "100%|██████████| 113/113 [00:00<00:00, 187.12it/s]\n",
      "<ipython-input-4-c3b15e353e63>:39: SettingWithCopyWarning: \n",
      "A value is trying to be set on a copy of a slice from a DataFrame.\n",
      "Try using .loc[row_indexer,col_indexer] = value instead\n",
      "\n",
      "See the caveats in the documentation: https://pandas.pydata.org/pandas-docs/stable/user_guide/indexing.html#returning-a-view-versus-a-copy\n",
      "  df['Signal'] = np.concatenate([item[2] for item in price_volume_pairs])\n",
      "<ipython-input-4-c3b15e353e63>:7: SettingWithCopyWarning: \n",
      "A value is trying to be set on a copy of a slice from a DataFrame.\n",
      "Try using .loc[row_indexer,col_indexer] = value instead\n",
      "\n",
      "See the caveats in the documentation: https://pandas.pydata.org/pandas-docs/stable/user_guide/indexing.html#returning-a-view-versus-a-copy\n",
      "  df['std_Vol'] = scaler.fit_transform(df['volume'].values.reshape(-1, 1))\n",
      "<ipython-input-4-c3b15e353e63>:11: SettingWithCopyWarning: \n",
      "A value is trying to be set on a copy of a slice from a DataFrame.\n",
      "Try using .loc[row_indexer,col_indexer] = value instead\n",
      "\n",
      "See the caveats in the documentation: https://pandas.pydata.org/pandas-docs/stable/user_guide/indexing.html#returning-a-view-versus-a-copy\n",
      "  df['std_Close'] = scaler.fit_transform(df['close'].values.reshape(-1, 1))\n",
      "  0%|          | 0/113 [00:00<?, ?it/s]/Users/tiancaixiaohuoban/opt/anaconda3/lib/python3.8/site-packages/scipy/stats/stats.py:3845: PearsonRConstantInputWarning: An input array is constant; the correlation coefficent is not defined.\n",
      "  warnings.warn(PearsonRConstantInputWarning())\n",
      " 28%|██▊       | 32/113 [00:00<00:00, 308.89it/s]"
     ]
    },
    {
     "name": "stdout",
     "output_type": "stream",
     "text": [
      "RM\n"
     ]
    },
    {
     "name": "stderr",
     "output_type": "stream",
     "text": [
      "100%|██████████| 113/113 [00:00<00:00, 146.30it/s]\n",
      "<ipython-input-4-c3b15e353e63>:39: SettingWithCopyWarning: \n",
      "A value is trying to be set on a copy of a slice from a DataFrame.\n",
      "Try using .loc[row_indexer,col_indexer] = value instead\n",
      "\n",
      "See the caveats in the documentation: https://pandas.pydata.org/pandas-docs/stable/user_guide/indexing.html#returning-a-view-versus-a-copy\n",
      "  df['Signal'] = np.concatenate([item[2] for item in price_volume_pairs])\n"
     ]
    }
   ],
   "source": [
    "# 循环产生信号（成交量+价格）\n",
    "for asset in st_sel_univ:\n",
    "    print(asset)\n",
    "    df = sec_post_1d_df.loc[asset].T\n",
    "    df = df.fillna(df.mean())\n",
    "    if (asset=='AG'):\n",
    "        test_signal_df1 = generate_signal_for_df1(df.head(3390))\n",
    "        continue\n",
    "    # 产生信号\n",
    "    signal = generate_signal_for_df1(df.head(3390))\n",
    "    test_signal_df1 = pd.concat([test_signal_df1, signal], axis=1)"
   ]
  },
  {
   "cell_type": "code",
   "execution_count": 11,
   "metadata": {},
   "outputs": [
    {
     "name": "stderr",
     "output_type": "stream",
     "text": [
      "<ipython-input-5-73a796cc1bad>:7: SettingWithCopyWarning: \n",
      "A value is trying to be set on a copy of a slice from a DataFrame.\n",
      "Try using .loc[row_indexer,col_indexer] = value instead\n",
      "\n",
      "See the caveats in the documentation: https://pandas.pydata.org/pandas-docs/stable/user_guide/indexing.html#returning-a-view-versus-a-copy\n",
      "  df['std_Oi'] = scaler.fit_transform(df['oi'].values.reshape(-1, 1))\n",
      "<ipython-input-5-73a796cc1bad>:11: SettingWithCopyWarning: \n",
      "A value is trying to be set on a copy of a slice from a DataFrame.\n",
      "Try using .loc[row_indexer,col_indexer] = value instead\n",
      "\n",
      "See the caveats in the documentation: https://pandas.pydata.org/pandas-docs/stable/user_guide/indexing.html#returning-a-view-versus-a-copy\n",
      "  df['std_Close'] = scaler.fit_transform(df['close'].values.reshape(-1, 1))\n",
      "  0%|          | 0/113 [00:00<?, ?it/s]/Users/tiancaixiaohuoban/opt/anaconda3/lib/python3.8/site-packages/scipy/stats/stats.py:3845: PearsonRConstantInputWarning: An input array is constant; the correlation coefficent is not defined.\n",
      "  warnings.warn(PearsonRConstantInputWarning())\n",
      " 23%|██▎       | 26/113 [00:00<00:00, 253.31it/s]"
     ]
    },
    {
     "name": "stdout",
     "output_type": "stream",
     "text": [
      "AG\n"
     ]
    },
    {
     "name": "stderr",
     "output_type": "stream",
     "text": [
      "100%|██████████| 113/113 [00:00<00:00, 129.42it/s]\n",
      "<ipython-input-5-73a796cc1bad>:39: SettingWithCopyWarning: \n",
      "A value is trying to be set on a copy of a slice from a DataFrame.\n",
      "Try using .loc[row_indexer,col_indexer] = value instead\n",
      "\n",
      "See the caveats in the documentation: https://pandas.pydata.org/pandas-docs/stable/user_guide/indexing.html#returning-a-view-versus-a-copy\n",
      "  df['Signal'] = np.concatenate([item[2] for item in price_oi_pairs])\n",
      "<ipython-input-5-73a796cc1bad>:7: SettingWithCopyWarning: \n",
      "A value is trying to be set on a copy of a slice from a DataFrame.\n",
      "Try using .loc[row_indexer,col_indexer] = value instead\n",
      "\n",
      "See the caveats in the documentation: https://pandas.pydata.org/pandas-docs/stable/user_guide/indexing.html#returning-a-view-versus-a-copy\n",
      "  df['std_Oi'] = scaler.fit_transform(df['oi'].values.reshape(-1, 1))\n",
      "<ipython-input-5-73a796cc1bad>:11: SettingWithCopyWarning: \n",
      "A value is trying to be set on a copy of a slice from a DataFrame.\n",
      "Try using .loc[row_indexer,col_indexer] = value instead\n",
      "\n",
      "See the caveats in the documentation: https://pandas.pydata.org/pandas-docs/stable/user_guide/indexing.html#returning-a-view-versus-a-copy\n",
      "  df['std_Close'] = scaler.fit_transform(df['close'].values.reshape(-1, 1))\n",
      "  0%|          | 0/113 [00:00<?, ?it/s]/Users/tiancaixiaohuoban/opt/anaconda3/lib/python3.8/site-packages/scipy/stats/stats.py:3845: PearsonRConstantInputWarning: An input array is constant; the correlation coefficent is not defined.\n",
      "  warnings.warn(PearsonRConstantInputWarning())\n",
      " 35%|███▍      | 39/113 [00:00<00:00, 379.33it/s]"
     ]
    },
    {
     "name": "stdout",
     "output_type": "stream",
     "text": [
      "AL\n"
     ]
    },
    {
     "name": "stderr",
     "output_type": "stream",
     "text": [
      "100%|██████████| 113/113 [00:00<00:00, 162.80it/s]\n",
      "<ipython-input-5-73a796cc1bad>:39: SettingWithCopyWarning: \n",
      "A value is trying to be set on a copy of a slice from a DataFrame.\n",
      "Try using .loc[row_indexer,col_indexer] = value instead\n",
      "\n",
      "See the caveats in the documentation: https://pandas.pydata.org/pandas-docs/stable/user_guide/indexing.html#returning-a-view-versus-a-copy\n",
      "  df['Signal'] = np.concatenate([item[2] for item in price_oi_pairs])\n",
      "<ipython-input-5-73a796cc1bad>:7: SettingWithCopyWarning: \n",
      "A value is trying to be set on a copy of a slice from a DataFrame.\n",
      "Try using .loc[row_indexer,col_indexer] = value instead\n",
      "\n",
      "See the caveats in the documentation: https://pandas.pydata.org/pandas-docs/stable/user_guide/indexing.html#returning-a-view-versus-a-copy\n",
      "  df['std_Oi'] = scaler.fit_transform(df['oi'].values.reshape(-1, 1))\n",
      "<ipython-input-5-73a796cc1bad>:11: SettingWithCopyWarning: \n",
      "A value is trying to be set on a copy of a slice from a DataFrame.\n",
      "Try using .loc[row_indexer,col_indexer] = value instead\n",
      "\n",
      "See the caveats in the documentation: https://pandas.pydata.org/pandas-docs/stable/user_guide/indexing.html#returning-a-view-versus-a-copy\n",
      "  df['std_Close'] = scaler.fit_transform(df['close'].values.reshape(-1, 1))\n",
      "  0%|          | 0/113 [00:00<?, ?it/s]/Users/tiancaixiaohuoban/opt/anaconda3/lib/python3.8/site-packages/scipy/stats/stats.py:3845: PearsonRConstantInputWarning: An input array is constant; the correlation coefficent is not defined.\n",
      "  warnings.warn(PearsonRConstantInputWarning())\n",
      " 41%|████      | 46/113 [00:00<00:00, 429.73it/s]"
     ]
    },
    {
     "name": "stdout",
     "output_type": "stream",
     "text": [
      "NI\n"
     ]
    },
    {
     "name": "stderr",
     "output_type": "stream",
     "text": [
      "100%|██████████| 113/113 [00:00<00:00, 170.64it/s]\n",
      "<ipython-input-5-73a796cc1bad>:39: SettingWithCopyWarning: \n",
      "A value is trying to be set on a copy of a slice from a DataFrame.\n",
      "Try using .loc[row_indexer,col_indexer] = value instead\n",
      "\n",
      "See the caveats in the documentation: https://pandas.pydata.org/pandas-docs/stable/user_guide/indexing.html#returning-a-view-versus-a-copy\n",
      "  df['Signal'] = np.concatenate([item[2] for item in price_oi_pairs])\n",
      "<ipython-input-5-73a796cc1bad>:7: SettingWithCopyWarning: \n",
      "A value is trying to be set on a copy of a slice from a DataFrame.\n",
      "Try using .loc[row_indexer,col_indexer] = value instead\n",
      "\n",
      "See the caveats in the documentation: https://pandas.pydata.org/pandas-docs/stable/user_guide/indexing.html#returning-a-view-versus-a-copy\n",
      "  df['std_Oi'] = scaler.fit_transform(df['oi'].values.reshape(-1, 1))\n",
      "<ipython-input-5-73a796cc1bad>:11: SettingWithCopyWarning: \n",
      "A value is trying to be set on a copy of a slice from a DataFrame.\n",
      "Try using .loc[row_indexer,col_indexer] = value instead\n",
      "\n",
      "See the caveats in the documentation: https://pandas.pydata.org/pandas-docs/stable/user_guide/indexing.html#returning-a-view-versus-a-copy\n",
      "  df['std_Close'] = scaler.fit_transform(df['close'].values.reshape(-1, 1))\n",
      "  9%|▉         | 10/113 [00:00<00:01, 92.88it/s]"
     ]
    },
    {
     "name": "stdout",
     "output_type": "stream",
     "text": [
      "ZN\n"
     ]
    },
    {
     "name": "stderr",
     "output_type": "stream",
     "text": [
      "100%|██████████| 113/113 [00:01<00:00, 100.97it/s]\n",
      "<ipython-input-5-73a796cc1bad>:39: SettingWithCopyWarning: \n",
      "A value is trying to be set on a copy of a slice from a DataFrame.\n",
      "Try using .loc[row_indexer,col_indexer] = value instead\n",
      "\n",
      "See the caveats in the documentation: https://pandas.pydata.org/pandas-docs/stable/user_guide/indexing.html#returning-a-view-versus-a-copy\n",
      "  df['Signal'] = np.concatenate([item[2] for item in price_oi_pairs])\n",
      "<ipython-input-5-73a796cc1bad>:7: SettingWithCopyWarning: \n",
      "A value is trying to be set on a copy of a slice from a DataFrame.\n",
      "Try using .loc[row_indexer,col_indexer] = value instead\n",
      "\n",
      "See the caveats in the documentation: https://pandas.pydata.org/pandas-docs/stable/user_guide/indexing.html#returning-a-view-versus-a-copy\n",
      "  df['std_Oi'] = scaler.fit_transform(df['oi'].values.reshape(-1, 1))\n",
      "<ipython-input-5-73a796cc1bad>:11: SettingWithCopyWarning: \n",
      "A value is trying to be set on a copy of a slice from a DataFrame.\n",
      "Try using .loc[row_indexer,col_indexer] = value instead\n",
      "\n",
      "See the caveats in the documentation: https://pandas.pydata.org/pandas-docs/stable/user_guide/indexing.html#returning-a-view-versus-a-copy\n",
      "  df['std_Close'] = scaler.fit_transform(df['close'].values.reshape(-1, 1))\n",
      "  0%|          | 0/113 [00:00<?, ?it/s]/Users/tiancaixiaohuoban/opt/anaconda3/lib/python3.8/site-packages/scipy/stats/stats.py:3845: PearsonRConstantInputWarning: An input array is constant; the correlation coefficent is not defined.\n",
      "  warnings.warn(PearsonRConstantInputWarning())\n",
      " 51%|█████▏    | 58/113 [00:00<00:00, 578.42it/s]"
     ]
    },
    {
     "name": "stdout",
     "output_type": "stream",
     "text": [
      "PB\n"
     ]
    },
    {
     "name": "stderr",
     "output_type": "stream",
     "text": [
      "100%|██████████| 113/113 [00:00<00:00, 279.80it/s]\n",
      "<ipython-input-5-73a796cc1bad>:39: SettingWithCopyWarning: \n",
      "A value is trying to be set on a copy of a slice from a DataFrame.\n",
      "Try using .loc[row_indexer,col_indexer] = value instead\n",
      "\n",
      "See the caveats in the documentation: https://pandas.pydata.org/pandas-docs/stable/user_guide/indexing.html#returning-a-view-versus-a-copy\n",
      "  df['Signal'] = np.concatenate([item[2] for item in price_oi_pairs])\n",
      "<ipython-input-5-73a796cc1bad>:7: SettingWithCopyWarning: \n",
      "A value is trying to be set on a copy of a slice from a DataFrame.\n",
      "Try using .loc[row_indexer,col_indexer] = value instead\n",
      "\n",
      "See the caveats in the documentation: https://pandas.pydata.org/pandas-docs/stable/user_guide/indexing.html#returning-a-view-versus-a-copy\n",
      "  df['std_Oi'] = scaler.fit_transform(df['oi'].values.reshape(-1, 1))\n",
      "<ipython-input-5-73a796cc1bad>:11: SettingWithCopyWarning: \n",
      "A value is trying to be set on a copy of a slice from a DataFrame.\n",
      "Try using .loc[row_indexer,col_indexer] = value instead\n",
      "\n",
      "See the caveats in the documentation: https://pandas.pydata.org/pandas-docs/stable/user_guide/indexing.html#returning-a-view-versus-a-copy\n",
      "  df['std_Close'] = scaler.fit_transform(df['close'].values.reshape(-1, 1))\n",
      "  8%|▊         | 9/113 [00:00<00:01, 88.95it/s]"
     ]
    },
    {
     "name": "stdout",
     "output_type": "stream",
     "text": [
      "CU\n"
     ]
    },
    {
     "name": "stderr",
     "output_type": "stream",
     "text": [
      "100%|██████████| 113/113 [00:01<00:00, 103.73it/s]\n",
      "<ipython-input-5-73a796cc1bad>:39: SettingWithCopyWarning: \n",
      "A value is trying to be set on a copy of a slice from a DataFrame.\n",
      "Try using .loc[row_indexer,col_indexer] = value instead\n",
      "\n",
      "See the caveats in the documentation: https://pandas.pydata.org/pandas-docs/stable/user_guide/indexing.html#returning-a-view-versus-a-copy\n",
      "  df['Signal'] = np.concatenate([item[2] for item in price_oi_pairs])\n",
      "<ipython-input-5-73a796cc1bad>:7: SettingWithCopyWarning: \n",
      "A value is trying to be set on a copy of a slice from a DataFrame.\n",
      "Try using .loc[row_indexer,col_indexer] = value instead\n",
      "\n",
      "See the caveats in the documentation: https://pandas.pydata.org/pandas-docs/stable/user_guide/indexing.html#returning-a-view-versus-a-copy\n",
      "  df['std_Oi'] = scaler.fit_transform(df['oi'].values.reshape(-1, 1))\n",
      "<ipython-input-5-73a796cc1bad>:11: SettingWithCopyWarning: \n",
      "A value is trying to be set on a copy of a slice from a DataFrame.\n",
      "Try using .loc[row_indexer,col_indexer] = value instead\n",
      "\n",
      "See the caveats in the documentation: https://pandas.pydata.org/pandas-docs/stable/user_guide/indexing.html#returning-a-view-versus-a-copy\n",
      "  df['std_Close'] = scaler.fit_transform(df['close'].values.reshape(-1, 1))\n",
      "  0%|          | 0/113 [00:00<?, ?it/s]/Users/tiancaixiaohuoban/opt/anaconda3/lib/python3.8/site-packages/scipy/stats/stats.py:3845: PearsonRConstantInputWarning: An input array is constant; the correlation coefficent is not defined.\n",
      "  warnings.warn(PearsonRConstantInputWarning())\n",
      " 47%|████▋     | 53/113 [00:00<00:00, 501.54it/s]"
     ]
    },
    {
     "name": "stdout",
     "output_type": "stream",
     "text": [
      "SN\n"
     ]
    },
    {
     "name": "stderr",
     "output_type": "stream",
     "text": [
      "100%|██████████| 113/113 [00:00<00:00, 231.80it/s]\n",
      "<ipython-input-5-73a796cc1bad>:39: SettingWithCopyWarning: \n",
      "A value is trying to be set on a copy of a slice from a DataFrame.\n",
      "Try using .loc[row_indexer,col_indexer] = value instead\n",
      "\n",
      "See the caveats in the documentation: https://pandas.pydata.org/pandas-docs/stable/user_guide/indexing.html#returning-a-view-versus-a-copy\n",
      "  df['Signal'] = np.concatenate([item[2] for item in price_oi_pairs])\n",
      "<ipython-input-5-73a796cc1bad>:7: SettingWithCopyWarning: \n",
      "A value is trying to be set on a copy of a slice from a DataFrame.\n",
      "Try using .loc[row_indexer,col_indexer] = value instead\n",
      "\n",
      "See the caveats in the documentation: https://pandas.pydata.org/pandas-docs/stable/user_guide/indexing.html#returning-a-view-versus-a-copy\n",
      "  df['std_Oi'] = scaler.fit_transform(df['oi'].values.reshape(-1, 1))\n",
      "<ipython-input-5-73a796cc1bad>:11: SettingWithCopyWarning: \n",
      "A value is trying to be set on a copy of a slice from a DataFrame.\n",
      "Try using .loc[row_indexer,col_indexer] = value instead\n",
      "\n",
      "See the caveats in the documentation: https://pandas.pydata.org/pandas-docs/stable/user_guide/indexing.html#returning-a-view-versus-a-copy\n",
      "  df['std_Close'] = scaler.fit_transform(df['close'].values.reshape(-1, 1))\n",
      "  9%|▉         | 10/113 [00:00<00:01, 95.92it/s]"
     ]
    },
    {
     "name": "stdout",
     "output_type": "stream",
     "text": [
      "RB\n"
     ]
    },
    {
     "name": "stderr",
     "output_type": "stream",
     "text": [
      "100%|██████████| 113/113 [00:01<00:00, 89.90it/s]\n",
      "<ipython-input-5-73a796cc1bad>:39: SettingWithCopyWarning: \n",
      "A value is trying to be set on a copy of a slice from a DataFrame.\n",
      "Try using .loc[row_indexer,col_indexer] = value instead\n",
      "\n",
      "See the caveats in the documentation: https://pandas.pydata.org/pandas-docs/stable/user_guide/indexing.html#returning-a-view-versus-a-copy\n",
      "  df['Signal'] = np.concatenate([item[2] for item in price_oi_pairs])\n",
      "<ipython-input-5-73a796cc1bad>:7: SettingWithCopyWarning: \n",
      "A value is trying to be set on a copy of a slice from a DataFrame.\n",
      "Try using .loc[row_indexer,col_indexer] = value instead\n",
      "\n",
      "See the caveats in the documentation: https://pandas.pydata.org/pandas-docs/stable/user_guide/indexing.html#returning-a-view-versus-a-copy\n",
      "  df['std_Oi'] = scaler.fit_transform(df['oi'].values.reshape(-1, 1))\n",
      "<ipython-input-5-73a796cc1bad>:11: SettingWithCopyWarning: \n",
      "A value is trying to be set on a copy of a slice from a DataFrame.\n",
      "Try using .loc[row_indexer,col_indexer] = value instead\n",
      "\n",
      "See the caveats in the documentation: https://pandas.pydata.org/pandas-docs/stable/user_guide/indexing.html#returning-a-view-versus-a-copy\n",
      "  df['std_Close'] = scaler.fit_transform(df['close'].values.reshape(-1, 1))\n",
      "  0%|          | 0/113 [00:00<?, ?it/s]/Users/tiancaixiaohuoban/opt/anaconda3/lib/python3.8/site-packages/scipy/stats/stats.py:3845: PearsonRConstantInputWarning: An input array is constant; the correlation coefficent is not defined.\n",
      "  warnings.warn(PearsonRConstantInputWarning())\n",
      " 46%|████▌     | 52/113 [00:00<00:00, 496.93it/s]"
     ]
    },
    {
     "name": "stdout",
     "output_type": "stream",
     "text": [
      "HC\n"
     ]
    },
    {
     "name": "stderr",
     "output_type": "stream",
     "text": [
      "100%|██████████| 113/113 [00:00<00:00, 190.33it/s]\n",
      "<ipython-input-5-73a796cc1bad>:39: SettingWithCopyWarning: \n",
      "A value is trying to be set on a copy of a slice from a DataFrame.\n",
      "Try using .loc[row_indexer,col_indexer] = value instead\n",
      "\n",
      "See the caveats in the documentation: https://pandas.pydata.org/pandas-docs/stable/user_guide/indexing.html#returning-a-view-versus-a-copy\n",
      "  df['Signal'] = np.concatenate([item[2] for item in price_oi_pairs])\n",
      "<ipython-input-5-73a796cc1bad>:7: SettingWithCopyWarning: \n",
      "A value is trying to be set on a copy of a slice from a DataFrame.\n",
      "Try using .loc[row_indexer,col_indexer] = value instead\n",
      "\n",
      "See the caveats in the documentation: https://pandas.pydata.org/pandas-docs/stable/user_guide/indexing.html#returning-a-view-versus-a-copy\n",
      "  df['std_Oi'] = scaler.fit_transform(df['oi'].values.reshape(-1, 1))\n",
      "<ipython-input-5-73a796cc1bad>:11: SettingWithCopyWarning: \n",
      "A value is trying to be set on a copy of a slice from a DataFrame.\n",
      "Try using .loc[row_indexer,col_indexer] = value instead\n",
      "\n",
      "See the caveats in the documentation: https://pandas.pydata.org/pandas-docs/stable/user_guide/indexing.html#returning-a-view-versus-a-copy\n",
      "  df['std_Close'] = scaler.fit_transform(df['close'].values.reshape(-1, 1))\n",
      "  0%|          | 0/113 [00:00<?, ?it/s]/Users/tiancaixiaohuoban/opt/anaconda3/lib/python3.8/site-packages/scipy/stats/stats.py:3845: PearsonRConstantInputWarning: An input array is constant; the correlation coefficent is not defined.\n",
      "  warnings.warn(PearsonRConstantInputWarning())\n",
      " 32%|███▏      | 36/113 [00:00<00:00, 356.29it/s]"
     ]
    },
    {
     "name": "stdout",
     "output_type": "stream",
     "text": [
      "I\n"
     ]
    },
    {
     "name": "stderr",
     "output_type": "stream",
     "text": [
      "100%|██████████| 113/113 [00:00<00:00, 158.28it/s]\n",
      "<ipython-input-5-73a796cc1bad>:39: SettingWithCopyWarning: \n",
      "A value is trying to be set on a copy of a slice from a DataFrame.\n",
      "Try using .loc[row_indexer,col_indexer] = value instead\n",
      "\n",
      "See the caveats in the documentation: https://pandas.pydata.org/pandas-docs/stable/user_guide/indexing.html#returning-a-view-versus-a-copy\n",
      "  df['Signal'] = np.concatenate([item[2] for item in price_oi_pairs])\n",
      "<ipython-input-5-73a796cc1bad>:7: SettingWithCopyWarning: \n",
      "A value is trying to be set on a copy of a slice from a DataFrame.\n",
      "Try using .loc[row_indexer,col_indexer] = value instead\n",
      "\n",
      "See the caveats in the documentation: https://pandas.pydata.org/pandas-docs/stable/user_guide/indexing.html#returning-a-view-versus-a-copy\n",
      "  df['std_Oi'] = scaler.fit_transform(df['oi'].values.reshape(-1, 1))\n",
      "<ipython-input-5-73a796cc1bad>:11: SettingWithCopyWarning: \n",
      "A value is trying to be set on a copy of a slice from a DataFrame.\n",
      "Try using .loc[row_indexer,col_indexer] = value instead\n",
      "\n",
      "See the caveats in the documentation: https://pandas.pydata.org/pandas-docs/stable/user_guide/indexing.html#returning-a-view-versus-a-copy\n",
      "  df['std_Close'] = scaler.fit_transform(df['close'].values.reshape(-1, 1))\n",
      "  0%|          | 0/113 [00:00<?, ?it/s]/Users/tiancaixiaohuoban/opt/anaconda3/lib/python3.8/site-packages/scipy/stats/stats.py:3845: PearsonRConstantInputWarning: An input array is constant; the correlation coefficent is not defined.\n",
      "  warnings.warn(PearsonRConstantInputWarning())\n",
      " 25%|██▍       | 28/113 [00:00<00:00, 266.11it/s]"
     ]
    },
    {
     "name": "stdout",
     "output_type": "stream",
     "text": [
      "J\n"
     ]
    },
    {
     "name": "stderr",
     "output_type": "stream",
     "text": [
      "100%|██████████| 113/113 [00:00<00:00, 121.24it/s]\n",
      "<ipython-input-5-73a796cc1bad>:39: SettingWithCopyWarning: \n",
      "A value is trying to be set on a copy of a slice from a DataFrame.\n",
      "Try using .loc[row_indexer,col_indexer] = value instead\n",
      "\n",
      "See the caveats in the documentation: https://pandas.pydata.org/pandas-docs/stable/user_guide/indexing.html#returning-a-view-versus-a-copy\n",
      "  df['Signal'] = np.concatenate([item[2] for item in price_oi_pairs])\n",
      "<ipython-input-5-73a796cc1bad>:7: SettingWithCopyWarning: \n",
      "A value is trying to be set on a copy of a slice from a DataFrame.\n",
      "Try using .loc[row_indexer,col_indexer] = value instead\n",
      "\n",
      "See the caveats in the documentation: https://pandas.pydata.org/pandas-docs/stable/user_guide/indexing.html#returning-a-view-versus-a-copy\n",
      "  df['std_Oi'] = scaler.fit_transform(df['oi'].values.reshape(-1, 1))\n",
      "<ipython-input-5-73a796cc1bad>:11: SettingWithCopyWarning: \n",
      "A value is trying to be set on a copy of a slice from a DataFrame.\n",
      "Try using .loc[row_indexer,col_indexer] = value instead\n",
      "\n",
      "See the caveats in the documentation: https://pandas.pydata.org/pandas-docs/stable/user_guide/indexing.html#returning-a-view-versus-a-copy\n",
      "  df['std_Close'] = scaler.fit_transform(df['close'].values.reshape(-1, 1))\n",
      "  0%|          | 0/113 [00:00<?, ?it/s]/Users/tiancaixiaohuoban/opt/anaconda3/lib/python3.8/site-packages/scipy/stats/stats.py:3845: PearsonRConstantInputWarning: An input array is constant; the correlation coefficent is not defined.\n",
      "  warnings.warn(PearsonRConstantInputWarning())\n",
      " 28%|██▊       | 32/113 [00:00<00:00, 301.60it/s]"
     ]
    },
    {
     "name": "stdout",
     "output_type": "stream",
     "text": [
      "JM\n"
     ]
    },
    {
     "name": "stderr",
     "output_type": "stream",
     "text": [
      "100%|██████████| 113/113 [00:00<00:00, 139.75it/s]\n",
      "<ipython-input-5-73a796cc1bad>:39: SettingWithCopyWarning: \n",
      "A value is trying to be set on a copy of a slice from a DataFrame.\n",
      "Try using .loc[row_indexer,col_indexer] = value instead\n",
      "\n",
      "See the caveats in the documentation: https://pandas.pydata.org/pandas-docs/stable/user_guide/indexing.html#returning-a-view-versus-a-copy\n",
      "  df['Signal'] = np.concatenate([item[2] for item in price_oi_pairs])\n",
      "<ipython-input-5-73a796cc1bad>:7: SettingWithCopyWarning: \n",
      "A value is trying to be set on a copy of a slice from a DataFrame.\n",
      "Try using .loc[row_indexer,col_indexer] = value instead\n",
      "\n",
      "See the caveats in the documentation: https://pandas.pydata.org/pandas-docs/stable/user_guide/indexing.html#returning-a-view-versus-a-copy\n",
      "  df['std_Oi'] = scaler.fit_transform(df['oi'].values.reshape(-1, 1))\n",
      "<ipython-input-5-73a796cc1bad>:11: SettingWithCopyWarning: \n",
      "A value is trying to be set on a copy of a slice from a DataFrame.\n",
      "Try using .loc[row_indexer,col_indexer] = value instead\n",
      "\n",
      "See the caveats in the documentation: https://pandas.pydata.org/pandas-docs/stable/user_guide/indexing.html#returning-a-view-versus-a-copy\n",
      "  df['std_Close'] = scaler.fit_transform(df['close'].values.reshape(-1, 1))\n",
      "  0%|          | 0/113 [00:00<?, ?it/s]/Users/tiancaixiaohuoban/opt/anaconda3/lib/python3.8/site-packages/scipy/stats/stats.py:3845: PearsonRConstantInputWarning: An input array is constant; the correlation coefficent is not defined.\n",
      "  warnings.warn(PearsonRConstantInputWarning())\n",
      " 27%|██▋       | 31/113 [00:00<00:00, 304.10it/s]"
     ]
    },
    {
     "name": "stdout",
     "output_type": "stream",
     "text": [
      "FG\n"
     ]
    },
    {
     "name": "stderr",
     "output_type": "stream",
     "text": [
      "100%|██████████| 113/113 [00:00<00:00, 138.49it/s]\n",
      "<ipython-input-5-73a796cc1bad>:39: SettingWithCopyWarning: \n",
      "A value is trying to be set on a copy of a slice from a DataFrame.\n",
      "Try using .loc[row_indexer,col_indexer] = value instead\n",
      "\n",
      "See the caveats in the documentation: https://pandas.pydata.org/pandas-docs/stable/user_guide/indexing.html#returning-a-view-versus-a-copy\n",
      "  df['Signal'] = np.concatenate([item[2] for item in price_oi_pairs])\n",
      "<ipython-input-5-73a796cc1bad>:7: SettingWithCopyWarning: \n",
      "A value is trying to be set on a copy of a slice from a DataFrame.\n",
      "Try using .loc[row_indexer,col_indexer] = value instead\n",
      "\n",
      "See the caveats in the documentation: https://pandas.pydata.org/pandas-docs/stable/user_guide/indexing.html#returning-a-view-versus-a-copy\n",
      "  df['std_Oi'] = scaler.fit_transform(df['oi'].values.reshape(-1, 1))\n",
      "<ipython-input-5-73a796cc1bad>:11: SettingWithCopyWarning: \n",
      "A value is trying to be set on a copy of a slice from a DataFrame.\n",
      "Try using .loc[row_indexer,col_indexer] = value instead\n",
      "\n",
      "See the caveats in the documentation: https://pandas.pydata.org/pandas-docs/stable/user_guide/indexing.html#returning-a-view-versus-a-copy\n",
      "  df['std_Close'] = scaler.fit_transform(df['close'].values.reshape(-1, 1))\n",
      "  0%|          | 0/113 [00:00<?, ?it/s]/Users/tiancaixiaohuoban/opt/anaconda3/lib/python3.8/site-packages/scipy/stats/stats.py:3845: PearsonRConstantInputWarning: An input array is constant; the correlation coefficent is not defined.\n",
      "  warnings.warn(PearsonRConstantInputWarning())\n",
      " 62%|██████▏   | 70/113 [00:00<00:00, 698.40it/s]"
     ]
    },
    {
     "name": "stdout",
     "output_type": "stream",
     "text": [
      "SA\n"
     ]
    },
    {
     "name": "stderr",
     "output_type": "stream",
     "text": [
      "100%|██████████| 113/113 [00:00<00:00, 434.87it/s]\n",
      "<ipython-input-5-73a796cc1bad>:39: SettingWithCopyWarning: \n",
      "A value is trying to be set on a copy of a slice from a DataFrame.\n",
      "Try using .loc[row_indexer,col_indexer] = value instead\n",
      "\n",
      "See the caveats in the documentation: https://pandas.pydata.org/pandas-docs/stable/user_guide/indexing.html#returning-a-view-versus-a-copy\n",
      "  df['Signal'] = np.concatenate([item[2] for item in price_oi_pairs])\n",
      "<ipython-input-5-73a796cc1bad>:7: SettingWithCopyWarning: \n",
      "A value is trying to be set on a copy of a slice from a DataFrame.\n",
      "Try using .loc[row_indexer,col_indexer] = value instead\n",
      "\n",
      "See the caveats in the documentation: https://pandas.pydata.org/pandas-docs/stable/user_guide/indexing.html#returning-a-view-versus-a-copy\n",
      "  df['std_Oi'] = scaler.fit_transform(df['oi'].values.reshape(-1, 1))\n",
      "<ipython-input-5-73a796cc1bad>:11: SettingWithCopyWarning: \n",
      "A value is trying to be set on a copy of a slice from a DataFrame.\n",
      "Try using .loc[row_indexer,col_indexer] = value instead\n",
      "\n",
      "See the caveats in the documentation: https://pandas.pydata.org/pandas-docs/stable/user_guide/indexing.html#returning-a-view-versus-a-copy\n",
      "  df['std_Close'] = scaler.fit_transform(df['close'].values.reshape(-1, 1))\n",
      "  0%|          | 0/113 [00:00<?, ?it/s]/Users/tiancaixiaohuoban/opt/anaconda3/lib/python3.8/site-packages/scipy/stats/stats.py:3845: PearsonRConstantInputWarning: An input array is constant; the correlation coefficent is not defined.\n",
      "  warnings.warn(PearsonRConstantInputWarning())\n",
      " 58%|█████▊    | 66/113 [00:00<00:00, 652.08it/s]"
     ]
    },
    {
     "name": "stdout",
     "output_type": "stream",
     "text": [
      "SF\n"
     ]
    },
    {
     "name": "stderr",
     "output_type": "stream",
     "text": [
      "100%|██████████| 113/113 [00:00<00:00, 307.40it/s]\n",
      "<ipython-input-5-73a796cc1bad>:39: SettingWithCopyWarning: \n",
      "A value is trying to be set on a copy of a slice from a DataFrame.\n",
      "Try using .loc[row_indexer,col_indexer] = value instead\n",
      "\n",
      "See the caveats in the documentation: https://pandas.pydata.org/pandas-docs/stable/user_guide/indexing.html#returning-a-view-versus-a-copy\n",
      "  df['Signal'] = np.concatenate([item[2] for item in price_oi_pairs])\n",
      "<ipython-input-5-73a796cc1bad>:7: SettingWithCopyWarning: \n",
      "A value is trying to be set on a copy of a slice from a DataFrame.\n",
      "Try using .loc[row_indexer,col_indexer] = value instead\n",
      "\n",
      "See the caveats in the documentation: https://pandas.pydata.org/pandas-docs/stable/user_guide/indexing.html#returning-a-view-versus-a-copy\n",
      "  df['std_Oi'] = scaler.fit_transform(df['oi'].values.reshape(-1, 1))\n",
      "<ipython-input-5-73a796cc1bad>:11: SettingWithCopyWarning: \n",
      "A value is trying to be set on a copy of a slice from a DataFrame.\n",
      "Try using .loc[row_indexer,col_indexer] = value instead\n",
      "\n",
      "See the caveats in the documentation: https://pandas.pydata.org/pandas-docs/stable/user_guide/indexing.html#returning-a-view-versus-a-copy\n",
      "  df['std_Close'] = scaler.fit_transform(df['close'].values.reshape(-1, 1))\n",
      "  0%|          | 0/113 [00:00<?, ?it/s]/Users/tiancaixiaohuoban/opt/anaconda3/lib/python3.8/site-packages/scipy/stats/stats.py:3845: PearsonRConstantInputWarning: An input array is constant; the correlation coefficent is not defined.\n",
      "  warnings.warn(PearsonRConstantInputWarning())\n",
      " 54%|█████▍    | 61/113 [00:00<00:00, 604.95it/s]"
     ]
    },
    {
     "name": "stdout",
     "output_type": "stream",
     "text": [
      "SM\n"
     ]
    },
    {
     "name": "stderr",
     "output_type": "stream",
     "text": [
      "100%|██████████| 113/113 [00:00<00:00, 281.48it/s]\n",
      "<ipython-input-5-73a796cc1bad>:39: SettingWithCopyWarning: \n",
      "A value is trying to be set on a copy of a slice from a DataFrame.\n",
      "Try using .loc[row_indexer,col_indexer] = value instead\n",
      "\n",
      "See the caveats in the documentation: https://pandas.pydata.org/pandas-docs/stable/user_guide/indexing.html#returning-a-view-versus-a-copy\n",
      "  df['Signal'] = np.concatenate([item[2] for item in price_oi_pairs])\n",
      "<ipython-input-5-73a796cc1bad>:7: SettingWithCopyWarning: \n",
      "A value is trying to be set on a copy of a slice from a DataFrame.\n",
      "Try using .loc[row_indexer,col_indexer] = value instead\n",
      "\n",
      "See the caveats in the documentation: https://pandas.pydata.org/pandas-docs/stable/user_guide/indexing.html#returning-a-view-versus-a-copy\n",
      "  df['std_Oi'] = scaler.fit_transform(df['oi'].values.reshape(-1, 1))\n",
      "<ipython-input-5-73a796cc1bad>:11: SettingWithCopyWarning: \n",
      "A value is trying to be set on a copy of a slice from a DataFrame.\n",
      "Try using .loc[row_indexer,col_indexer] = value instead\n",
      "\n",
      "See the caveats in the documentation: https://pandas.pydata.org/pandas-docs/stable/user_guide/indexing.html#returning-a-view-versus-a-copy\n",
      "  df['std_Close'] = scaler.fit_transform(df['close'].values.reshape(-1, 1))\n",
      "  0%|          | 0/113 [00:00<?, ?it/s]/Users/tiancaixiaohuoban/opt/anaconda3/lib/python3.8/site-packages/scipy/stats/stats.py:3845: PearsonRConstantInputWarning: An input array is constant; the correlation coefficent is not defined.\n",
      "  warnings.warn(PearsonRConstantInputWarning())\n",
      " 44%|████▍     | 50/113 [00:00<00:00, 472.36it/s]"
     ]
    },
    {
     "name": "stdout",
     "output_type": "stream",
     "text": [
      "BU\n"
     ]
    },
    {
     "name": "stderr",
     "output_type": "stream",
     "text": [
      "100%|██████████| 113/113 [00:00<00:00, 220.06it/s]\n",
      "<ipython-input-5-73a796cc1bad>:39: SettingWithCopyWarning: \n",
      "A value is trying to be set on a copy of a slice from a DataFrame.\n",
      "Try using .loc[row_indexer,col_indexer] = value instead\n",
      "\n",
      "See the caveats in the documentation: https://pandas.pydata.org/pandas-docs/stable/user_guide/indexing.html#returning-a-view-versus-a-copy\n",
      "  df['Signal'] = np.concatenate([item[2] for item in price_oi_pairs])\n",
      "<ipython-input-5-73a796cc1bad>:7: SettingWithCopyWarning: \n",
      "A value is trying to be set on a copy of a slice from a DataFrame.\n",
      "Try using .loc[row_indexer,col_indexer] = value instead\n",
      "\n",
      "See the caveats in the documentation: https://pandas.pydata.org/pandas-docs/stable/user_guide/indexing.html#returning-a-view-versus-a-copy\n",
      "  df['std_Oi'] = scaler.fit_transform(df['oi'].values.reshape(-1, 1))\n",
      "<ipython-input-5-73a796cc1bad>:11: SettingWithCopyWarning: \n",
      "A value is trying to be set on a copy of a slice from a DataFrame.\n",
      "Try using .loc[row_indexer,col_indexer] = value instead\n",
      "\n",
      "See the caveats in the documentation: https://pandas.pydata.org/pandas-docs/stable/user_guide/indexing.html#returning-a-view-versus-a-copy\n",
      "  df['std_Close'] = scaler.fit_transform(df['close'].values.reshape(-1, 1))\n",
      " 10%|▉         | 11/113 [00:00<00:00, 109.55it/s]"
     ]
    },
    {
     "name": "stdout",
     "output_type": "stream",
     "text": [
      "L\n"
     ]
    },
    {
     "name": "stderr",
     "output_type": "stream",
     "text": [
      "100%|██████████| 113/113 [00:01<00:00, 110.75it/s]\n",
      "<ipython-input-5-73a796cc1bad>:39: SettingWithCopyWarning: \n",
      "A value is trying to be set on a copy of a slice from a DataFrame.\n",
      "Try using .loc[row_indexer,col_indexer] = value instead\n",
      "\n",
      "See the caveats in the documentation: https://pandas.pydata.org/pandas-docs/stable/user_guide/indexing.html#returning-a-view-versus-a-copy\n",
      "  df['Signal'] = np.concatenate([item[2] for item in price_oi_pairs])\n",
      "<ipython-input-5-73a796cc1bad>:7: SettingWithCopyWarning: \n",
      "A value is trying to be set on a copy of a slice from a DataFrame.\n",
      "Try using .loc[row_indexer,col_indexer] = value instead\n",
      "\n",
      "See the caveats in the documentation: https://pandas.pydata.org/pandas-docs/stable/user_guide/indexing.html#returning-a-view-versus-a-copy\n",
      "  df['std_Oi'] = scaler.fit_transform(df['oi'].values.reshape(-1, 1))\n",
      "<ipython-input-5-73a796cc1bad>:11: SettingWithCopyWarning: \n",
      "A value is trying to be set on a copy of a slice from a DataFrame.\n",
      "Try using .loc[row_indexer,col_indexer] = value instead\n",
      "\n",
      "See the caveats in the documentation: https://pandas.pydata.org/pandas-docs/stable/user_guide/indexing.html#returning-a-view-versus-a-copy\n",
      "  df['std_Close'] = scaler.fit_transform(df['close'].values.reshape(-1, 1))\n",
      "  0%|          | 0/113 [00:00<?, ?it/s]/Users/tiancaixiaohuoban/opt/anaconda3/lib/python3.8/site-packages/scipy/stats/stats.py:3845: PearsonRConstantInputWarning: An input array is constant; the correlation coefficent is not defined.\n",
      "  warnings.warn(PearsonRConstantInputWarning())\n",
      " 43%|████▎     | 49/113 [00:00<00:00, 473.58it/s]"
     ]
    },
    {
     "name": "stdout",
     "output_type": "stream",
     "text": [
      "MA\n"
     ]
    },
    {
     "name": "stderr",
     "output_type": "stream",
     "text": [
      "100%|██████████| 113/113 [00:00<00:00, 197.43it/s]\n",
      "<ipython-input-5-73a796cc1bad>:39: SettingWithCopyWarning: \n",
      "A value is trying to be set on a copy of a slice from a DataFrame.\n",
      "Try using .loc[row_indexer,col_indexer] = value instead\n",
      "\n",
      "See the caveats in the documentation: https://pandas.pydata.org/pandas-docs/stable/user_guide/indexing.html#returning-a-view-versus-a-copy\n",
      "  df['Signal'] = np.concatenate([item[2] for item in price_oi_pairs])\n",
      "<ipython-input-5-73a796cc1bad>:7: SettingWithCopyWarning: \n",
      "A value is trying to be set on a copy of a slice from a DataFrame.\n",
      "Try using .loc[row_indexer,col_indexer] = value instead\n",
      "\n",
      "See the caveats in the documentation: https://pandas.pydata.org/pandas-docs/stable/user_guide/indexing.html#returning-a-view-versus-a-copy\n",
      "  df['std_Oi'] = scaler.fit_transform(df['oi'].values.reshape(-1, 1))\n",
      "<ipython-input-5-73a796cc1bad>:11: SettingWithCopyWarning: \n",
      "A value is trying to be set on a copy of a slice from a DataFrame.\n",
      "Try using .loc[row_indexer,col_indexer] = value instead\n",
      "\n",
      "See the caveats in the documentation: https://pandas.pydata.org/pandas-docs/stable/user_guide/indexing.html#returning-a-view-versus-a-copy\n",
      "  df['std_Close'] = scaler.fit_transform(df['close'].values.reshape(-1, 1))\n",
      "  0%|          | 0/113 [00:00<?, ?it/s]/Users/tiancaixiaohuoban/opt/anaconda3/lib/python3.8/site-packages/scipy/stats/stats.py:3845: PearsonRConstantInputWarning: An input array is constant; the correlation coefficent is not defined.\n",
      "  warnings.warn(PearsonRConstantInputWarning())\n",
      " 38%|███▊      | 43/113 [00:00<00:00, 408.70it/s]"
     ]
    },
    {
     "name": "stdout",
     "output_type": "stream",
     "text": [
      "PP\n"
     ]
    },
    {
     "name": "stderr",
     "output_type": "stream",
     "text": [
      "100%|██████████| 113/113 [00:00<00:00, 197.25it/s]\n",
      "<ipython-input-5-73a796cc1bad>:39: SettingWithCopyWarning: \n",
      "A value is trying to be set on a copy of a slice from a DataFrame.\n",
      "Try using .loc[row_indexer,col_indexer] = value instead\n",
      "\n",
      "See the caveats in the documentation: https://pandas.pydata.org/pandas-docs/stable/user_guide/indexing.html#returning-a-view-versus-a-copy\n",
      "  df['Signal'] = np.concatenate([item[2] for item in price_oi_pairs])\n",
      "<ipython-input-5-73a796cc1bad>:7: SettingWithCopyWarning: \n",
      "A value is trying to be set on a copy of a slice from a DataFrame.\n",
      "Try using .loc[row_indexer,col_indexer] = value instead\n",
      "\n",
      "See the caveats in the documentation: https://pandas.pydata.org/pandas-docs/stable/user_guide/indexing.html#returning-a-view-versus-a-copy\n",
      "  df['std_Oi'] = scaler.fit_transform(df['oi'].values.reshape(-1, 1))\n",
      "<ipython-input-5-73a796cc1bad>:11: SettingWithCopyWarning: \n",
      "A value is trying to be set on a copy of a slice from a DataFrame.\n",
      "Try using .loc[row_indexer,col_indexer] = value instead\n",
      "\n",
      "See the caveats in the documentation: https://pandas.pydata.org/pandas-docs/stable/user_guide/indexing.html#returning-a-view-versus-a-copy\n",
      "  df['std_Close'] = scaler.fit_transform(df['close'].values.reshape(-1, 1))\n",
      " 10%|▉         | 11/113 [00:00<00:00, 107.48it/s]"
     ]
    },
    {
     "name": "stdout",
     "output_type": "stream",
     "text": [
      "RU\n"
     ]
    },
    {
     "name": "stderr",
     "output_type": "stream",
     "text": [
      "100%|██████████| 113/113 [00:01<00:00, 109.82it/s]\n",
      "<ipython-input-5-73a796cc1bad>:39: SettingWithCopyWarning: \n",
      "A value is trying to be set on a copy of a slice from a DataFrame.\n",
      "Try using .loc[row_indexer,col_indexer] = value instead\n",
      "\n",
      "See the caveats in the documentation: https://pandas.pydata.org/pandas-docs/stable/user_guide/indexing.html#returning-a-view-versus-a-copy\n",
      "  df['Signal'] = np.concatenate([item[2] for item in price_oi_pairs])\n",
      "<ipython-input-5-73a796cc1bad>:7: SettingWithCopyWarning: \n",
      "A value is trying to be set on a copy of a slice from a DataFrame.\n",
      "Try using .loc[row_indexer,col_indexer] = value instead\n",
      "\n",
      "See the caveats in the documentation: https://pandas.pydata.org/pandas-docs/stable/user_guide/indexing.html#returning-a-view-versus-a-copy\n",
      "  df['std_Oi'] = scaler.fit_transform(df['oi'].values.reshape(-1, 1))\n",
      "<ipython-input-5-73a796cc1bad>:11: SettingWithCopyWarning: \n",
      "A value is trying to be set on a copy of a slice from a DataFrame.\n",
      "Try using .loc[row_indexer,col_indexer] = value instead\n",
      "\n",
      "See the caveats in the documentation: https://pandas.pydata.org/pandas-docs/stable/user_guide/indexing.html#returning-a-view-versus-a-copy\n",
      "  df['std_Close'] = scaler.fit_transform(df['close'].values.reshape(-1, 1))\n",
      "  0%|          | 0/113 [00:00<?, ?it/s]/Users/tiancaixiaohuoban/opt/anaconda3/lib/python3.8/site-packages/scipy/stats/stats.py:3845: PearsonRConstantInputWarning: An input array is constant; the correlation coefficent is not defined.\n",
      "  warnings.warn(PearsonRConstantInputWarning())\n",
      " 45%|████▌     | 51/113 [00:00<00:00, 460.59it/s]"
     ]
    },
    {
     "name": "stdout",
     "output_type": "stream",
     "text": [
      "V\n"
     ]
    },
    {
     "name": "stderr",
     "output_type": "stream",
     "text": [
      "100%|██████████| 113/113 [00:00<00:00, 170.35it/s]\n",
      "<ipython-input-5-73a796cc1bad>:39: SettingWithCopyWarning: \n",
      "A value is trying to be set on a copy of a slice from a DataFrame.\n",
      "Try using .loc[row_indexer,col_indexer] = value instead\n",
      "\n",
      "See the caveats in the documentation: https://pandas.pydata.org/pandas-docs/stable/user_guide/indexing.html#returning-a-view-versus-a-copy\n",
      "  df['Signal'] = np.concatenate([item[2] for item in price_oi_pairs])\n",
      "<ipython-input-5-73a796cc1bad>:7: SettingWithCopyWarning: \n",
      "A value is trying to be set on a copy of a slice from a DataFrame.\n",
      "Try using .loc[row_indexer,col_indexer] = value instead\n",
      "\n",
      "See the caveats in the documentation: https://pandas.pydata.org/pandas-docs/stable/user_guide/indexing.html#returning-a-view-versus-a-copy\n",
      "  df['std_Oi'] = scaler.fit_transform(df['oi'].values.reshape(-1, 1))\n",
      "<ipython-input-5-73a796cc1bad>:11: SettingWithCopyWarning: \n",
      "A value is trying to be set on a copy of a slice from a DataFrame.\n",
      "Try using .loc[row_indexer,col_indexer] = value instead\n",
      "\n",
      "See the caveats in the documentation: https://pandas.pydata.org/pandas-docs/stable/user_guide/indexing.html#returning-a-view-versus-a-copy\n",
      "  df['std_Close'] = scaler.fit_transform(df['close'].values.reshape(-1, 1))\n",
      " 10%|▉         | 11/113 [00:00<00:01, 100.43it/s]"
     ]
    },
    {
     "name": "stdout",
     "output_type": "stream",
     "text": [
      "TA\n"
     ]
    },
    {
     "name": "stderr",
     "output_type": "stream",
     "text": [
      "100%|██████████| 113/113 [00:01<00:00, 77.57it/s]\n",
      "<ipython-input-5-73a796cc1bad>:39: SettingWithCopyWarning: \n",
      "A value is trying to be set on a copy of a slice from a DataFrame.\n",
      "Try using .loc[row_indexer,col_indexer] = value instead\n",
      "\n",
      "See the caveats in the documentation: https://pandas.pydata.org/pandas-docs/stable/user_guide/indexing.html#returning-a-view-versus-a-copy\n",
      "  df['Signal'] = np.concatenate([item[2] for item in price_oi_pairs])\n",
      "<ipython-input-5-73a796cc1bad>:7: SettingWithCopyWarning: \n",
      "A value is trying to be set on a copy of a slice from a DataFrame.\n",
      "Try using .loc[row_indexer,col_indexer] = value instead\n",
      "\n",
      "See the caveats in the documentation: https://pandas.pydata.org/pandas-docs/stable/user_guide/indexing.html#returning-a-view-versus-a-copy\n",
      "  df['std_Oi'] = scaler.fit_transform(df['oi'].values.reshape(-1, 1))\n",
      "<ipython-input-5-73a796cc1bad>:11: SettingWithCopyWarning: \n",
      "A value is trying to be set on a copy of a slice from a DataFrame.\n",
      "Try using .loc[row_indexer,col_indexer] = value instead\n",
      "\n",
      "See the caveats in the documentation: https://pandas.pydata.org/pandas-docs/stable/user_guide/indexing.html#returning-a-view-versus-a-copy\n",
      "  df['std_Close'] = scaler.fit_transform(df['close'].values.reshape(-1, 1))\n",
      "  0%|          | 0/113 [00:00<?, ?it/s]/Users/tiancaixiaohuoban/opt/anaconda3/lib/python3.8/site-packages/scipy/stats/stats.py:3845: PearsonRConstantInputWarning: An input array is constant; the correlation coefficent is not defined.\n",
      "  warnings.warn(PearsonRConstantInputWarning())\n",
      " 58%|█████▊    | 65/113 [00:00<00:00, 637.58it/s]"
     ]
    },
    {
     "name": "stdout",
     "output_type": "stream",
     "text": [
      "FU\n"
     ]
    },
    {
     "name": "stderr",
     "output_type": "stream",
     "text": [
      "100%|██████████| 113/113 [00:00<00:00, 295.09it/s]\n",
      "<ipython-input-5-73a796cc1bad>:39: SettingWithCopyWarning: \n",
      "A value is trying to be set on a copy of a slice from a DataFrame.\n",
      "Try using .loc[row_indexer,col_indexer] = value instead\n",
      "\n",
      "See the caveats in the documentation: https://pandas.pydata.org/pandas-docs/stable/user_guide/indexing.html#returning-a-view-versus-a-copy\n",
      "  df['Signal'] = np.concatenate([item[2] for item in price_oi_pairs])\n",
      "<ipython-input-5-73a796cc1bad>:7: SettingWithCopyWarning: \n",
      "A value is trying to be set on a copy of a slice from a DataFrame.\n",
      "Try using .loc[row_indexer,col_indexer] = value instead\n",
      "\n",
      "See the caveats in the documentation: https://pandas.pydata.org/pandas-docs/stable/user_guide/indexing.html#returning-a-view-versus-a-copy\n",
      "  df['std_Oi'] = scaler.fit_transform(df['oi'].values.reshape(-1, 1))\n",
      "<ipython-input-5-73a796cc1bad>:11: SettingWithCopyWarning: \n",
      "A value is trying to be set on a copy of a slice from a DataFrame.\n",
      "Try using .loc[row_indexer,col_indexer] = value instead\n",
      "\n",
      "See the caveats in the documentation: https://pandas.pydata.org/pandas-docs/stable/user_guide/indexing.html#returning-a-view-versus-a-copy\n",
      "  df['std_Close'] = scaler.fit_transform(df['close'].values.reshape(-1, 1))\n",
      "  0%|          | 0/113 [00:00<?, ?it/s]/Users/tiancaixiaohuoban/opt/anaconda3/lib/python3.8/site-packages/scipy/stats/stats.py:3845: PearsonRConstantInputWarning: An input array is constant; the correlation coefficent is not defined.\n",
      "  warnings.warn(PearsonRConstantInputWarning())\n",
      " 58%|█████▊    | 65/113 [00:00<00:00, 647.23it/s]"
     ]
    },
    {
     "name": "stdout",
     "output_type": "stream",
     "text": [
      "EG\n"
     ]
    },
    {
     "name": "stderr",
     "output_type": "stream",
     "text": [
      "100%|██████████| 113/113 [00:00<00:00, 233.54it/s]\n",
      "<ipython-input-5-73a796cc1bad>:39: SettingWithCopyWarning: \n",
      "A value is trying to be set on a copy of a slice from a DataFrame.\n",
      "Try using .loc[row_indexer,col_indexer] = value instead\n",
      "\n",
      "See the caveats in the documentation: https://pandas.pydata.org/pandas-docs/stable/user_guide/indexing.html#returning-a-view-versus-a-copy\n",
      "  df['Signal'] = np.concatenate([item[2] for item in price_oi_pairs])\n",
      "<ipython-input-5-73a796cc1bad>:7: SettingWithCopyWarning: \n",
      "A value is trying to be set on a copy of a slice from a DataFrame.\n",
      "Try using .loc[row_indexer,col_indexer] = value instead\n",
      "\n",
      "See the caveats in the documentation: https://pandas.pydata.org/pandas-docs/stable/user_guide/indexing.html#returning-a-view-versus-a-copy\n",
      "  df['std_Oi'] = scaler.fit_transform(df['oi'].values.reshape(-1, 1))\n",
      "<ipython-input-5-73a796cc1bad>:11: SettingWithCopyWarning: \n",
      "A value is trying to be set on a copy of a slice from a DataFrame.\n",
      "Try using .loc[row_indexer,col_indexer] = value instead\n",
      "\n",
      "See the caveats in the documentation: https://pandas.pydata.org/pandas-docs/stable/user_guide/indexing.html#returning-a-view-versus-a-copy\n",
      "  df['std_Close'] = scaler.fit_transform(df['close'].values.reshape(-1, 1))\n",
      "  0%|          | 0/113 [00:00<?, ?it/s]/Users/tiancaixiaohuoban/opt/anaconda3/lib/python3.8/site-packages/scipy/stats/stats.py:3845: PearsonRConstantInputWarning: An input array is constant; the correlation coefficent is not defined.\n",
      "  warnings.warn(PearsonRConstantInputWarning())\n",
      " 58%|█████▊    | 66/113 [00:00<00:00, 657.74it/s]"
     ]
    },
    {
     "name": "stdout",
     "output_type": "stream",
     "text": [
      "SP\n"
     ]
    },
    {
     "name": "stderr",
     "output_type": "stream",
     "text": [
      "100%|██████████| 113/113 [00:00<00:00, 326.94it/s]\n",
      "<ipython-input-5-73a796cc1bad>:39: SettingWithCopyWarning: \n",
      "A value is trying to be set on a copy of a slice from a DataFrame.\n",
      "Try using .loc[row_indexer,col_indexer] = value instead\n",
      "\n",
      "See the caveats in the documentation: https://pandas.pydata.org/pandas-docs/stable/user_guide/indexing.html#returning-a-view-versus-a-copy\n",
      "  df['Signal'] = np.concatenate([item[2] for item in price_oi_pairs])\n",
      "<ipython-input-5-73a796cc1bad>:7: SettingWithCopyWarning: \n",
      "A value is trying to be set on a copy of a slice from a DataFrame.\n",
      "Try using .loc[row_indexer,col_indexer] = value instead\n",
      "\n",
      "See the caveats in the documentation: https://pandas.pydata.org/pandas-docs/stable/user_guide/indexing.html#returning-a-view-versus-a-copy\n",
      "  df['std_Oi'] = scaler.fit_transform(df['oi'].values.reshape(-1, 1))\n",
      "<ipython-input-5-73a796cc1bad>:11: SettingWithCopyWarning: \n",
      "A value is trying to be set on a copy of a slice from a DataFrame.\n",
      "Try using .loc[row_indexer,col_indexer] = value instead\n",
      "\n",
      "See the caveats in the documentation: https://pandas.pydata.org/pandas-docs/stable/user_guide/indexing.html#returning-a-view-versus-a-copy\n",
      "  df['std_Close'] = scaler.fit_transform(df['close'].values.reshape(-1, 1))\n",
      " 12%|█▏        | 13/113 [00:00<00:00, 122.70it/s]"
     ]
    },
    {
     "name": "stdout",
     "output_type": "stream",
     "text": [
      "A\n"
     ]
    },
    {
     "name": "stderr",
     "output_type": "stream",
     "text": [
      "100%|██████████| 113/113 [00:01<00:00, 81.94it/s]\n",
      "<ipython-input-5-73a796cc1bad>:39: SettingWithCopyWarning: \n",
      "A value is trying to be set on a copy of a slice from a DataFrame.\n",
      "Try using .loc[row_indexer,col_indexer] = value instead\n",
      "\n",
      "See the caveats in the documentation: https://pandas.pydata.org/pandas-docs/stable/user_guide/indexing.html#returning-a-view-versus-a-copy\n",
      "  df['Signal'] = np.concatenate([item[2] for item in price_oi_pairs])\n",
      "<ipython-input-5-73a796cc1bad>:7: SettingWithCopyWarning: \n",
      "A value is trying to be set on a copy of a slice from a DataFrame.\n",
      "Try using .loc[row_indexer,col_indexer] = value instead\n",
      "\n",
      "See the caveats in the documentation: https://pandas.pydata.org/pandas-docs/stable/user_guide/indexing.html#returning-a-view-versus-a-copy\n",
      "  df['std_Oi'] = scaler.fit_transform(df['oi'].values.reshape(-1, 1))\n",
      "<ipython-input-5-73a796cc1bad>:11: SettingWithCopyWarning: \n",
      "A value is trying to be set on a copy of a slice from a DataFrame.\n",
      "Try using .loc[row_indexer,col_indexer] = value instead\n",
      "\n",
      "See the caveats in the documentation: https://pandas.pydata.org/pandas-docs/stable/user_guide/indexing.html#returning-a-view-versus-a-copy\n",
      "  df['std_Close'] = scaler.fit_transform(df['close'].values.reshape(-1, 1))\n",
      "  7%|▋         | 8/113 [00:00<00:01, 71.66it/s]"
     ]
    },
    {
     "name": "stdout",
     "output_type": "stream",
     "text": [
      "M\n"
     ]
    },
    {
     "name": "stderr",
     "output_type": "stream",
     "text": [
      "100%|██████████| 113/113 [00:01<00:00, 89.61it/s]\n",
      "<ipython-input-5-73a796cc1bad>:39: SettingWithCopyWarning: \n",
      "A value is trying to be set on a copy of a slice from a DataFrame.\n",
      "Try using .loc[row_indexer,col_indexer] = value instead\n",
      "\n",
      "See the caveats in the documentation: https://pandas.pydata.org/pandas-docs/stable/user_guide/indexing.html#returning-a-view-versus-a-copy\n",
      "  df['Signal'] = np.concatenate([item[2] for item in price_oi_pairs])\n",
      "<ipython-input-5-73a796cc1bad>:7: SettingWithCopyWarning: \n",
      "A value is trying to be set on a copy of a slice from a DataFrame.\n",
      "Try using .loc[row_indexer,col_indexer] = value instead\n",
      "\n",
      "See the caveats in the documentation: https://pandas.pydata.org/pandas-docs/stable/user_guide/indexing.html#returning-a-view-versus-a-copy\n",
      "  df['std_Oi'] = scaler.fit_transform(df['oi'].values.reshape(-1, 1))\n",
      "<ipython-input-5-73a796cc1bad>:11: SettingWithCopyWarning: \n",
      "A value is trying to be set on a copy of a slice from a DataFrame.\n",
      "Try using .loc[row_indexer,col_indexer] = value instead\n",
      "\n",
      "See the caveats in the documentation: https://pandas.pydata.org/pandas-docs/stable/user_guide/indexing.html#returning-a-view-versus-a-copy\n",
      "  df['std_Close'] = scaler.fit_transform(df['close'].values.reshape(-1, 1))\n",
      " 10%|▉         | 11/113 [00:00<00:00, 106.32it/s]"
     ]
    },
    {
     "name": "stdout",
     "output_type": "stream",
     "text": [
      "P\n"
     ]
    },
    {
     "name": "stderr",
     "output_type": "stream",
     "text": [
      "100%|██████████| 113/113 [00:01<00:00, 93.67it/s]\n",
      "<ipython-input-5-73a796cc1bad>:39: SettingWithCopyWarning: \n",
      "A value is trying to be set on a copy of a slice from a DataFrame.\n",
      "Try using .loc[row_indexer,col_indexer] = value instead\n",
      "\n",
      "See the caveats in the documentation: https://pandas.pydata.org/pandas-docs/stable/user_guide/indexing.html#returning-a-view-versus-a-copy\n",
      "  df['Signal'] = np.concatenate([item[2] for item in price_oi_pairs])\n",
      "<ipython-input-5-73a796cc1bad>:7: SettingWithCopyWarning: \n",
      "A value is trying to be set on a copy of a slice from a DataFrame.\n",
      "Try using .loc[row_indexer,col_indexer] = value instead\n",
      "\n",
      "See the caveats in the documentation: https://pandas.pydata.org/pandas-docs/stable/user_guide/indexing.html#returning-a-view-versus-a-copy\n",
      "  df['std_Oi'] = scaler.fit_transform(df['oi'].values.reshape(-1, 1))\n",
      "<ipython-input-5-73a796cc1bad>:11: SettingWithCopyWarning: \n",
      "A value is trying to be set on a copy of a slice from a DataFrame.\n",
      "Try using .loc[row_indexer,col_indexer] = value instead\n",
      "\n",
      "See the caveats in the documentation: https://pandas.pydata.org/pandas-docs/stable/user_guide/indexing.html#returning-a-view-versus-a-copy\n",
      "  df['std_Close'] = scaler.fit_transform(df['close'].values.reshape(-1, 1))\n",
      "  0%|          | 0/113 [00:00<?, ?it/s]/Users/tiancaixiaohuoban/opt/anaconda3/lib/python3.8/site-packages/scipy/stats/stats.py:3845: PearsonRConstantInputWarning: An input array is constant; the correlation coefficent is not defined.\n",
      "  warnings.warn(PearsonRConstantInputWarning())\n",
      " 30%|███       | 34/113 [00:00<00:00, 312.66it/s]"
     ]
    },
    {
     "name": "stdout",
     "output_type": "stream",
     "text": [
      "OI\n"
     ]
    },
    {
     "name": "stderr",
     "output_type": "stream",
     "text": [
      "100%|██████████| 113/113 [00:00<00:00, 143.15it/s]\n",
      "<ipython-input-5-73a796cc1bad>:39: SettingWithCopyWarning: \n",
      "A value is trying to be set on a copy of a slice from a DataFrame.\n",
      "Try using .loc[row_indexer,col_indexer] = value instead\n",
      "\n",
      "See the caveats in the documentation: https://pandas.pydata.org/pandas-docs/stable/user_guide/indexing.html#returning-a-view-versus-a-copy\n",
      "  df['Signal'] = np.concatenate([item[2] for item in price_oi_pairs])\n",
      "<ipython-input-5-73a796cc1bad>:7: SettingWithCopyWarning: \n",
      "A value is trying to be set on a copy of a slice from a DataFrame.\n",
      "Try using .loc[row_indexer,col_indexer] = value instead\n",
      "\n",
      "See the caveats in the documentation: https://pandas.pydata.org/pandas-docs/stable/user_guide/indexing.html#returning-a-view-versus-a-copy\n",
      "  df['std_Oi'] = scaler.fit_transform(df['oi'].values.reshape(-1, 1))\n",
      "<ipython-input-5-73a796cc1bad>:11: SettingWithCopyWarning: \n",
      "A value is trying to be set on a copy of a slice from a DataFrame.\n",
      "Try using .loc[row_indexer,col_indexer] = value instead\n",
      "\n",
      "See the caveats in the documentation: https://pandas.pydata.org/pandas-docs/stable/user_guide/indexing.html#returning-a-view-versus-a-copy\n",
      "  df['std_Close'] = scaler.fit_transform(df['close'].values.reshape(-1, 1))\n",
      "  8%|▊         | 9/113 [00:00<00:01, 84.20it/s]"
     ]
    },
    {
     "name": "stdout",
     "output_type": "stream",
     "text": [
      "Y\n"
     ]
    },
    {
     "name": "stderr",
     "output_type": "stream",
     "text": [
      "100%|██████████| 113/113 [00:01<00:00, 95.05it/s] \n",
      "<ipython-input-5-73a796cc1bad>:39: SettingWithCopyWarning: \n",
      "A value is trying to be set on a copy of a slice from a DataFrame.\n",
      "Try using .loc[row_indexer,col_indexer] = value instead\n",
      "\n",
      "See the caveats in the documentation: https://pandas.pydata.org/pandas-docs/stable/user_guide/indexing.html#returning-a-view-versus-a-copy\n",
      "  df['Signal'] = np.concatenate([item[2] for item in price_oi_pairs])\n",
      "<ipython-input-5-73a796cc1bad>:7: SettingWithCopyWarning: \n",
      "A value is trying to be set on a copy of a slice from a DataFrame.\n",
      "Try using .loc[row_indexer,col_indexer] = value instead\n",
      "\n",
      "See the caveats in the documentation: https://pandas.pydata.org/pandas-docs/stable/user_guide/indexing.html#returning-a-view-versus-a-copy\n",
      "  df['std_Oi'] = scaler.fit_transform(df['oi'].values.reshape(-1, 1))\n",
      "<ipython-input-5-73a796cc1bad>:11: SettingWithCopyWarning: \n",
      "A value is trying to be set on a copy of a slice from a DataFrame.\n",
      "Try using .loc[row_indexer,col_indexer] = value instead\n",
      "\n",
      "See the caveats in the documentation: https://pandas.pydata.org/pandas-docs/stable/user_guide/indexing.html#returning-a-view-versus-a-copy\n",
      "  df['std_Close'] = scaler.fit_transform(df['close'].values.reshape(-1, 1))\n",
      " 11%|█         | 12/113 [00:00<00:00, 118.85it/s]"
     ]
    },
    {
     "name": "stdout",
     "output_type": "stream",
     "text": [
      "SR\n"
     ]
    },
    {
     "name": "stderr",
     "output_type": "stream",
     "text": [
      "100%|██████████| 113/113 [00:01<00:00, 93.34it/s]\n",
      "<ipython-input-5-73a796cc1bad>:39: SettingWithCopyWarning: \n",
      "A value is trying to be set on a copy of a slice from a DataFrame.\n",
      "Try using .loc[row_indexer,col_indexer] = value instead\n",
      "\n",
      "See the caveats in the documentation: https://pandas.pydata.org/pandas-docs/stable/user_guide/indexing.html#returning-a-view-versus-a-copy\n",
      "  df['Signal'] = np.concatenate([item[2] for item in price_oi_pairs])\n",
      "<ipython-input-5-73a796cc1bad>:7: SettingWithCopyWarning: \n",
      "A value is trying to be set on a copy of a slice from a DataFrame.\n",
      "Try using .loc[row_indexer,col_indexer] = value instead\n",
      "\n",
      "See the caveats in the documentation: https://pandas.pydata.org/pandas-docs/stable/user_guide/indexing.html#returning-a-view-versus-a-copy\n",
      "  df['std_Oi'] = scaler.fit_transform(df['oi'].values.reshape(-1, 1))\n",
      "<ipython-input-5-73a796cc1bad>:11: SettingWithCopyWarning: \n",
      "A value is trying to be set on a copy of a slice from a DataFrame.\n",
      "Try using .loc[row_indexer,col_indexer] = value instead\n",
      "\n",
      "See the caveats in the documentation: https://pandas.pydata.org/pandas-docs/stable/user_guide/indexing.html#returning-a-view-versus-a-copy\n",
      "  df['std_Close'] = scaler.fit_transform(df['close'].values.reshape(-1, 1))\n",
      "  0%|          | 0/113 [00:00<?, ?it/s]/Users/tiancaixiaohuoban/opt/anaconda3/lib/python3.8/site-packages/scipy/stats/stats.py:3845: PearsonRConstantInputWarning: An input array is constant; the correlation coefficent is not defined.\n",
      "  warnings.warn(PearsonRConstantInputWarning())\n",
      " 33%|███▎      | 37/113 [00:00<00:00, 364.31it/s]"
     ]
    },
    {
     "name": "stdout",
     "output_type": "stream",
     "text": [
      "CF\n"
     ]
    },
    {
     "name": "stderr",
     "output_type": "stream",
     "text": [
      "100%|██████████| 113/113 [00:00<00:00, 171.84it/s]\n",
      "<ipython-input-5-73a796cc1bad>:39: SettingWithCopyWarning: \n",
      "A value is trying to be set on a copy of a slice from a DataFrame.\n",
      "Try using .loc[row_indexer,col_indexer] = value instead\n",
      "\n",
      "See the caveats in the documentation: https://pandas.pydata.org/pandas-docs/stable/user_guide/indexing.html#returning-a-view-versus-a-copy\n",
      "  df['Signal'] = np.concatenate([item[2] for item in price_oi_pairs])\n",
      "<ipython-input-5-73a796cc1bad>:7: SettingWithCopyWarning: \n",
      "A value is trying to be set on a copy of a slice from a DataFrame.\n",
      "Try using .loc[row_indexer,col_indexer] = value instead\n",
      "\n",
      "See the caveats in the documentation: https://pandas.pydata.org/pandas-docs/stable/user_guide/indexing.html#returning-a-view-versus-a-copy\n",
      "  df['std_Oi'] = scaler.fit_transform(df['oi'].values.reshape(-1, 1))\n",
      "<ipython-input-5-73a796cc1bad>:11: SettingWithCopyWarning: \n",
      "A value is trying to be set on a copy of a slice from a DataFrame.\n",
      "Try using .loc[row_indexer,col_indexer] = value instead\n",
      "\n",
      "See the caveats in the documentation: https://pandas.pydata.org/pandas-docs/stable/user_guide/indexing.html#returning-a-view-versus-a-copy\n",
      "  df['std_Close'] = scaler.fit_transform(df['close'].values.reshape(-1, 1))\n",
      "  0%|          | 0/113 [00:00<?, ?it/s]/Users/tiancaixiaohuoban/opt/anaconda3/lib/python3.8/site-packages/scipy/stats/stats.py:3845: PearsonRConstantInputWarning: An input array is constant; the correlation coefficent is not defined.\n",
      "  warnings.warn(PearsonRConstantInputWarning())\n",
      " 37%|███▋      | 42/113 [00:00<00:00, 387.48it/s]"
     ]
    },
    {
     "name": "stdout",
     "output_type": "stream",
     "text": [
      "C\n"
     ]
    },
    {
     "name": "stderr",
     "output_type": "stream",
     "text": [
      "100%|██████████| 113/113 [00:00<00:00, 178.99it/s]\n",
      "<ipython-input-5-73a796cc1bad>:39: SettingWithCopyWarning: \n",
      "A value is trying to be set on a copy of a slice from a DataFrame.\n",
      "Try using .loc[row_indexer,col_indexer] = value instead\n",
      "\n",
      "See the caveats in the documentation: https://pandas.pydata.org/pandas-docs/stable/user_guide/indexing.html#returning-a-view-versus-a-copy\n",
      "  df['Signal'] = np.concatenate([item[2] for item in price_oi_pairs])\n",
      "<ipython-input-5-73a796cc1bad>:7: SettingWithCopyWarning: \n",
      "A value is trying to be set on a copy of a slice from a DataFrame.\n",
      "Try using .loc[row_indexer,col_indexer] = value instead\n",
      "\n",
      "See the caveats in the documentation: https://pandas.pydata.org/pandas-docs/stable/user_guide/indexing.html#returning-a-view-versus-a-copy\n",
      "  df['std_Oi'] = scaler.fit_transform(df['oi'].values.reshape(-1, 1))\n",
      "<ipython-input-5-73a796cc1bad>:11: SettingWithCopyWarning: \n",
      "A value is trying to be set on a copy of a slice from a DataFrame.\n",
      "Try using .loc[row_indexer,col_indexer] = value instead\n",
      "\n",
      "See the caveats in the documentation: https://pandas.pydata.org/pandas-docs/stable/user_guide/indexing.html#returning-a-view-versus-a-copy\n",
      "  df['std_Close'] = scaler.fit_transform(df['close'].values.reshape(-1, 1))\n",
      "  0%|          | 0/113 [00:00<?, ?it/s]/Users/tiancaixiaohuoban/opt/anaconda3/lib/python3.8/site-packages/scipy/stats/stats.py:3845: PearsonRConstantInputWarning: An input array is constant; the correlation coefficent is not defined.\n",
      "  warnings.warn(PearsonRConstantInputWarning())\n",
      " 30%|███       | 34/113 [00:00<00:00, 321.61it/s]"
     ]
    },
    {
     "name": "stdout",
     "output_type": "stream",
     "text": [
      "RM\n"
     ]
    },
    {
     "name": "stderr",
     "output_type": "stream",
     "text": [
      "100%|██████████| 113/113 [00:00<00:00, 159.17it/s]\n",
      "<ipython-input-5-73a796cc1bad>:39: SettingWithCopyWarning: \n",
      "A value is trying to be set on a copy of a slice from a DataFrame.\n",
      "Try using .loc[row_indexer,col_indexer] = value instead\n",
      "\n",
      "See the caveats in the documentation: https://pandas.pydata.org/pandas-docs/stable/user_guide/indexing.html#returning-a-view-versus-a-copy\n",
      "  df['Signal'] = np.concatenate([item[2] for item in price_oi_pairs])\n"
     ]
    }
   ],
   "source": [
    "# 循环产生信号（持仓量+价格）\n",
    "for asset in st_sel_univ:\n",
    "    print(asset)\n",
    "    df = sec_post_1d_df.loc[asset].T\n",
    "    df = df.fillna(df.mean())\n",
    "    if (asset=='AG'):\n",
    "        test_signal_df2 = generate_signal_for_df2(df.head(3390))\n",
    "        continue\n",
    "    # 产生信号\n",
    "    signal = generate_signal_for_df2(df.head(3390))\n",
    "    test_signal_df2 = pd.concat([test_signal_df2, signal], axis=1)"
   ]
  },
  {
   "cell_type": "code",
   "execution_count": 12,
   "metadata": {},
   "outputs": [],
   "source": [
    "test_signal_df1 = test_signal_df1.fillna(0)\n",
    "test_signal_df2 = test_signal_df2.fillna(0)"
   ]
  },
  {
   "cell_type": "code",
   "execution_count": 13,
   "metadata": {},
   "outputs": [],
   "source": [
    "test_signal_df1.columns = st_sel_univ\n",
    "test_signal_df2.columns = st_sel_univ"
   ]
  },
  {
   "cell_type": "code",
   "execution_count": 14,
   "metadata": {},
   "outputs": [],
   "source": [
    "test_signal_df1 = test_signal_df1.T\n",
    "test_signal_df2 = test_signal_df2.T"
   ]
  },
  {
   "cell_type": "code",
   "execution_count": 15,
   "metadata": {},
   "outputs": [],
   "source": [
    "test_sig_df1 = test_signal_df1\n",
    "test_sig_df2 = test_signal_df2"
   ]
  },
  {
   "cell_type": "code",
   "execution_count": 16,
   "metadata": {},
   "outputs": [],
   "source": [
    "#收益率序列\n",
    "pct_df1 = sec_post_1d_df.xs('close',level=1).pct_change(axis=1).reindex(test_sig_df1.index)\n",
    "pct_df2 = sec_post_1d_df.xs('close',level=1).pct_change(axis=1).reindex(test_sig_df2.index)"
   ]
  },
  {
   "cell_type": "code",
   "execution_count": 17,
   "metadata": {},
   "outputs": [],
   "source": [
    "#手续费\n",
    "fee_df1 = abs(test_sig_df1.diff(axis=1).fillna(0))*1e-4 #单边万一的手续费\n",
    "fee_df2 = abs(test_sig_df2.diff(axis=1).fillna(0))*1e-4 #单边万一的手续费"
   ]
  },
  {
   "cell_type": "code",
   "execution_count": 18,
   "metadata": {},
   "outputs": [],
   "source": [
    "#当天的信号作用到第二天，用close计算出来的收益率，shift-1.  \n",
    "pnl_seires1 = ((pct_df1.shift(-1,axis=1).fillna(0)*test_sig_df1-fee_df1).mean()+1).cumprod()\n",
    "pnl_seires2 = ((pct_df2.shift(-1,axis=1).fillna(0)*test_sig_df2-fee_df2).mean()+1).cumprod()"
   ]
  },
  {
   "cell_type": "code",
   "execution_count": 19,
   "metadata": {},
   "outputs": [
    {
     "data": {
      "image/png": "[encoded data removed]",
      "text/plain": [
       "<Figure size 432x288 with 1 Axes>"
      ]
     },
     "metadata": {
      "needs_background": "light"
     },
     "output_type": "display_data"
    }
   ],
   "source": [
    "# 创建一个绘图对象\n",
    "ax = pnl_seires1.plot(label='Volume+Close')\n",
    "\n",
    "# 绘制第二个Series\n",
    "pnl_seires2.plot(ax=ax, label='Oi+Close')\n",
    "\n",
    "# 添加标题和标签\n",
    "plt.title('Returns for Different Strategies')\n",
    "plt.xlabel('Date')\n",
    "plt.ylabel('Returns')\n",
    "\n",
    "# 添加图例\n",
    "plt.legend()\n",
    "\n",
    "# 显示图形\n",
    "plt.show()"
   ]
  },
  {
   "cell_type": "code",
   "execution_count": 20,
   "metadata": {},
   "outputs": [
    {
     "name": "stdout",
     "output_type": "stream",
     "text": [
      "Total Return: -12.20%\n",
      "Annualized Return: -0.95%\n",
      "Max Drawdown: -12.65%\n",
      "Sharpe Ratio: -0.6548\n"
     ]
    }
   ],
   "source": [
    "return_df1 = (pct_df1.shift(-1,axis=1).fillna(0)*test_sig_df1-fee_df1).mean()\n",
    "#通过Empyrical 计算夏普等绩效指标。无风险利率取0% \n",
    "total_return = ep.cum_returns_final(return_df1)\n",
    "annualized_return = ep.annual_return(return_df1)\n",
    "max_drawdown = ep.max_drawdown(return_df1)\n",
    "sharpe_ratio = ep.sharpe_ratio(return_df1)\n",
    "# Print performance metrics\n",
    "print(f\"Total Return: {total_return:.2%}\")\n",
    "print(f\"Annualized Return: {annualized_return:.2%}\")\n",
    "print(f\"Max Drawdown: {max_drawdown:.2%}\")\n",
    "print(f\"Sharpe Ratio: {sharpe_ratio:.4f}\")"
   ]
  },
  {
   "cell_type": "code",
   "execution_count": 21,
   "metadata": {},
   "outputs": [
    {
     "name": "stdout",
     "output_type": "stream",
     "text": [
      "Total Return: -7.05%\n",
      "Annualized Return: -0.54%\n",
      "Max Drawdown: -10.35%\n",
      "Sharpe Ratio: -0.3771\n"
     ]
    }
   ],
   "source": [
    "return_df2= (pct_df2.shift(-1,axis=1).fillna(0)*test_sig_df2-fee_df2).mean()\n",
    "#通过Empyrical 计算夏普等绩效指标。无风险利率取0% \n",
    "total_return = ep.cum_returns_final(return_df2)\n",
    "annualized_return = ep.annual_return(return_df2)\n",
    "max_drawdown = ep.max_drawdown(return_df2)\n",
    "sharpe_ratio = ep.sharpe_ratio(return_df2)\n",
    "# Print performance metrics\n",
    "print(f\"Total Return: {total_return:.2%}\")\n",
    "print(f\"Annualized Return: {annualized_return:.2%}\")\n",
    "print(f\"Max Drawdown: {max_drawdown:.2%}\")\n",
    "print(f\"Sharpe Ratio: {sharpe_ratio:.4f}\")"
   ]
  },
  {
   "cell_type": "code",
   "execution_count": null,
   "metadata": {},
   "outputs": [],
   "source": []
  }
 ],
 "metadata": {
  "kernelspec": {
   "display_name": "Python 3",
   "language": "python",
   "name": "python3"
  },
  "language_info": {
   "codemirror_mode": {
    "name": "ipython",
    "version": 3
   },
   "file_extension": ".py",
   "mimetype": "text/x-python",
   "name": "python",
   "nbconvert_exporter": "python",
   "pygments_lexer": "ipython3",
   "version": "3.8.5"
  }
 },
 "nbformat": 4,
 "nbformat_minor": 4
}
