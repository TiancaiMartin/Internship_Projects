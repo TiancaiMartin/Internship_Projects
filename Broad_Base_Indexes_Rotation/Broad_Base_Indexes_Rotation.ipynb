{
 "cells": [
  {
   "cell_type": "code",
   "metadata": {},
   "source": [
    "from get_db_funs import get_db_data\n",
    "import numpy as np\n",
    "# Index_data_keys = ['S_INFO_WINDCODE','TRADE_DT','S_DQ_OPEN','S_DQ_HIGH','S_DQ_LOW','S_DQ_CLOSE','S_DQ_PCTCHANGE','S_DQ_VOLUME']\n",
    "Index_data_keys =  ['S_INFO_WINDCODE','TRADE_DT','S_DQ_CLOSE']\n",
    "# add_conditions\n",
    "add_conditions = {'TRADE_DT': ('>', '20201031'), 'TRADE_DT': ('<', '20250501')}\n",
    "Index_data = get_db_data('AIndexEODPrices', keywords = Index_data_keys,additional_conditions=add_conditions)"
   ],
   "outputs": [],
   "execution_count": null
  },
  {
   "cell_type": "code",
   "metadata": {},
   "source": [
    "Index_data_filtered = Index_data[(Index_data['TRADE_DT']>'20230101') & (Index_data['TRADE_DT']<'20250101')]"
   ],
   "outputs": [],
   "execution_count": null
  },
  {
   "cell_type": "code",
   "metadata": {},
   "source": [
    "Index_tickers = Index_data_filtered['S_INFO_WINDCODE'].unique()"
   ],
   "outputs": [],
   "execution_count": null
  },
  {
   "cell_type": "code",
   "metadata": {},
   "source": [
    "data_dict = dict(tuple(Index_data_filtered.groupby('S_INFO_WINDCODE')))"
   ],
   "outputs": [],
   "execution_count": null
  },
  {
   "cell_type": "code",
   "metadata": {},
   "source": [
    "import pandas as pd\n",
    "for ticker in Index_tickers:\n",
    "    data_dict[ticker]['TRADE_DT'] = pd.to_datetime(data_dict[ticker]['TRADE_DT'])\n",
    "    data_dict[ticker] = data_dict[ticker].sort_values('TRADE_DT',ascending=True)"
   ],
   "outputs": [],
   "execution_count": null
  },
  {
   "cell_type": "code",
   "metadata": {},
   "source": [
    "df_result = []\n",
    "# 计算MACD\n",
    "def compute_macd(close, short_window=12, long_window=26, signal_window=9):\n",
    "    short_ema = close.ewm(span=short_window, adjust=False).mean()\n",
    "    long_ema = close.ewm(span=long_window, adjust=False).mean()\n",
    "    macd = short_ema - long_ema\n",
    "    signal = macd.ewm(span=signal_window, adjust=False).mean()\n",
    "    hist = macd - signal\n",
    "    return macd, signal, hist\n",
    "\n",
    "for ticker in Index_tickers:\n",
    "    df = data_dict[ticker]\n",
    "    df['MACD'], df['MACDSignal'], df['MACDHist'] = compute_macd(df['S_DQ_CLOSE'])\n",
    "    df_result.append(df)"
   ],
   "outputs": [],
   "execution_count": null
  },
  {
   "cell_type": "code",
   "metadata": {},
   "source": [
    "# 遍历每一日的数据，并根据不同指数的macd、signal和hist的值来判断买入、卖出和持有\n",
    "def get_signal(row):\n",
    "    if row['MACD'] > row['MACDSignal'] and row['MACDHist'] > 0:\n",
    "        return 1\n",
    "    elif row['MACD'] < row['MACDSignal'] and row['MACDHist'] < 0:\n",
    "        return -1\n",
    "    else:\n",
    "        return 0\n",
    "for df in df_result:\n",
    "    df['Signal'] = df.apply(get_signal, axis=1)\n",
    "    df['Signal'] = df['Signal'].shift(1)"
   ],
   "outputs": [],
   "execution_count": null
  },
  {
   "cell_type": "code",
   "metadata": {},
   "source": [
    "# 提取交易信号，并合并到一个DataFrame中，列名是指数的名称\n",
    "signals = pd.concat([df['Signal'] for df in df_result], axis=1)\n",
    "signals.columns = Index_tickers"
   ],
   "outputs": [],
   "execution_count": null
  },
  {
   "cell_type": "code",
   "metadata": {},
   "source": [
    "signals = signals.T.fillna(0)"
   ],
   "outputs": [],
   "execution_count": null
  },
  {
   "cell_type": "code",
   "metadata": {},
   "source": [
    "# 收益率序列\n",
    "pct_df = pd.concat([df['Close'].pct_change() for df in df_result], axis=1)\n",
    "pct_df.columns = Index_tickers\n",
    "pct_df = pct_df.T\n",
    "# 手续费\n",
    "fee_df = abs(signals.diff(axis=1).fillna(0))*1e-4\n",
    "pnl_series = ((pct_df.shift(-1,axis=1).fillna(0)*signals-fee_df).mean()+1).cumprod()"
   ],
   "outputs": [],
   "execution_count": null
  },
  {
   "cell_type": "code",
   "metadata": {},
   "source": [
    "def weight_signals_by_return_ranking(signals: pd.DataFrame, returns: pd.DataFrame) -> pd.DataFrame:\n",
    "    \"\"\"\n",
    "    根据前一日的涨幅排名，为当天的交易信号赋予递减权重。\n",
    "\n",
    "    权重规则：\n",
    "      假设指数总数为 N，\n",
    "      对于前一日涨幅排序，排名第1的指数权重为 N，\n",
    "      第2的指数权重为 N-1，\n",
    "      …，\n",
    "      第 N 的指数权重为 1。\n",
    "    最后将权重归一化，使得所有权重之和为1，再将当天的原始信号乘以对应权重。\n",
    "\n",
    "    参数:\n",
    "        signals: DataFrame，每日各指数的原始交易信号，行索引为日期，列为指数代码。\n",
    "        returns: DataFrame，每日各指数的涨幅数据，行索引为日期，列为指数代码。\n",
    "\n",
    "    返回:\n",
    "        weighted_signals: DataFrame，加权后的交易信号。\n",
    "    \"\"\"\n",
    "    # 保证两个 DataFrame 的日期顺序正确\n",
    "    signals = signals.sort_index()\n",
    "    returns = returns.sort_index()\n",
    "\n",
    "    weighted_signals = signals.copy()\n",
    "    n_indices = len(signals.columns)\n",
    "\n",
    "    # 计算权重的分母，即所有递减权重的和：N + (N-1) + ... + 1\n",
    "    total_weight = np.sum(np.arange(n_indices, 0, -1))\n",
    "\n",
    "    # 从第二天开始处理（第一天没有前一日数据，可选择置0或保留原信号）\n",
    "    for i in range(1, len(signals)):\n",
    "        current_date = signals.index[i]\n",
    "        prev_date = signals.index[i-1]\n",
    "        # 获取前一日的涨幅数据\n",
    "        prev_returns = returns.loc[prev_date]\n",
    "        # 按涨幅从高到低排序，得到指数的顺序列表\n",
    "        sorted_indices = prev_returns.sort_values(ascending=False).index.tolist()\n",
    "\n",
    "        # 构造权重字典：排名第1的权重为 N/total_weight，排名第2的为 (N-1)/total_weight，...\n",
    "        weight_map = { idx: (n_indices - rank + 1) / total_weight\n",
    "                       for rank, idx in enumerate(sorted_indices, start=1) }\n",
    "\n",
    "        # 对当天的每个指数信号乘以对应的权重\n",
    "        for idx in signals.columns:\n",
    "            weighted_signals.at[current_date, idx] = signals.at[current_date, idx] * weight_map[idx]\n",
    "\n",
    "    # 对于第一天没有前一日数据，可统一置为0（或按需要处理）\n",
    "    weighted_signals.iloc[0] = 0\n",
    "    return weighted_signals"
   ],
   "outputs": [],
   "execution_count": null
  },
  {
   "cell_type": "code",
   "metadata": {},
   "source": [
    "weighted_signals = weight_signals_by_return_ranking(signals.T, pct_df.T)\n",
    "weighted_signals = weighted_signals.T\n",
    "fee_df = abs(weighted_signals.diff(axis=1).fillna(0))*1e-4\n",
    "pnl_series_weighted = ((pct_df.shift(-1,axis=1).fillna(0)*weighted_signals-fee_df).mean()+1).cumprod()"
   ],
   "outputs": [],
   "execution_count": null
  },
  {
   "cell_type": "code",
   "metadata": {},
   "source": [
    "import matplotlib.pyplot as plt\n",
    "plt.figure(figsize=(12, 6))\n",
    "pnl_series.plot(label=\"Equal Weighted\")\n",
    "pnl_series_weighted.plot(label=\"Return Weighted\")\n",
    "plt.legend()\n",
    "plt.show()"
   ],
   "outputs": [],
   "execution_count": null
  }
 ],
 "metadata": {
  "kernelspec": {
   "display_name": "spyder-runtime",
   "language": "python",
   "name": "python3"
  },
  "language_info": {
   "codemirror_mode": {
    "name": "ipython",
    "version": 3
   },
   "file_extension": ".py",
   "mimetype": "text/x-python",
   "name": "python",
   "nbconvert_exporter": "python",
   "pygments_lexer": "ipython3",
   "version": "3.11.11"
  }
 },
 "nbformat": 4,
 "nbformat_minor": 2
}
