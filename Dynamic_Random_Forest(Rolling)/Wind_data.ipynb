{
 "cells": [
  {
   "cell_type": "code",
   "execution_count": 2,
   "id": "d6c9916f",
   "metadata": {},
   "outputs": [
    {
     "name": "stdout",
     "output_type": "stream",
     "text": [
      "Welcome to use Wind Quant API for Python (WindPy)!\n",
      "\n",
      "COPYRIGHT (C) 2024 WIND INFORMATION CO., LTD. ALL RIGHTS RESERVED.\n",
      "IN NO CIRCUMSTANCE SHALL WIND BE RESPONSIBLE FOR ANY DAMAGES OR LOSSES CAUSED BY USING WIND QUANT API FOR Python.\n"
     ]
    },
    {
     "data": {
      "text/plain": [
       "True"
      ]
     },
     "execution_count": 2,
     "metadata": {},
     "output_type": "execute_result"
    }
   ],
   "source": [
    "import pandas as pd\n",
    "import numpy as np\n",
    "from WindPy import w\n",
    "\n",
    "w.start() # 默认命令超时时间为120秒，如需设置超时时间可以加入waitTime参数，例如waitTime=60,即设置命令超时时间为60秒 \n",
    "\n",
    "w.isconnected() # 判断WindPy是否已经登录成功"
   ]
  },
  {
   "cell_type": "code",
   "execution_count": 1,
   "id": "2489a0ab",
   "metadata": {},
   "outputs": [],
   "source": [
    "# w.menu()"
   ]
  },
  {
   "cell_type": "code",
   "execution_count": 3,
   "id": "4317ea02",
   "metadata": {},
   "outputs": [],
   "source": [
    "data = w.wsd(\"000001.SZ\", \"high,low,close\", \"ED-10D\", \"2025-06-28\", usedf=True)\n",
    "w.stop()"
   ]
  },
  {
   "cell_type": "code",
   "execution_count": 4,
   "id": "63321504",
   "metadata": {},
   "outputs": [
    {
     "data": {
      "text/plain": [
       "(-40521010,\n",
       "                         OUTMESSAGE\n",
       " 0  CWSDService:: Internet Timeout.)"
      ]
     },
     "execution_count": 4,
     "metadata": {},
     "output_type": "execute_result"
    }
   ],
   "source": [
    "data"
   ]
  }
 ],
 "metadata": {
  "kernelspec": {
   "display_name": "Python 3",
   "language": "python",
   "name": "python3"
  },
  "language_info": {
   "codemirror_mode": {
    "name": "ipython",
    "version": 3
   },
   "file_extension": ".py",
   "mimetype": "text/x-python",
   "name": "python",
   "nbconvert_exporter": "python",
   "pygments_lexer": "ipython3",
   "version": "3.13.5"
  }
 },
 "nbformat": 4,
 "nbformat_minor": 5
}
