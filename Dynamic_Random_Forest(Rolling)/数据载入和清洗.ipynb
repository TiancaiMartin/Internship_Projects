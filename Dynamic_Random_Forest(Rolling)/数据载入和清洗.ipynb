{
 "cells": [
  {
   "cell_type": "code",
   "id": "initial_id",
   "metadata": {
    "collapsed": true,
    "ExecuteTime": {
     "end_time": "2025-06-08T12:56:20.446414Z",
     "start_time": "2025-06-08T12:56:17.723265Z"
    }
   },
   "source": [
    "import pandas as pd\n",
    "# 读取Excel文件\n",
    "data = pd.read_excel('Factors.xlsx')\n",
    "data_assets = pd.read_excel('Assets.xlsx')\n",
    "data_employees = pd.read_excel('失业率.xlsx')\n",
    "data_growth = pd.read_excel('Growth.xlsx')"
   ],
   "outputs": [],
   "execution_count": 1
  },
  {
   "metadata": {
    "ExecuteTime": {
     "end_time": "2025-06-08T12:56:20.464203Z",
     "start_time": "2025-06-08T12:56:20.457770Z"
    }
   },
   "cell_type": "code",
   "source": [
    "columns = [\n",
    "    \"Date\",\n",
    "    \"中国:制造业PMI\",\n",
    "    \"中国:GDP:现价\",\n",
    "]\n",
    "data_growth = data_growth[columns]\n",
    "data_growth = data_growth.rename(columns={\n",
    "    \"中国:制造业PMI\": \"PMI\",\n",
    "    \"中国:GDP:现价\": \"GDP_现价\"\n",
    "})\n",
    "data_growth = data_growth.set_index('Date')"
   ],
   "id": "70b16c674c226fb1",
   "outputs": [],
   "execution_count": 2
  },
  {
   "metadata": {
    "ExecuteTime": {
     "end_time": "2025-06-08T12:56:20.597718Z",
     "start_time": "2025-06-08T12:56:20.592544Z"
    }
   },
   "cell_type": "code",
   "source": [
    "columns = [\n",
    "    \"Date\",\n",
    "    \"(停止)中国:城镇登记失业率\",\n",
    "    \"中国:城镇调查失业率\",\n",
    "]\n",
    "data_employees = data_employees[columns]"
   ],
   "id": "9983a3977bb4873f",
   "outputs": [],
   "execution_count": 3
  },
  {
   "metadata": {
    "ExecuteTime": {
     "end_time": "2025-06-08T12:56:20.635397Z",
     "start_time": "2025-06-08T12:56:20.628070Z"
    }
   },
   "cell_type": "code",
   "source": "data_employees['失业率'] = data_employees['中国:城镇调查失业率'].combine_first(data_employees['(停止)中国:城镇登记失业率'])",
   "id": "cdfa128f4b032dbd",
   "outputs": [],
   "execution_count": 4
  },
  {
   "metadata": {
    "ExecuteTime": {
     "end_time": "2025-06-08T12:56:20.678532Z",
     "start_time": "2025-06-08T12:56:20.672088Z"
    }
   },
   "cell_type": "code",
   "source": [
    "data_employees = data_employees[['Date', '失业率']]\n",
    "data_employees = data_employees.set_index('Date')"
   ],
   "id": "c95e0a0acfd1e7be",
   "outputs": [],
   "execution_count": 5
  },
  {
   "metadata": {
    "ExecuteTime": {
     "end_time": "2025-06-08T12:56:20.713564Z",
     "start_time": "2025-06-08T12:56:20.709295Z"
    }
   },
   "cell_type": "code",
   "source": "# print(data.head(0))",
   "id": "be07fb3ee967602b",
   "outputs": [],
   "execution_count": 6
  },
  {
   "metadata": {
    "ExecuteTime": {
     "end_time": "2025-06-08T12:56:20.746648Z",
     "start_time": "2025-06-08T12:56:20.740912Z"
    }
   },
   "cell_type": "code",
   "source": [
    "columns = [\n",
    "    \"Date\",\n",
    "    \"中国:CPI:不包括食品和能源(核心CPI):当月同比\",\n",
    "    \"中国:CPI:定基指数\",\n",
    "    \"中债浮动利率企业债(Depo-1Y)点差曲线(AAA):1年\",\n",
    "    \"中国:固定利率国债:发行利率:10年\",\n",
    "    \"中国:固定利率国债:发行利率:3个月\",\n",
    "    \"中国:逆回购利率:7天\",\n",
    "    \"中债固定利率国债全价指数\",\n",
    "    \"中国:固定利率国债:发行利率:2年\",\n",
    "]\n",
    "\n",
    "# 重命名映射（美中对应）\n",
    "rename_map = {\n",
    "    \"中国:CPI:定基指数\": \"CPI_指数\",\n",
    "    \"中国:CPI:不包括食品和能源(核心CPI):当月同比\": \"核心CPI_指数\",\n",
    "    \"中债浮动利率企业债(Depo-1Y)点差曲线(AAA):1年\": \"AAA_公司债利率\", #中国没有BAA，所以用AAA企业债利率代替\n",
    "    \"中国:固定利率国债:发行利率:10年\": \"10Y国债利率\",\n",
    "    \"中国:固定利率国债:发行利率:3个月\": \"3M_TBill利率\",\n",
    "    \"中国:逆回购利率:7天\": \"政策利率\",\n",
    "    \"中债固定利率国债全价指数\": \"IEF\",\n",
    "    \"中国:固定利率国债:发行利率:2年\": \"2Y国债利率\",\n",
    "}"
   ],
   "id": "e868c3697cddc1ba",
   "outputs": [],
   "execution_count": 7
  },
  {
   "metadata": {
    "ExecuteTime": {
     "end_time": "2025-06-08T12:56:20.779109Z",
     "start_time": "2025-06-08T12:56:20.773319Z"
    }
   },
   "cell_type": "code",
   "source": [
    "data = data[columns]\n",
    "data = data.rename(columns=rename_map)"
   ],
   "id": "a01f7528525b5aa9",
   "outputs": [],
   "execution_count": 8
  },
  {
   "metadata": {
    "ExecuteTime": {
     "end_time": "2025-06-08T12:56:20.833395Z",
     "start_time": "2025-06-08T12:56:20.806201Z"
    }
   },
   "cell_type": "code",
   "source": "data",
   "id": "b52e1a3f954748af",
   "outputs": [
    {
     "data": {
      "text/plain": [
       "           Date  核心CPI_指数  CPI_指数  AAA_公司债利率  10Y国债利率  3M_TBill利率  政策利率  \\\n",
       "0    1990-01-31       NaN     NaN        NaN      NaN         NaN   NaN   \n",
       "1    1990-02-28       NaN     NaN        NaN      NaN         NaN   NaN   \n",
       "2    1990-03-31       NaN     NaN        NaN      NaN         NaN   NaN   \n",
       "3    1990-04-30       NaN     NaN        NaN      NaN         NaN   NaN   \n",
       "4    1990-05-31       NaN     NaN        NaN      NaN         NaN   NaN   \n",
       "...         ...       ...     ...        ...      ...         ...   ...   \n",
       "1791 2025-03-31       NaN     NaN        NaN      NaN         NaN   1.5   \n",
       "1792 2025-04-02       NaN     NaN        NaN   1.7858      1.4609   NaN   \n",
       "1793 2025-04-08       NaN     NaN        NaN      NaN         NaN   1.5   \n",
       "1794 2025-04-30       NaN     NaN        NaN      NaN         NaN   NaN   \n",
       "1795 2025-12-31       NaN     NaN        NaN      NaN         NaN   NaN   \n",
       "\n",
       "           IEF  2Y国债利率  \n",
       "0          NaN     NaN  \n",
       "1          NaN     NaN  \n",
       "2          NaN     NaN  \n",
       "3          NaN     NaN  \n",
       "4          NaN     NaN  \n",
       "...        ...     ...  \n",
       "1791  135.0405     NaN  \n",
       "1792       NaN  1.5455  \n",
       "1793  136.6403     NaN  \n",
       "1794       NaN     NaN  \n",
       "1795       NaN     NaN  \n",
       "\n",
       "[1796 rows x 9 columns]"
      ],
      "text/html": [
       "<div>\n",
       "<style scoped>\n",
       "    .dataframe tbody tr th:only-of-type {\n",
       "        vertical-align: middle;\n",
       "    }\n",
       "\n",
       "    .dataframe tbody tr th {\n",
       "        vertical-align: top;\n",
       "    }\n",
       "\n",
       "    .dataframe thead th {\n",
       "        text-align: right;\n",
       "    }\n",
       "</style>\n",
       "<table border=\"1\" class=\"dataframe\">\n",
       "  <thead>\n",
       "    <tr style=\"text-align: right;\">\n",
       "      <th></th>\n",
       "      <th>Date</th>\n",
       "      <th>核心CPI_指数</th>\n",
       "      <th>CPI_指数</th>\n",
       "      <th>AAA_公司债利率</th>\n",
       "      <th>10Y国债利率</th>\n",
       "      <th>3M_TBill利率</th>\n",
       "      <th>政策利率</th>\n",
       "      <th>IEF</th>\n",
       "      <th>2Y国债利率</th>\n",
       "    </tr>\n",
       "  </thead>\n",
       "  <tbody>\n",
       "    <tr>\n",
       "      <th>0</th>\n",
       "      <td>1990-01-31</td>\n",
       "      <td>NaN</td>\n",
       "      <td>NaN</td>\n",
       "      <td>NaN</td>\n",
       "      <td>NaN</td>\n",
       "      <td>NaN</td>\n",
       "      <td>NaN</td>\n",
       "      <td>NaN</td>\n",
       "      <td>NaN</td>\n",
       "    </tr>\n",
       "    <tr>\n",
       "      <th>1</th>\n",
       "      <td>1990-02-28</td>\n",
       "      <td>NaN</td>\n",
       "      <td>NaN</td>\n",
       "      <td>NaN</td>\n",
       "      <td>NaN</td>\n",
       "      <td>NaN</td>\n",
       "      <td>NaN</td>\n",
       "      <td>NaN</td>\n",
       "      <td>NaN</td>\n",
       "    </tr>\n",
       "    <tr>\n",
       "      <th>2</th>\n",
       "      <td>1990-03-31</td>\n",
       "      <td>NaN</td>\n",
       "      <td>NaN</td>\n",
       "      <td>NaN</td>\n",
       "      <td>NaN</td>\n",
       "      <td>NaN</td>\n",
       "      <td>NaN</td>\n",
       "      <td>NaN</td>\n",
       "      <td>NaN</td>\n",
       "    </tr>\n",
       "    <tr>\n",
       "      <th>3</th>\n",
       "      <td>1990-04-30</td>\n",
       "      <td>NaN</td>\n",
       "      <td>NaN</td>\n",
       "      <td>NaN</td>\n",
       "      <td>NaN</td>\n",
       "      <td>NaN</td>\n",
       "      <td>NaN</td>\n",
       "      <td>NaN</td>\n",
       "      <td>NaN</td>\n",
       "    </tr>\n",
       "    <tr>\n",
       "      <th>4</th>\n",
       "      <td>1990-05-31</td>\n",
       "      <td>NaN</td>\n",
       "      <td>NaN</td>\n",
       "      <td>NaN</td>\n",
       "      <td>NaN</td>\n",
       "      <td>NaN</td>\n",
       "      <td>NaN</td>\n",
       "      <td>NaN</td>\n",
       "      <td>NaN</td>\n",
       "    </tr>\n",
       "    <tr>\n",
       "      <th>...</th>\n",
       "      <td>...</td>\n",
       "      <td>...</td>\n",
       "      <td>...</td>\n",
       "      <td>...</td>\n",
       "      <td>...</td>\n",
       "      <td>...</td>\n",
       "      <td>...</td>\n",
       "      <td>...</td>\n",
       "      <td>...</td>\n",
       "    </tr>\n",
       "    <tr>\n",
       "      <th>1791</th>\n",
       "      <td>2025-03-31</td>\n",
       "      <td>NaN</td>\n",
       "      <td>NaN</td>\n",
       "      <td>NaN</td>\n",
       "      <td>NaN</td>\n",
       "      <td>NaN</td>\n",
       "      <td>1.5</td>\n",
       "      <td>135.0405</td>\n",
       "      <td>NaN</td>\n",
       "    </tr>\n",
       "    <tr>\n",
       "      <th>1792</th>\n",
       "      <td>2025-04-02</td>\n",
       "      <td>NaN</td>\n",
       "      <td>NaN</td>\n",
       "      <td>NaN</td>\n",
       "      <td>1.7858</td>\n",
       "      <td>1.4609</td>\n",
       "      <td>NaN</td>\n",
       "      <td>NaN</td>\n",
       "      <td>1.5455</td>\n",
       "    </tr>\n",
       "    <tr>\n",
       "      <th>1793</th>\n",
       "      <td>2025-04-08</td>\n",
       "      <td>NaN</td>\n",
       "      <td>NaN</td>\n",
       "      <td>NaN</td>\n",
       "      <td>NaN</td>\n",
       "      <td>NaN</td>\n",
       "      <td>1.5</td>\n",
       "      <td>136.6403</td>\n",
       "      <td>NaN</td>\n",
       "    </tr>\n",
       "    <tr>\n",
       "      <th>1794</th>\n",
       "      <td>2025-04-30</td>\n",
       "      <td>NaN</td>\n",
       "      <td>NaN</td>\n",
       "      <td>NaN</td>\n",
       "      <td>NaN</td>\n",
       "      <td>NaN</td>\n",
       "      <td>NaN</td>\n",
       "      <td>NaN</td>\n",
       "      <td>NaN</td>\n",
       "    </tr>\n",
       "    <tr>\n",
       "      <th>1795</th>\n",
       "      <td>2025-12-31</td>\n",
       "      <td>NaN</td>\n",
       "      <td>NaN</td>\n",
       "      <td>NaN</td>\n",
       "      <td>NaN</td>\n",
       "      <td>NaN</td>\n",
       "      <td>NaN</td>\n",
       "      <td>NaN</td>\n",
       "      <td>NaN</td>\n",
       "    </tr>\n",
       "  </tbody>\n",
       "</table>\n",
       "<p>1796 rows × 9 columns</p>\n",
       "</div>"
      ]
     },
     "execution_count": 9,
     "metadata": {},
     "output_type": "execute_result"
    }
   ],
   "execution_count": 9
  },
  {
   "metadata": {
    "ExecuteTime": {
     "end_time": "2025-06-08T12:56:20.930306Z",
     "start_time": "2025-06-08T12:56:20.905666Z"
    }
   },
   "cell_type": "code",
   "source": [
    "data = data.set_index('Date')\n",
    "data.index = pd.to_datetime(data.index)\n",
    "data"
   ],
   "id": "4aa860e02c44dbb0",
   "outputs": [
    {
     "data": {
      "text/plain": [
       "            核心CPI_指数  CPI_指数  AAA_公司债利率  10Y国债利率  3M_TBill利率  政策利率       IEF  \\\n",
       "Date                                                                           \n",
       "1990-01-31       NaN     NaN        NaN      NaN         NaN   NaN       NaN   \n",
       "1990-02-28       NaN     NaN        NaN      NaN         NaN   NaN       NaN   \n",
       "1990-03-31       NaN     NaN        NaN      NaN         NaN   NaN       NaN   \n",
       "1990-04-30       NaN     NaN        NaN      NaN         NaN   NaN       NaN   \n",
       "1990-05-31       NaN     NaN        NaN      NaN         NaN   NaN       NaN   \n",
       "...              ...     ...        ...      ...         ...   ...       ...   \n",
       "2025-03-31       NaN     NaN        NaN      NaN         NaN   1.5  135.0405   \n",
       "2025-04-02       NaN     NaN        NaN   1.7858      1.4609   NaN       NaN   \n",
       "2025-04-08       NaN     NaN        NaN      NaN         NaN   1.5  136.6403   \n",
       "2025-04-30       NaN     NaN        NaN      NaN         NaN   NaN       NaN   \n",
       "2025-12-31       NaN     NaN        NaN      NaN         NaN   NaN       NaN   \n",
       "\n",
       "            2Y国债利率  \n",
       "Date                \n",
       "1990-01-31     NaN  \n",
       "1990-02-28     NaN  \n",
       "1990-03-31     NaN  \n",
       "1990-04-30     NaN  \n",
       "1990-05-31     NaN  \n",
       "...            ...  \n",
       "2025-03-31     NaN  \n",
       "2025-04-02  1.5455  \n",
       "2025-04-08     NaN  \n",
       "2025-04-30     NaN  \n",
       "2025-12-31     NaN  \n",
       "\n",
       "[1796 rows x 8 columns]"
      ],
      "text/html": [
       "<div>\n",
       "<style scoped>\n",
       "    .dataframe tbody tr th:only-of-type {\n",
       "        vertical-align: middle;\n",
       "    }\n",
       "\n",
       "    .dataframe tbody tr th {\n",
       "        vertical-align: top;\n",
       "    }\n",
       "\n",
       "    .dataframe thead th {\n",
       "        text-align: right;\n",
       "    }\n",
       "</style>\n",
       "<table border=\"1\" class=\"dataframe\">\n",
       "  <thead>\n",
       "    <tr style=\"text-align: right;\">\n",
       "      <th></th>\n",
       "      <th>核心CPI_指数</th>\n",
       "      <th>CPI_指数</th>\n",
       "      <th>AAA_公司债利率</th>\n",
       "      <th>10Y国债利率</th>\n",
       "      <th>3M_TBill利率</th>\n",
       "      <th>政策利率</th>\n",
       "      <th>IEF</th>\n",
       "      <th>2Y国债利率</th>\n",
       "    </tr>\n",
       "    <tr>\n",
       "      <th>Date</th>\n",
       "      <th></th>\n",
       "      <th></th>\n",
       "      <th></th>\n",
       "      <th></th>\n",
       "      <th></th>\n",
       "      <th></th>\n",
       "      <th></th>\n",
       "      <th></th>\n",
       "    </tr>\n",
       "  </thead>\n",
       "  <tbody>\n",
       "    <tr>\n",
       "      <th>1990-01-31</th>\n",
       "      <td>NaN</td>\n",
       "      <td>NaN</td>\n",
       "      <td>NaN</td>\n",
       "      <td>NaN</td>\n",
       "      <td>NaN</td>\n",
       "      <td>NaN</td>\n",
       "      <td>NaN</td>\n",
       "      <td>NaN</td>\n",
       "    </tr>\n",
       "    <tr>\n",
       "      <th>1990-02-28</th>\n",
       "      <td>NaN</td>\n",
       "      <td>NaN</td>\n",
       "      <td>NaN</td>\n",
       "      <td>NaN</td>\n",
       "      <td>NaN</td>\n",
       "      <td>NaN</td>\n",
       "      <td>NaN</td>\n",
       "      <td>NaN</td>\n",
       "    </tr>\n",
       "    <tr>\n",
       "      <th>1990-03-31</th>\n",
       "      <td>NaN</td>\n",
       "      <td>NaN</td>\n",
       "      <td>NaN</td>\n",
       "      <td>NaN</td>\n",
       "      <td>NaN</td>\n",
       "      <td>NaN</td>\n",
       "      <td>NaN</td>\n",
       "      <td>NaN</td>\n",
       "    </tr>\n",
       "    <tr>\n",
       "      <th>1990-04-30</th>\n",
       "      <td>NaN</td>\n",
       "      <td>NaN</td>\n",
       "      <td>NaN</td>\n",
       "      <td>NaN</td>\n",
       "      <td>NaN</td>\n",
       "      <td>NaN</td>\n",
       "      <td>NaN</td>\n",
       "      <td>NaN</td>\n",
       "    </tr>\n",
       "    <tr>\n",
       "      <th>1990-05-31</th>\n",
       "      <td>NaN</td>\n",
       "      <td>NaN</td>\n",
       "      <td>NaN</td>\n",
       "      <td>NaN</td>\n",
       "      <td>NaN</td>\n",
       "      <td>NaN</td>\n",
       "      <td>NaN</td>\n",
       "      <td>NaN</td>\n",
       "    </tr>\n",
       "    <tr>\n",
       "      <th>...</th>\n",
       "      <td>...</td>\n",
       "      <td>...</td>\n",
       "      <td>...</td>\n",
       "      <td>...</td>\n",
       "      <td>...</td>\n",
       "      <td>...</td>\n",
       "      <td>...</td>\n",
       "      <td>...</td>\n",
       "    </tr>\n",
       "    <tr>\n",
       "      <th>2025-03-31</th>\n",
       "      <td>NaN</td>\n",
       "      <td>NaN</td>\n",
       "      <td>NaN</td>\n",
       "      <td>NaN</td>\n",
       "      <td>NaN</td>\n",
       "      <td>1.5</td>\n",
       "      <td>135.0405</td>\n",
       "      <td>NaN</td>\n",
       "    </tr>\n",
       "    <tr>\n",
       "      <th>2025-04-02</th>\n",
       "      <td>NaN</td>\n",
       "      <td>NaN</td>\n",
       "      <td>NaN</td>\n",
       "      <td>1.7858</td>\n",
       "      <td>1.4609</td>\n",
       "      <td>NaN</td>\n",
       "      <td>NaN</td>\n",
       "      <td>1.5455</td>\n",
       "    </tr>\n",
       "    <tr>\n",
       "      <th>2025-04-08</th>\n",
       "      <td>NaN</td>\n",
       "      <td>NaN</td>\n",
       "      <td>NaN</td>\n",
       "      <td>NaN</td>\n",
       "      <td>NaN</td>\n",
       "      <td>1.5</td>\n",
       "      <td>136.6403</td>\n",
       "      <td>NaN</td>\n",
       "    </tr>\n",
       "    <tr>\n",
       "      <th>2025-04-30</th>\n",
       "      <td>NaN</td>\n",
       "      <td>NaN</td>\n",
       "      <td>NaN</td>\n",
       "      <td>NaN</td>\n",
       "      <td>NaN</td>\n",
       "      <td>NaN</td>\n",
       "      <td>NaN</td>\n",
       "      <td>NaN</td>\n",
       "    </tr>\n",
       "    <tr>\n",
       "      <th>2025-12-31</th>\n",
       "      <td>NaN</td>\n",
       "      <td>NaN</td>\n",
       "      <td>NaN</td>\n",
       "      <td>NaN</td>\n",
       "      <td>NaN</td>\n",
       "      <td>NaN</td>\n",
       "      <td>NaN</td>\n",
       "      <td>NaN</td>\n",
       "    </tr>\n",
       "  </tbody>\n",
       "</table>\n",
       "<p>1796 rows × 8 columns</p>\n",
       "</div>"
      ]
     },
     "execution_count": 10,
     "metadata": {},
     "output_type": "execute_result"
    }
   ],
   "execution_count": 10
  },
  {
   "metadata": {
    "ExecuteTime": {
     "end_time": "2025-06-08T12:56:21.026176Z",
     "start_time": "2025-06-08T12:56:21.017427Z"
    }
   },
   "cell_type": "code",
   "source": [
    "columns = [\n",
    "    \"Date\",\n",
    "    \"INE原油\",\n",
    "    \"沪深300\",\n",
    "    \"SHFE黄金\"\n",
    "]\n",
    "\n",
    "# 重命名映射（美中对应）\n",
    "rename_map = {\n",
    "    \"INE原油\": \"WTI\",\n",
    "    \"SHFE黄金\": \"GLD\",\n",
    "    \"沪深300\": \"HS300\"\n",
    "}\n",
    "data_assets = data_assets[columns]\n",
    "data_assets = data_assets.rename(columns=rename_map)\n",
    "data_assets = data_assets.set_index('Date')"
   ],
   "id": "53a171412630549f",
   "outputs": [],
   "execution_count": 11
  },
  {
   "metadata": {
    "ExecuteTime": {
     "end_time": "2025-06-08T12:56:21.411373Z",
     "start_time": "2025-06-08T12:56:21.397883Z"
    }
   },
   "cell_type": "code",
   "source": [
    "# 将data_assets的索引转换为datetime格式\n",
    "data_assets.index = pd.to_datetime(data_assets.index)"
   ],
   "id": "cb918fb82e3f6383",
   "outputs": [],
   "execution_count": 12
  },
  {
   "metadata": {
    "ExecuteTime": {
     "end_time": "2025-06-08T12:56:21.533562Z",
     "start_time": "2025-06-08T12:56:21.513742Z"
    }
   },
   "cell_type": "code",
   "source": [
    "# 将日频数据转换为月频数据\n",
    "data_assets = data_assets.resample('ME').last()"
   ],
   "id": "3c2e9700a30b1050",
   "outputs": [],
   "execution_count": 13
  },
  {
   "metadata": {
    "ExecuteTime": {
     "end_time": "2025-06-08T12:56:21.688666Z",
     "start_time": "2025-06-08T12:56:21.663136Z"
    }
   },
   "cell_type": "code",
   "source": "data_assets",
   "id": "e1c7cb7b0cc12e3b",
   "outputs": [
    {
     "data": {
      "text/plain": [
       "              WTI      HS300     GLD\n",
       "Date                                \n",
       "2000-01-31    NaN        NaN     NaN\n",
       "2000-02-29    NaN        NaN     NaN\n",
       "2000-03-31    NaN        NaN     NaN\n",
       "2000-04-30    NaN        NaN     NaN\n",
       "2000-05-31    NaN        NaN     NaN\n",
       "...           ...        ...     ...\n",
       "2024-12-31  559.9  3934.9109  617.60\n",
       "2025-01-31  602.4  3817.0802  647.54\n",
       "2025-02-28  540.0  3890.0487  672.12\n",
       "2025-03-31  537.5  3887.3056  729.80\n",
       "2025-04-30  472.8  3750.5167  757.30\n",
       "\n",
       "[304 rows x 3 columns]"
      ],
      "text/html": [
       "<div>\n",
       "<style scoped>\n",
       "    .dataframe tbody tr th:only-of-type {\n",
       "        vertical-align: middle;\n",
       "    }\n",
       "\n",
       "    .dataframe tbody tr th {\n",
       "        vertical-align: top;\n",
       "    }\n",
       "\n",
       "    .dataframe thead th {\n",
       "        text-align: right;\n",
       "    }\n",
       "</style>\n",
       "<table border=\"1\" class=\"dataframe\">\n",
       "  <thead>\n",
       "    <tr style=\"text-align: right;\">\n",
       "      <th></th>\n",
       "      <th>WTI</th>\n",
       "      <th>HS300</th>\n",
       "      <th>GLD</th>\n",
       "    </tr>\n",
       "    <tr>\n",
       "      <th>Date</th>\n",
       "      <th></th>\n",
       "      <th></th>\n",
       "      <th></th>\n",
       "    </tr>\n",
       "  </thead>\n",
       "  <tbody>\n",
       "    <tr>\n",
       "      <th>2000-01-31</th>\n",
       "      <td>NaN</td>\n",
       "      <td>NaN</td>\n",
       "      <td>NaN</td>\n",
       "    </tr>\n",
       "    <tr>\n",
       "      <th>2000-02-29</th>\n",
       "      <td>NaN</td>\n",
       "      <td>NaN</td>\n",
       "      <td>NaN</td>\n",
       "    </tr>\n",
       "    <tr>\n",
       "      <th>2000-03-31</th>\n",
       "      <td>NaN</td>\n",
       "      <td>NaN</td>\n",
       "      <td>NaN</td>\n",
       "    </tr>\n",
       "    <tr>\n",
       "      <th>2000-04-30</th>\n",
       "      <td>NaN</td>\n",
       "      <td>NaN</td>\n",
       "      <td>NaN</td>\n",
       "    </tr>\n",
       "    <tr>\n",
       "      <th>2000-05-31</th>\n",
       "      <td>NaN</td>\n",
       "      <td>NaN</td>\n",
       "      <td>NaN</td>\n",
       "    </tr>\n",
       "    <tr>\n",
       "      <th>...</th>\n",
       "      <td>...</td>\n",
       "      <td>...</td>\n",
       "      <td>...</td>\n",
       "    </tr>\n",
       "    <tr>\n",
       "      <th>2024-12-31</th>\n",
       "      <td>559.9</td>\n",
       "      <td>3934.9109</td>\n",
       "      <td>617.60</td>\n",
       "    </tr>\n",
       "    <tr>\n",
       "      <th>2025-01-31</th>\n",
       "      <td>602.4</td>\n",
       "      <td>3817.0802</td>\n",
       "      <td>647.54</td>\n",
       "    </tr>\n",
       "    <tr>\n",
       "      <th>2025-02-28</th>\n",
       "      <td>540.0</td>\n",
       "      <td>3890.0487</td>\n",
       "      <td>672.12</td>\n",
       "    </tr>\n",
       "    <tr>\n",
       "      <th>2025-03-31</th>\n",
       "      <td>537.5</td>\n",
       "      <td>3887.3056</td>\n",
       "      <td>729.80</td>\n",
       "    </tr>\n",
       "    <tr>\n",
       "      <th>2025-04-30</th>\n",
       "      <td>472.8</td>\n",
       "      <td>3750.5167</td>\n",
       "      <td>757.30</td>\n",
       "    </tr>\n",
       "  </tbody>\n",
       "</table>\n",
       "<p>304 rows × 3 columns</p>\n",
       "</div>"
      ]
     },
     "execution_count": 14,
     "metadata": {},
     "output_type": "execute_result"
    }
   ],
   "execution_count": 14
  },
  {
   "metadata": {
    "ExecuteTime": {
     "end_time": "2025-06-08T12:56:21.847750Z",
     "start_time": "2025-06-08T12:56:21.829300Z"
    }
   },
   "cell_type": "code",
   "source": [
    "# 将data和data_assets, data_employees按日期合并\n",
    "data = data.merge(data_assets, left_index=True, right_index=True, how='left')\n",
    "data = data.merge(data_employees, left_index=True, right_index=True, how='left')\n",
    "data = data.merge(data_growth, left_index=True, right_index=True, how='left')"
   ],
   "id": "a0b6ea6c7d52c5e0",
   "outputs": [],
   "execution_count": 15
  },
  {
   "metadata": {
    "ExecuteTime": {
     "end_time": "2025-06-08T12:56:21.959060Z",
     "start_time": "2025-06-08T12:56:21.937907Z"
    }
   },
   "cell_type": "code",
   "source": [
    "# 使用线形插值法填充季度数据的缺失值\n",
    "data = data.interpolate(method='linear')"
   ],
   "id": "2a0646d5f957431e",
   "outputs": [],
   "execution_count": 16
  },
  {
   "metadata": {
    "ExecuteTime": {
     "end_time": "2025-06-08T12:56:23.384650Z",
     "start_time": "2025-06-08T12:56:22.028988Z"
    }
   },
   "cell_type": "code",
   "source": [
    "# 绘制清晰好的数据的图表\n",
    "import matplotlib.pyplot as plt\n",
    "plt.rcParams['font.sans-serif'] = ['Songti SC']  # 中文支持\n",
    "plt.rcParams['axes.unicode_minus'] = False       # 负号显示\n",
    "data[['CPI_指数', '10Y国债利率', '3M_TBill利率', '政策利率', '失业率']].plot(figsize=(12, 8))\n",
    "plt.title('中国宏观经济指标')\n",
    "plt.xlabel('日期')\n",
    "plt.ylabel('指标值')\n",
    "plt.legend()\n",
    "plt.grid()\n",
    "plt.show()"
   ],
   "id": "92c18c39a7252c5e",
   "outputs": [
    {
     "data": {
      "text/plain": [
       "<Figure size 1200x800 with 1 Axes>"
      ],
      "image/png": "[encoded data removed]"
     },
     "metadata": {},
     "output_type": "display_data"
    }
   ],
   "execution_count": 17
  },
  {
   "metadata": {
    "ExecuteTime": {
     "end_time": "2025-06-08T12:56:23.456858Z",
     "start_time": "2025-06-08T12:56:23.415951Z"
    }
   },
   "cell_type": "code",
   "source": [
    "# 导出为csv文件\n",
    "data.to_csv('data_China.csv')"
   ],
   "id": "b10d35ec2f013a77",
   "outputs": [],
   "execution_count": 18
  }
 ],
 "metadata": {
  "kernelspec": {
   "display_name": "Python 3",
   "language": "python",
   "name": "python3"
  },
  "language_info": {
   "codemirror_mode": {
    "name": "ipython",
    "version": 2
   },
   "file_extension": ".py",
   "mimetype": "text/x-python",
   "name": "python",
   "nbconvert_exporter": "python",
   "pygments_lexer": "ipython2",
   "version": "2.7.6"
  }
 },
 "nbformat": 4,
 "nbformat_minor": 5
}
