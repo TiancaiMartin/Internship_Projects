{
 "cells": [
  {
   "cell_type": "code",
   "metadata": {},
   "source": [
    "import numpy as np\n",
    "import pandas as pd\n",
    "from scipy.spatial import distance\n",
    "from nolds import lyap_r\n",
    "import empyrical as ep\n",
    "import matplotlib.pyplot as plt"
   ],
   "outputs": [],
   "execution_count": null
  },
  {
   "cell_type": "code",
   "metadata": {},
   "source": [
    "univ01 = ['AG', 'AL', 'NI', 'ZN',\n",
    "        'RB', 'HC', 'I', 'J', 'JM', 'FG',\n",
    "        'BU', 'L', 'MA', 'PP', 'RU', 'V', 'TA', 'FU', 'EG', 'SP',\n",
    "        'A', 'M', 'P', 'OI', 'Y', 'SR', 'CF', 'C', 'RM']\n",
    "\n",
    "univ02 = ['AG', 'AL', 'NI', 'ZN',\n",
    "            'RB', 'HC', 'I', 'J', 'JM', 'FG',\n",
    "            'BU', 'L', 'MA', 'PP', 'RU', 'V', 'TA', 'FU', 'EG', 'SP',\n",
    "            'A', 'M', 'P', 'OI', 'Y', 'SR', 'CF', 'C', 'RM','CU','PB','SN','SF','SM','AP','SA']\n",
    "\n",
    "univ_nonferrous = ['CU','AL','NI','ZN','PB','SN']\n",
    "univ_black = ['RB','I','HC','J','JM','FG','SF','SM','SA']\n",
    "univ_chemic = ['FU','BU','RU','L','TA','V','EG','MA','PP']\n",
    "univ_agri = ['A','AP','C', 'CF', 'CS', 'JD', 'M', 'OI', 'P', 'RM', 'SR', 'Y']\n",
    "univ_precious = ['AU','AG']"
   ],
   "outputs": [],
   "execution_count": null
  },
  {
   "cell_type": "code",
   "metadata": {},
   "source": [
    "#行情数据\n",
    "sec_post_1d_df = pd.read_pickle(r'/Users/tiancaixiaohuoban/Desktop/实习/买方实习/中信建投期货（金融工程）/策略设计/dom_cont_post_1d')\n",
    "sec_post_1d_df"
   ],
   "outputs": [],
   "execution_count": null
  },
  {
   "cell_type": "code",
   "metadata": {},
   "source": [
    "# 生成交易信号\n",
    "def generate_signal_for_df(df, ma_windows, slope_window):\n",
    "    # 计算斜率\n",
    "    df['Slope'] = df['lyp'].diff(slope_window)\n",
    "    # 使用均线辅助判断趋势方向，这里使用简单移动平均\n",
    "    # 计算均线\n",
    "    for ma_window in ma_windows:\n",
    "        df[f'MA_{ma_window}'] = df['close'].rolling(window=ma_window).mean()\n",
    "    # 清除含空值的行\n",
    "    # 构造基础交易信号\n",
    "    # 当长期均线低于短期均线时，标记为潜在进场时机，即1.0，否则为0\n",
    "    df['signal'] = np.where(df['MA_12'] > df['MA_30'], 1.0, 0.0)\n",
    "    result = df\n",
    "    for i in range(1,len(result)):\n",
    "        row_index = result.index[i]\n",
    "        # 系统混沌程度出现下降趋势，市场行情明朗，且具有潜在进场机会，说明应该买入\n",
    "        if (result.loc[row_index,'Slope'] < 0) and (result.loc[row_index,'signal'] == 1):\n",
    "             result.loc[row_index,'Signal'] = 1\n",
    "        # 系统混沌程度出现下降趋势，市场行情明朗，且具有下行趋势，说明应该卖出\n",
    "        if (result.loc[row_index,'Slope'] < 0) and (result.loc[row_index,'signal'] == 0):\n",
    "             result.loc[row_index,'Signal'] = -1\n",
    "    result['Signal'] = result['Signal'].fillna(0)\n",
    "    return result['Signal']"
   ],
   "outputs": [],
   "execution_count": null
  },
  {
   "cell_type": "code",
   "metadata": {},
   "source": [
    "# 指定计算李雅普诺夫指数的时间延迟和嵌入维度\n",
    "time_delay = 10\n",
    "embedding_dimension = 1\n",
    "# 制定均线计算窗口\n",
    "ma_windows = [12, 18, 24, 30]\n",
    "# 设定斜率计算窗口\n",
    "slope_window = 144"
   ],
   "outputs": [],
   "execution_count": null
  },
  {
   "cell_type": "code",
   "metadata": {},
   "source": [
    "# 循环产生信号\n",
    "for asset in univ01:\n",
    "    print(asset)\n",
    "    df = sec_post_1d_df.loc[asset].T\n",
    "    if (asset=='AG'):\n",
    "        # 计算最大李雅普诺夫指数\n",
    "        df['lyp'] = df['close'].rolling(window=144).apply(lambda x: lyap_r(x,emb_dim=embedding_dimension, lag=time_delay))\n",
    "        test_signal_df = generate_signal_for_df(df, ma_windows, slope_window)\n",
    "         # 产生信号\n",
    "        continue\n",
    "    # 计算最大李雅普诺夫指数\n",
    "    df['lyp'] = df['close'].rolling(window=144).apply(lambda x: lyap_r(x,emb_dim=embedding_dimension, lag=time_delay))\n",
    "    df_signal = generate_signal_for_df(df, ma_windows, slope_window)\n",
    "    test_signal_df = pd.concat([test_signal_df, df_signal], axis=1)"
   ],
   "outputs": [],
   "execution_count": null
  },
  {
   "cell_type": "code",
   "metadata": {},
   "source": [
    "test_signal_df = test_signal_df.fillna(0)\n",
    "test_signal_df.columns = univ01\n",
    "test_signal_df = test_signal_df.T"
   ],
   "outputs": [],
   "execution_count": null
  },
  {
   "cell_type": "code",
   "metadata": {},
   "source": [
    "test_signal_df"
   ],
   "outputs": [],
   "execution_count": null
  },
  {
   "cell_type": "code",
   "metadata": {},
   "source": [
    "test_sig_df = test_signal_df"
   ],
   "outputs": [],
   "execution_count": null
  },
  {
   "cell_type": "code",
   "metadata": {},
   "source": [
    "#收益率序列\n",
    "pct_df = sec_post_1d_df.xs('close',level=1).pct_change(axis=1).reindex(test_sig_df.index)\n",
    "#手续费\n",
    "fee_df = abs(test_sig_df.diff(axis=1).fillna(0))*1e-4 #单边万一的手续费\n",
    "#当天的信号作用到第二天，用close计算出来的收益率，shift-1.  \n",
    "pnl_seires = ((pct_df.shift(-1,axis=1).fillna(0)*test_sig_df-fee_df).mean()+1).cumprod()\n",
    "pnl_seires.plot()"
   ],
   "outputs": [],
   "execution_count": null
  },
  {
   "cell_type": "code",
   "metadata": {},
   "source": [
    "return_df = (pct_df.shift(-1,axis=1).fillna(0)*test_sig_df-fee_df).mean()\n",
    "#通过Empyrical 计算夏普等绩效指标。无风险利率取0% \n",
    "total_return = ep.cum_returns_final(return_df)\n",
    "annualized_return = ep.annual_return(return_df)\n",
    "max_drawdown = ep.max_drawdown(return_df)\n",
    "sharpe_ratio = ep.sharpe_ratio(return_df)\n",
    "# Print performance metrics\n",
    "print(f\"Total Return: {total_return:.2%}\")\n",
    "print(f\"Annualized Return: {annualized_return:.2%}\")\n",
    "print(f\"Max Drawdown: {max_drawdown:.2%}\")\n",
    "print(f\"Sharpe Ratio: {sharpe_ratio:.4f}\")"
   ],
   "outputs": [],
   "execution_count": null
  },
  {
   "cell_type": "code",
   "metadata": {},
   "source": [],
   "outputs": [],
   "execution_count": null
  },
  {
   "cell_type": "code",
   "metadata": {},
   "source": [],
   "outputs": [],
   "execution_count": null
  }
 ],
 "metadata": {
  "kernelspec": {
   "display_name": "Python 3",
   "language": "python",
   "name": "python3"
  },
  "language_info": {
   "codemirror_mode": {
    "name": "ipython",
    "version": 3
   },
   "file_extension": ".py",
   "mimetype": "text/x-python",
   "name": "python",
   "nbconvert_exporter": "python",
   "pygments_lexer": "ipython3",
   "version": "3.8.5"
  }
 },
 "nbformat": 4,
 "nbformat_minor": 4
}
